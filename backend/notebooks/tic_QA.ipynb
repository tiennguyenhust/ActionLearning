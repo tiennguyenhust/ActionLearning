{
 "metadata": {
  "language_info": {
   "codemirror_mode": {
    "name": "ipython",
    "version": 3
   },
   "file_extension": ".py",
   "mimetype": "text/x-python",
   "name": "python",
   "nbconvert_exporter": "python",
   "pygments_lexer": "ipython3",
   "version": "3.8.8"
  },
  "orig_nbformat": 4,
  "kernelspec": {
   "name": "python3",
   "display_name": "Python 3.8.8 64-bit ('ActionLearning': conda)"
  },
  "interpreter": {
   "hash": "a4f6b51073b57949df80cfc4938bf02c871228ac6fd034bfdeb087c892e0bd13"
  }
 },
 "nbformat": 4,
 "nbformat_minor": 2,
 "cells": [
  {
   "source": [
    "# Calculating ticket quality\n",
    "based on article tic_QA.pdf"
   ],
   "cell_type": "markdown",
   "metadata": {}
  },
  {
   "source": [
    "There are four main categories:\n",
    "- Character-level features: A low-quality ticket resolution might include a large number of unexpected characters, such as space, wrong or excessive capitalization, and special characters.\n",
    "- Entity-level features: A high-quality ticket resolution is expected to provide information on IT-related entities, such as server name, file path, IP address, and so forth. Because the ticket resolutions are expected to guide system administrators to solve the problem specified in the ticket summary, the presence of the context- relevant entities makes the resolution text more useful.\n",
    "- Semantic-level features: A high-quality ticket resolution typically includes Verb and Noun, which explicitly guides system administrators on the actions taken to diagnose the problem and to resolve the ticket.\n",
    "- Attribute-level features: A high-quality ticket resolution usually is lengthy enough to carry sufficient information relevant to the problem described in the ticket summary.\n",
    "\n",
    "The ticket resolution quality quantifier uses these 4 groups of features and operates on the historical tickets to output a set of triplets{<s1,r1,q1 >,<s2,r2,q2 >,...,<sn,rn,qn >}wheresi and ri are ticket summary and ticket resolution for the ith ticket, and qi is the quality score assigned by the quantifier."
   ],
   "cell_type": "markdown",
   "metadata": {}
  },
  {
   "source": [
    "## Imports"
   ],
   "cell_type": "markdown",
   "metadata": {}
  },
  {
   "cell_type": "code",
   "execution_count": 6,
   "metadata": {},
   "outputs": [],
   "source": [
    "import pandas as pd\n",
    "import numpy as np"
   ]
  },
  {
   "source": [
    "## Loading data"
   ],
   "cell_type": "markdown",
   "metadata": {}
  },
  {
   "source": [
    "functions to get the amount of characters of certain fields"
   ],
   "cell_type": "markdown",
   "metadata": {}
  },
  {
   "cell_type": "code",
   "execution_count": 144,
   "metadata": {},
   "outputs": [],
   "source": [
    "def remove_nan(dataframe: pd.DataFrame, column: str, char=''):\n",
    "    dataframe[column] = dataframe[column].replace(np.nan, char, regex=True)\n",
    "    return dataframe\n",
    "\n",
    "def add_column_length(dataframe: pd.DataFrame, target_column: str, new_column_name: str=None, new_column_position: int=None, char='') -> pd.DataFrame:\n",
    "    if new_column_name is None:\n",
    "        new_column_name = target_column + ' length'\n",
    "    if new_column_position is None:\n",
    "        cols = dataframe.columns.tolist()\n",
    "        id = cols.index(target_column)\n",
    "        new_column_position = id + 1\n",
    "    \n",
    "    dataframe = remove_nan(dataframe, column=target_column, char=char)\n",
    "    dataframe[new_column_name] = dataframe.apply(lambda x: len(x[target_column]), axis=1)\n",
    "    if new_column_position != -1:\n",
    "        cols = dataframe.columns.tolist()\n",
    "        cols.insert(new_column_position, cols[-1])\n",
    "        cols.pop(-1)\n",
    "        dataframe = dataframe[cols]\n",
    "    return dataframe\n"
   ]
  },
  {
   "cell_type": "code",
   "execution_count": 145,
   "metadata": {},
   "outputs": [
    {
     "output_type": "execute_result",
     "data": {
      "text/plain": [
       "            Number       Priority  \\\n",
       "0       INC0284448      P2 - High   \n",
       "1       INC0284449       P4 - Low   \n",
       "2       INC0180368      P2 - High   \n",
       "3       INC0180373  P3 - Moderate   \n",
       "4       INC0180380  P3 - Moderate   \n",
       "...            ...            ...   \n",
       "117240  INC0438584       P4 - Low   \n",
       "117241  INC0438587  P3 - Moderate   \n",
       "117242  INC0440299       P4 - Low   \n",
       "117243  INC0440766       P4 - Low   \n",
       "117244  INC0441871       P4 - Low   \n",
       "\n",
       "                                            Incident_area        Opened  \\\n",
       "0                             SAP :: Sonda Procwork (PRW)  44013.002951   \n",
       "1                                        SAP :: Technical  44013.003183   \n",
       "2       Infrastructure & Servers :: Server (physical/v...  43831.011447   \n",
       "3                              SAP :: Order to Cash (OTC)  43831.132951   \n",
       "4                          Business Application :: Google  43831.405255   \n",
       "...                                                   ...           ...   \n",
       "117240                       User Workplace :: Desk Phone  44307.926146   \n",
       "117241                          User Workplace :: Printer  44307.933252   \n",
       "117242  Internet, network & remote access :: LAN infra...  44312.497905   \n",
       "117243           Internet, network & remote access :: OBS  44312.896644   \n",
       "117244           Internet, network & remote access :: WAN  44314.706007   \n",
       "\n",
       "              Closed  Status Problem Configuration_item  \\\n",
       "0       44024.875023  Closed     NaN                NaN   \n",
       "1       44023.083368  Closed     NaN        SAP-ECC-PRD   \n",
       "2       43842.500012  Closed     NaN       GOYCSM0001DC   \n",
       "3       43871.625023  Closed     NaN                NaN   \n",
       "4       43841.416678  Closed     NaN                NaN   \n",
       "...              ...     ...     ...                ...   \n",
       "117240  44317.958345  Closed     NaN                NaN   \n",
       "117241  44317.958345  Closed     NaN                NaN   \n",
       "117242  44312.521979  Closed     NaN         GKYNYF0001   \n",
       "117243  44316.664167  Closed     NaN         GHSNYF0002   \n",
       "117244  44315.664734  Closed     NaN         GARNYF0001   \n",
       "\n",
       "                                        Short_description  \\\n",
       "0                                        VF - Not working   \n",
       "1                                     Enqueue Processing    \n",
       "2       GOYCSMDC.ds.givaudan.com (Server does not comm...   \n",
       "3                       I cant connect to ESKER PRD & UAT   \n",
       "4       I cannot access my google drive shortcut from ...   \n",
       "...                                                   ...   \n",
       "117240                             Telephone connectivity   \n",
       "117241                           actualizacion de drivers   \n",
       "117242                                                      \n",
       "117243  Secondary firewall blocking all traffic; zone ...   \n",
       "117244  All NTI Fortigates  - Block site www.ammyy.com...   \n",
       "\n",
       "        Short_description_length  \\\n",
       "0                             16   \n",
       "1                             19   \n",
       "2                            151   \n",
       "3                             33   \n",
       "4                             56   \n",
       "...                          ...   \n",
       "117240                        22   \n",
       "117241                        24   \n",
       "117242                         0   \n",
       "117243                        63   \n",
       "117244                        55   \n",
       "\n",
       "                                              Description  Description_length  \\\n",
       "0       Please, the transaction VF is not working, we ...                 104   \n",
       "1       Alert Details: Name....................Enqueue...                 479   \n",
       "2       Dear Team,We received a ticket from our monito...                2090   \n",
       "3       I already got access for ESKER QA, UAT & PRD. ...                 569   \n",
       "4       I cannot access my google drive shortcut from ...                 103   \n",
       "...                                                   ...                 ...   \n",
       "117240  Could you help me reviewing telephone connecti...                 108   \n",
       "117241  >> Full details from \"Requested by\" :impresora...                 246   \n",
       "117242                                                                      0   \n",
       "117243  Investigating some issues at the site, William...                 393   \n",
       "117244  Hello OBS team,Could you add a rule to block t...                 154   \n",
       "\n",
       "                           Assignment_group  \\\n",
       "0              IMT APS SAP Order to Cash L2   \n",
       "1                         IMT TCS SAP Basis   \n",
       "2                          IMT NLI Ops EAME   \n",
       "3       IMT Desktop Infra Support Indonesia   \n",
       "4                      IMT Service Desk AME   \n",
       "...                                     ...   \n",
       "117240            IMT Service Desk Colombia   \n",
       "117241              IMT Service Desk Mexico   \n",
       "117242                   IMT NLI Ops Orange   \n",
       "117243                     IMT NLI Ops AMER   \n",
       "117244                   IMT NLI Ops Orange   \n",
       "\n",
       "                                         Resolution_notes  Resolution_length  \\\n",
       "0       Hello Daniel,Many thanks for your reply, at ti...                247   \n",
       "1       Monitoring the lock entries in P via incident ...                105   \n",
       "2       There was a planned maintenance onsite that wa...                105   \n",
       "3                         User confirmed issue was solved                 31   \n",
       "4       User G drive was inactive, i reconfigured it, ...                 90   \n",
       "...                                                   ...                ...   \n",
       "117240                                                                     0   \n",
       "117241  se actualizaron los drivers de impresoras soli...                 55   \n",
       "117242                                                                     0   \n",
       "117243                                                                     0   \n",
       "117244                                                                     0   \n",
       "\n",
       "        Reassignment_count  Resolve_time  \n",
       "0                      1.0      158300.0  \n",
       "1                      0.0        5694.0  \n",
       "2                      1.0      126566.0  \n",
       "3                      3.0     1919058.0  \n",
       "4                      0.0         128.0  \n",
       "...                    ...           ...  \n",
       "117240                 0.0         381.0  \n",
       "117241                 0.0          53.0  \n",
       "117242                 1.0        2080.0  \n",
       "117243                 7.0      325514.0  \n",
       "117244                 2.0       82834.0  \n",
       "\n",
       "[117244 rows x 17 columns]"
      ],
      "text/html": "<div>\n<style scoped>\n    .dataframe tbody tr th:only-of-type {\n        vertical-align: middle;\n    }\n\n    .dataframe tbody tr th {\n        vertical-align: top;\n    }\n\n    .dataframe thead th {\n        text-align: right;\n    }\n</style>\n<table border=\"1\" class=\"dataframe\">\n  <thead>\n    <tr style=\"text-align: right;\">\n      <th></th>\n      <th>Number</th>\n      <th>Priority</th>\n      <th>Incident_area</th>\n      <th>Opened</th>\n      <th>Closed</th>\n      <th>Status</th>\n      <th>Problem</th>\n      <th>Configuration_item</th>\n      <th>Short_description</th>\n      <th>Short_description_length</th>\n      <th>Description</th>\n      <th>Description_length</th>\n      <th>Assignment_group</th>\n      <th>Resolution_notes</th>\n      <th>Resolution_length</th>\n      <th>Reassignment_count</th>\n      <th>Resolve_time</th>\n    </tr>\n  </thead>\n  <tbody>\n    <tr>\n      <th>0</th>\n      <td>INC0284448</td>\n      <td>P2 - High</td>\n      <td>SAP :: Sonda Procwork (PRW)</td>\n      <td>44013.002951</td>\n      <td>44024.875023</td>\n      <td>Closed</td>\n      <td>NaN</td>\n      <td>NaN</td>\n      <td>VF - Not working</td>\n      <td>16</td>\n      <td>Please, the transaction VF is not working, we ...</td>\n      <td>104</td>\n      <td>IMT APS SAP Order to Cash L2</td>\n      <td>Hello Daniel,Many thanks for your reply, at ti...</td>\n      <td>247</td>\n      <td>1.0</td>\n      <td>158300.0</td>\n    </tr>\n    <tr>\n      <th>1</th>\n      <td>INC0284449</td>\n      <td>P4 - Low</td>\n      <td>SAP :: Technical</td>\n      <td>44013.003183</td>\n      <td>44023.083368</td>\n      <td>Closed</td>\n      <td>NaN</td>\n      <td>SAP-ECC-PRD</td>\n      <td>Enqueue Processing</td>\n      <td>19</td>\n      <td>Alert Details: Name....................Enqueue...</td>\n      <td>479</td>\n      <td>IMT TCS SAP Basis</td>\n      <td>Monitoring the lock entries in P via incident ...</td>\n      <td>105</td>\n      <td>0.0</td>\n      <td>5694.0</td>\n    </tr>\n    <tr>\n      <th>2</th>\n      <td>INC0180368</td>\n      <td>P2 - High</td>\n      <td>Infrastructure &amp; Servers :: Server (physical/v...</td>\n      <td>43831.011447</td>\n      <td>43842.500012</td>\n      <td>Closed</td>\n      <td>NaN</td>\n      <td>GOYCSM0001DC</td>\n      <td>GOYCSMDC.ds.givaudan.com (Server does not comm...</td>\n      <td>151</td>\n      <td>Dear Team,We received a ticket from our monito...</td>\n      <td>2090</td>\n      <td>IMT NLI Ops EAME</td>\n      <td>There was a planned maintenance onsite that wa...</td>\n      <td>105</td>\n      <td>1.0</td>\n      <td>126566.0</td>\n    </tr>\n    <tr>\n      <th>3</th>\n      <td>INC0180373</td>\n      <td>P3 - Moderate</td>\n      <td>SAP :: Order to Cash (OTC)</td>\n      <td>43831.132951</td>\n      <td>43871.625023</td>\n      <td>Closed</td>\n      <td>NaN</td>\n      <td>NaN</td>\n      <td>I cant connect to ESKER PRD &amp; UAT</td>\n      <td>33</td>\n      <td>I already got access for ESKER QA, UAT &amp; PRD. ...</td>\n      <td>569</td>\n      <td>IMT Desktop Infra Support Indonesia</td>\n      <td>User confirmed issue was solved</td>\n      <td>31</td>\n      <td>3.0</td>\n      <td>1919058.0</td>\n    </tr>\n    <tr>\n      <th>4</th>\n      <td>INC0180380</td>\n      <td>P3 - Moderate</td>\n      <td>Business Application :: Google</td>\n      <td>43831.405255</td>\n      <td>43841.416678</td>\n      <td>Closed</td>\n      <td>NaN</td>\n      <td>NaN</td>\n      <td>I cannot access my google drive shortcut from ...</td>\n      <td>56</td>\n      <td>I cannot access my google drive shortcut from ...</td>\n      <td>103</td>\n      <td>IMT Service Desk AME</td>\n      <td>User G drive was inactive, i reconfigured it, ...</td>\n      <td>90</td>\n      <td>0.0</td>\n      <td>128.0</td>\n    </tr>\n    <tr>\n      <th>...</th>\n      <td>...</td>\n      <td>...</td>\n      <td>...</td>\n      <td>...</td>\n      <td>...</td>\n      <td>...</td>\n      <td>...</td>\n      <td>...</td>\n      <td>...</td>\n      <td>...</td>\n      <td>...</td>\n      <td>...</td>\n      <td>...</td>\n      <td>...</td>\n      <td>...</td>\n      <td>...</td>\n      <td>...</td>\n    </tr>\n    <tr>\n      <th>117240</th>\n      <td>INC0438584</td>\n      <td>P4 - Low</td>\n      <td>User Workplace :: Desk Phone</td>\n      <td>44307.926146</td>\n      <td>44317.958345</td>\n      <td>Closed</td>\n      <td>NaN</td>\n      <td>NaN</td>\n      <td>Telephone connectivity</td>\n      <td>22</td>\n      <td>Could you help me reviewing telephone connecti...</td>\n      <td>108</td>\n      <td>IMT Service Desk Colombia</td>\n      <td></td>\n      <td>0</td>\n      <td>0.0</td>\n      <td>381.0</td>\n    </tr>\n    <tr>\n      <th>117241</th>\n      <td>INC0438587</td>\n      <td>P3 - Moderate</td>\n      <td>User Workplace :: Printer</td>\n      <td>44307.933252</td>\n      <td>44317.958345</td>\n      <td>Closed</td>\n      <td>NaN</td>\n      <td>NaN</td>\n      <td>actualizacion de drivers</td>\n      <td>24</td>\n      <td>&gt;&gt; Full details from \"Requested by\" :impresora...</td>\n      <td>246</td>\n      <td>IMT Service Desk Mexico</td>\n      <td>se actualizaron los drivers de impresoras soli...</td>\n      <td>55</td>\n      <td>0.0</td>\n      <td>53.0</td>\n    </tr>\n    <tr>\n      <th>117242</th>\n      <td>INC0440299</td>\n      <td>P4 - Low</td>\n      <td>Internet, network &amp; remote access :: LAN infra...</td>\n      <td>44312.497905</td>\n      <td>44312.521979</td>\n      <td>Closed</td>\n      <td>NaN</td>\n      <td>GKYNYF0001</td>\n      <td></td>\n      <td>0</td>\n      <td></td>\n      <td>0</td>\n      <td>IMT NLI Ops Orange</td>\n      <td></td>\n      <td>0</td>\n      <td>1.0</td>\n      <td>2080.0</td>\n    </tr>\n    <tr>\n      <th>117243</th>\n      <td>INC0440766</td>\n      <td>P4 - Low</td>\n      <td>Internet, network &amp; remote access :: OBS</td>\n      <td>44312.896644</td>\n      <td>44316.664167</td>\n      <td>Closed</td>\n      <td>NaN</td>\n      <td>GHSNYF0002</td>\n      <td>Secondary firewall blocking all traffic; zone ...</td>\n      <td>63</td>\n      <td>Investigating some issues at the site, William...</td>\n      <td>393</td>\n      <td>IMT NLI Ops AMER</td>\n      <td></td>\n      <td>0</td>\n      <td>7.0</td>\n      <td>325514.0</td>\n    </tr>\n    <tr>\n      <th>117244</th>\n      <td>INC0441871</td>\n      <td>P4 - Low</td>\n      <td>Internet, network &amp; remote access :: WAN</td>\n      <td>44314.706007</td>\n      <td>44315.664734</td>\n      <td>Closed</td>\n      <td>NaN</td>\n      <td>GARNYF0001</td>\n      <td>All NTI Fortigates  - Block site www.ammyy.com...</td>\n      <td>55</td>\n      <td>Hello OBS team,Could you add a rule to block t...</td>\n      <td>154</td>\n      <td>IMT NLI Ops Orange</td>\n      <td></td>\n      <td>0</td>\n      <td>2.0</td>\n      <td>82834.0</td>\n    </tr>\n  </tbody>\n</table>\n<p>117244 rows × 17 columns</p>\n</div>"
     },
     "metadata": {},
     "execution_count": 145
    }
   ],
   "source": [
    "incidents = pd.read_csv('../data/Preprocessed_Data.csv', index_col=0)\n",
    "incidents = add_column_length(incidents, 'Description', 'Description_length', char='')\n",
    "incidents = add_column_length(incidents, 'Resolution_notes', 'Resolution_length', char='')\n",
    "incidents = add_column_length(incidents, 'Short_description', 'Short_description_length', char='')\n",
    "incidents"
   ]
  },
  {
   "cell_type": "code",
   "execution_count": 148,
   "metadata": {},
   "outputs": [],
   "source": [
    "incidents.to_csv('../data/Preprocessed_Data_Length.csv')"
   ]
  },
  {
   "cell_type": "code",
   "execution_count": 43,
   "metadata": {},
   "outputs": [],
   "source": [
    "from typing import Callable\n",
    "\n",
    "def add_ratio(dataframe: pd.DataFrame, column: str, func: Callable, new_column: str) -> pd.DataFrame:\n",
    "    dataframe[new_column] = dataframe[column].apply(func)\n",
    "    return dataframe"
   ]
  },
  {
   "source": [
    "## Character-level features"
   ],
   "cell_type": "markdown",
   "metadata": {}
  },
  {
   "cell_type": "code",
   "execution_count": null,
   "metadata": {},
   "outputs": [],
   "source": [
    "from typing import Callable\n",
    "\n",
    "def add_ratio(dataframe: pd.DataFrame, column: str, func: Callable, new_column: str) -> pd.DataFrame:\n",
    "    dataframe[new_column] = dataframe[column].apply(func)\n",
    "    return dataframe"
   ]
  },
  {
   "cell_type": "code",
   "execution_count": 45,
   "metadata": {},
   "outputs": [],
   "source": [
    "def char_ratio(text: str, char: str) -> float:\n",
    "    count = text.count(char)\n",
    "    try:\n",
    "        result = count / len(text)\n",
    "    except ZeroDivisionError:\n",
    "        result = np.NaN\n",
    "    return result"
   ]
  },
  {
   "source": [
    "ExclamationRatio"
   ],
   "cell_type": "markdown",
   "metadata": {}
  },
  {
   "cell_type": "code",
   "execution_count": 33,
   "metadata": {},
   "outputs": [],
   "source": [
    "def exclam_ratio(text: str) -> float:\n",
    "    return char_ratio(text, '!')\n"
   ]
  },
  {
   "source": [
    "colonRatio"
   ],
   "cell_type": "markdown",
   "metadata": {}
  },
  {
   "cell_type": "code",
   "execution_count": 34,
   "metadata": {},
   "outputs": [],
   "source": [
    "def colon_ratio(text: str) -> float:\n",
    "    return char_ratio(text, ':')\n"
   ]
  },
  {
   "source": [
    "BraketRatio"
   ],
   "cell_type": "markdown",
   "metadata": {}
  },
  {
   "cell_type": "code",
   "execution_count": 35,
   "metadata": {},
   "outputs": [],
   "source": [
    "def bracket_ratio(text: str) -> float:\n",
    "    left = char_ratio(text, '(')\n",
    "    right = char_ratio(text, ')')\n",
    "    return left + right"
   ]
  },
  {
   "source": [
    "@Ratio"
   ],
   "cell_type": "markdown",
   "metadata": {}
  },
  {
   "cell_type": "code",
   "execution_count": 36,
   "metadata": {},
   "outputs": [],
   "source": [
    "def at_ratio(text: str) -> float:\n",
    "    return char_ratio(text, '@')"
   ]
  },
  {
   "source": [
    "digitRatio"
   ],
   "cell_type": "markdown",
   "metadata": {}
  },
  {
   "cell_type": "code",
   "execution_count": 50,
   "metadata": {},
   "outputs": [],
   "source": [
    "def digit_ratio(text: str) -> float:\n",
    "    digits = sum(c.isdigit() for c in text)\n",
    "    try:\n",
    "        result = digits / len(text)\n",
    "    except ZeroDivisionError:\n",
    "        result = np.NaN\n",
    "    return result"
   ]
  },
  {
   "source": [
    "uppercaseRatio"
   ],
   "cell_type": "markdown",
   "metadata": {}
  },
  {
   "cell_type": "code",
   "execution_count": 38,
   "metadata": {},
   "outputs": [],
   "source": [
    "def uppercase_ratio(text: str) -> float:\n",
    "    upper = sum(c.isupper() for c in text)\n",
    "    try:\n",
    "        result = upper / len(text)\n",
    "    except ZeroDivisionError:\n",
    "        result = np.NaN\n",
    "    return result"
   ]
  },
  {
   "source": [
    "lowercaseRatio"
   ],
   "cell_type": "markdown",
   "metadata": {}
  },
  {
   "cell_type": "code",
   "execution_count": 51,
   "metadata": {},
   "outputs": [],
   "source": [
    "def lowercase_ratio(text: str) -> float:\n",
    "    lower = sum(c.islower() for c in text)\n",
    "    try:\n",
    "        result = lower / len(text)\n",
    "    except ZeroDivisionError:\n",
    "        result = np.NaN\n",
    "    return result"
   ]
  },
  {
   "source": [
    "punctuationRatio"
   ],
   "cell_type": "markdown",
   "metadata": {}
  },
  {
   "cell_type": "code",
   "execution_count": 40,
   "metadata": {},
   "outputs": [],
   "source": [
    "def punctuation_ratio(text: str) -> float:\n",
    "    return char_ratio(text, '.')"
   ]
  },
  {
   "source": [
    "whitespaceRatio"
   ],
   "cell_type": "markdown",
   "metadata": {}
  },
  {
   "cell_type": "code",
   "execution_count": 41,
   "metadata": {},
   "outputs": [],
   "source": [
    "def whitespace_ratio(text: str) -> float:\n",
    "    return char_ratio(text, ' ')"
   ]
  },
  {
   "source": [
    "### Test"
   ],
   "cell_type": "markdown",
   "metadata": {}
  },
  {
   "cell_type": "code",
   "execution_count": 52,
   "metadata": {},
   "outputs": [
    {
     "output_type": "execute_result",
     "data": {
      "text/plain": [
       "            Number       Priority  \\\n",
       "0       INC0284448      P2 - High   \n",
       "1       INC0284449       P4 - Low   \n",
       "2       INC0180368      P2 - High   \n",
       "3       INC0180373  P3 - Moderate   \n",
       "4       INC0180380  P3 - Moderate   \n",
       "...            ...            ...   \n",
       "117240  INC0438584       P4 - Low   \n",
       "117241  INC0438587  P3 - Moderate   \n",
       "117242  INC0440299       P4 - Low   \n",
       "117243  INC0440766       P4 - Low   \n",
       "117244  INC0441871       P4 - Low   \n",
       "\n",
       "                                            Incident_area        Opened  \\\n",
       "0                             SAP :: Sonda Procwork (PRW)  44013.002951   \n",
       "1                                        SAP :: Technical  44013.003183   \n",
       "2       Infrastructure & Servers :: Server (physical/v...  43831.011447   \n",
       "3                              SAP :: Order to Cash (OTC)  43831.132951   \n",
       "4                          Business Application :: Google  43831.405255   \n",
       "...                                                   ...           ...   \n",
       "117240                       User Workplace :: Desk Phone  44307.926146   \n",
       "117241                          User Workplace :: Printer  44307.933252   \n",
       "117242  Internet, network & remote access :: LAN infra...  44312.497905   \n",
       "117243           Internet, network & remote access :: OBS  44312.896644   \n",
       "117244           Internet, network & remote access :: WAN  44314.706007   \n",
       "\n",
       "              Closed  Status Problem Configuration_item  \\\n",
       "0       44024.875023  Closed     NaN                NaN   \n",
       "1       44023.083368  Closed     NaN        SAP-ECC-PRD   \n",
       "2       43842.500012  Closed     NaN       GOYCSM0001DC   \n",
       "3       43871.625023  Closed     NaN                NaN   \n",
       "4       43841.416678  Closed     NaN                NaN   \n",
       "...              ...     ...     ...                ...   \n",
       "117240  44317.958345  Closed     NaN                NaN   \n",
       "117241  44317.958345  Closed     NaN                NaN   \n",
       "117242  44312.521979  Closed     NaN         GKYNYF0001   \n",
       "117243  44316.664167  Closed     NaN         GHSNYF0002   \n",
       "117244  44315.664734  Closed     NaN         GARNYF0001   \n",
       "\n",
       "                                        Short_description  \\\n",
       "0                                        VF - Not working   \n",
       "1                                     Enqueue Processing    \n",
       "2       GOYCSMDC.ds.givaudan.com (Server does not comm...   \n",
       "3                       I cant connect to ESKER PRD & UAT   \n",
       "4       I cannot access my google drive shortcut from ...   \n",
       "...                                                   ...   \n",
       "117240                             Telephone connectivity   \n",
       "117241                           actualizacion de drivers   \n",
       "117242                                                      \n",
       "117243  Secondary firewall blocking all traffic; zone ...   \n",
       "117244  All NTI Fortigates  - Block site www.ammyy.com...   \n",
       "\n",
       "        Short_description_length  \\\n",
       "0                             16   \n",
       "1                             19   \n",
       "2                            151   \n",
       "3                             33   \n",
       "4                             56   \n",
       "...                          ...   \n",
       "117240                        22   \n",
       "117241                        24   \n",
       "117242                         0   \n",
       "117243                        63   \n",
       "117244                        55   \n",
       "\n",
       "                                              Description  Description_length  \\\n",
       "0       Please, the transaction VF is not working, we ...                 104   \n",
       "1       Alert Details: Name....................Enqueue...                 479   \n",
       "2       Dear Team,We received a ticket from our monito...                2090   \n",
       "3       I already got access for ESKER QA, UAT & PRD. ...                 569   \n",
       "4       I cannot access my google drive shortcut from ...                 103   \n",
       "...                                                   ...                 ...   \n",
       "117240  Could you help me reviewing telephone connecti...                 108   \n",
       "117241  >> Full details from \"Requested by\" :impresora...                 246   \n",
       "117242                                                                      0   \n",
       "117243  Investigating some issues at the site, William...                 393   \n",
       "117244  Hello OBS team,Could you add a rule to block t...                 154   \n",
       "\n",
       "                           Assignment_group  \\\n",
       "0              IMT APS SAP Order to Cash L2   \n",
       "1                         IMT TCS SAP Basis   \n",
       "2                          IMT NLI Ops EAME   \n",
       "3       IMT Desktop Infra Support Indonesia   \n",
       "4                      IMT Service Desk AME   \n",
       "...                                     ...   \n",
       "117240            IMT Service Desk Colombia   \n",
       "117241              IMT Service Desk Mexico   \n",
       "117242                   IMT NLI Ops Orange   \n",
       "117243                     IMT NLI Ops AMER   \n",
       "117244                   IMT NLI Ops Orange   \n",
       "\n",
       "                                         Resolution_notes  Resolution_length  \\\n",
       "0       Hello Daniel,Many thanks for your reply, at ti...                247   \n",
       "1       Monitoring the lock entries in P via incident ...                105   \n",
       "2       There was a planned maintenance onsite that wa...                105   \n",
       "3                         User confirmed issue was solved                 31   \n",
       "4       User G drive was inactive, i reconfigured it, ...                 90   \n",
       "...                                                   ...                ...   \n",
       "117240                                                                     0   \n",
       "117241  se actualizaron los drivers de impresoras soli...                 55   \n",
       "117242                                                                     0   \n",
       "117243                                                                     0   \n",
       "117244                                                                     0   \n",
       "\n",
       "        Reassignment_count  Resolve_time  Description_exclam_ratio  \n",
       "0                      1.0      158300.0                  0.000000  \n",
       "1                      0.0        5694.0                  0.000000  \n",
       "2                      1.0      126566.0                  0.000478  \n",
       "3                      3.0     1919058.0                  0.000000  \n",
       "4                      0.0         128.0                  0.000000  \n",
       "...                    ...           ...                       ...  \n",
       "117240                 0.0         381.0                  0.009259  \n",
       "117241                 0.0          53.0                  0.000000  \n",
       "117242                 1.0        2080.0                       NaN  \n",
       "117243                 7.0      325514.0                  0.000000  \n",
       "117244                 2.0       82834.0                  0.000000  \n",
       "\n",
       "[117244 rows x 18 columns]"
      ],
      "text/html": "<div>\n<style scoped>\n    .dataframe tbody tr th:only-of-type {\n        vertical-align: middle;\n    }\n\n    .dataframe tbody tr th {\n        vertical-align: top;\n    }\n\n    .dataframe thead th {\n        text-align: right;\n    }\n</style>\n<table border=\"1\" class=\"dataframe\">\n  <thead>\n    <tr style=\"text-align: right;\">\n      <th></th>\n      <th>Number</th>\n      <th>Priority</th>\n      <th>Incident_area</th>\n      <th>Opened</th>\n      <th>Closed</th>\n      <th>Status</th>\n      <th>Problem</th>\n      <th>Configuration_item</th>\n      <th>Short_description</th>\n      <th>Short_description_length</th>\n      <th>Description</th>\n      <th>Description_length</th>\n      <th>Assignment_group</th>\n      <th>Resolution_notes</th>\n      <th>Resolution_length</th>\n      <th>Reassignment_count</th>\n      <th>Resolve_time</th>\n      <th>Description_exclam_ratio</th>\n    </tr>\n  </thead>\n  <tbody>\n    <tr>\n      <th>0</th>\n      <td>INC0284448</td>\n      <td>P2 - High</td>\n      <td>SAP :: Sonda Procwork (PRW)</td>\n      <td>44013.002951</td>\n      <td>44024.875023</td>\n      <td>Closed</td>\n      <td>NaN</td>\n      <td>NaN</td>\n      <td>VF - Not working</td>\n      <td>16</td>\n      <td>Please, the transaction VF is not working, we ...</td>\n      <td>104</td>\n      <td>IMT APS SAP Order to Cash L2</td>\n      <td>Hello Daniel,Many thanks for your reply, at ti...</td>\n      <td>247</td>\n      <td>1.0</td>\n      <td>158300.0</td>\n      <td>0.000000</td>\n    </tr>\n    <tr>\n      <th>1</th>\n      <td>INC0284449</td>\n      <td>P4 - Low</td>\n      <td>SAP :: Technical</td>\n      <td>44013.003183</td>\n      <td>44023.083368</td>\n      <td>Closed</td>\n      <td>NaN</td>\n      <td>SAP-ECC-PRD</td>\n      <td>Enqueue Processing</td>\n      <td>19</td>\n      <td>Alert Details: Name....................Enqueue...</td>\n      <td>479</td>\n      <td>IMT TCS SAP Basis</td>\n      <td>Monitoring the lock entries in P via incident ...</td>\n      <td>105</td>\n      <td>0.0</td>\n      <td>5694.0</td>\n      <td>0.000000</td>\n    </tr>\n    <tr>\n      <th>2</th>\n      <td>INC0180368</td>\n      <td>P2 - High</td>\n      <td>Infrastructure &amp; Servers :: Server (physical/v...</td>\n      <td>43831.011447</td>\n      <td>43842.500012</td>\n      <td>Closed</td>\n      <td>NaN</td>\n      <td>GOYCSM0001DC</td>\n      <td>GOYCSMDC.ds.givaudan.com (Server does not comm...</td>\n      <td>151</td>\n      <td>Dear Team,We received a ticket from our monito...</td>\n      <td>2090</td>\n      <td>IMT NLI Ops EAME</td>\n      <td>There was a planned maintenance onsite that wa...</td>\n      <td>105</td>\n      <td>1.0</td>\n      <td>126566.0</td>\n      <td>0.000478</td>\n    </tr>\n    <tr>\n      <th>3</th>\n      <td>INC0180373</td>\n      <td>P3 - Moderate</td>\n      <td>SAP :: Order to Cash (OTC)</td>\n      <td>43831.132951</td>\n      <td>43871.625023</td>\n      <td>Closed</td>\n      <td>NaN</td>\n      <td>NaN</td>\n      <td>I cant connect to ESKER PRD &amp; UAT</td>\n      <td>33</td>\n      <td>I already got access for ESKER QA, UAT &amp; PRD. ...</td>\n      <td>569</td>\n      <td>IMT Desktop Infra Support Indonesia</td>\n      <td>User confirmed issue was solved</td>\n      <td>31</td>\n      <td>3.0</td>\n      <td>1919058.0</td>\n      <td>0.000000</td>\n    </tr>\n    <tr>\n      <th>4</th>\n      <td>INC0180380</td>\n      <td>P3 - Moderate</td>\n      <td>Business Application :: Google</td>\n      <td>43831.405255</td>\n      <td>43841.416678</td>\n      <td>Closed</td>\n      <td>NaN</td>\n      <td>NaN</td>\n      <td>I cannot access my google drive shortcut from ...</td>\n      <td>56</td>\n      <td>I cannot access my google drive shortcut from ...</td>\n      <td>103</td>\n      <td>IMT Service Desk AME</td>\n      <td>User G drive was inactive, i reconfigured it, ...</td>\n      <td>90</td>\n      <td>0.0</td>\n      <td>128.0</td>\n      <td>0.000000</td>\n    </tr>\n    <tr>\n      <th>...</th>\n      <td>...</td>\n      <td>...</td>\n      <td>...</td>\n      <td>...</td>\n      <td>...</td>\n      <td>...</td>\n      <td>...</td>\n      <td>...</td>\n      <td>...</td>\n      <td>...</td>\n      <td>...</td>\n      <td>...</td>\n      <td>...</td>\n      <td>...</td>\n      <td>...</td>\n      <td>...</td>\n      <td>...</td>\n      <td>...</td>\n    </tr>\n    <tr>\n      <th>117240</th>\n      <td>INC0438584</td>\n      <td>P4 - Low</td>\n      <td>User Workplace :: Desk Phone</td>\n      <td>44307.926146</td>\n      <td>44317.958345</td>\n      <td>Closed</td>\n      <td>NaN</td>\n      <td>NaN</td>\n      <td>Telephone connectivity</td>\n      <td>22</td>\n      <td>Could you help me reviewing telephone connecti...</td>\n      <td>108</td>\n      <td>IMT Service Desk Colombia</td>\n      <td></td>\n      <td>0</td>\n      <td>0.0</td>\n      <td>381.0</td>\n      <td>0.009259</td>\n    </tr>\n    <tr>\n      <th>117241</th>\n      <td>INC0438587</td>\n      <td>P3 - Moderate</td>\n      <td>User Workplace :: Printer</td>\n      <td>44307.933252</td>\n      <td>44317.958345</td>\n      <td>Closed</td>\n      <td>NaN</td>\n      <td>NaN</td>\n      <td>actualizacion de drivers</td>\n      <td>24</td>\n      <td>&gt;&gt; Full details from \"Requested by\" :impresora...</td>\n      <td>246</td>\n      <td>IMT Service Desk Mexico</td>\n      <td>se actualizaron los drivers de impresoras soli...</td>\n      <td>55</td>\n      <td>0.0</td>\n      <td>53.0</td>\n      <td>0.000000</td>\n    </tr>\n    <tr>\n      <th>117242</th>\n      <td>INC0440299</td>\n      <td>P4 - Low</td>\n      <td>Internet, network &amp; remote access :: LAN infra...</td>\n      <td>44312.497905</td>\n      <td>44312.521979</td>\n      <td>Closed</td>\n      <td>NaN</td>\n      <td>GKYNYF0001</td>\n      <td></td>\n      <td>0</td>\n      <td></td>\n      <td>0</td>\n      <td>IMT NLI Ops Orange</td>\n      <td></td>\n      <td>0</td>\n      <td>1.0</td>\n      <td>2080.0</td>\n      <td>NaN</td>\n    </tr>\n    <tr>\n      <th>117243</th>\n      <td>INC0440766</td>\n      <td>P4 - Low</td>\n      <td>Internet, network &amp; remote access :: OBS</td>\n      <td>44312.896644</td>\n      <td>44316.664167</td>\n      <td>Closed</td>\n      <td>NaN</td>\n      <td>GHSNYF0002</td>\n      <td>Secondary firewall blocking all traffic; zone ...</td>\n      <td>63</td>\n      <td>Investigating some issues at the site, William...</td>\n      <td>393</td>\n      <td>IMT NLI Ops AMER</td>\n      <td></td>\n      <td>0</td>\n      <td>7.0</td>\n      <td>325514.0</td>\n      <td>0.000000</td>\n    </tr>\n    <tr>\n      <th>117244</th>\n      <td>INC0441871</td>\n      <td>P4 - Low</td>\n      <td>Internet, network &amp; remote access :: WAN</td>\n      <td>44314.706007</td>\n      <td>44315.664734</td>\n      <td>Closed</td>\n      <td>NaN</td>\n      <td>GARNYF0001</td>\n      <td>All NTI Fortigates  - Block site www.ammyy.com...</td>\n      <td>55</td>\n      <td>Hello OBS team,Could you add a rule to block t...</td>\n      <td>154</td>\n      <td>IMT NLI Ops Orange</td>\n      <td></td>\n      <td>0</td>\n      <td>2.0</td>\n      <td>82834.0</td>\n      <td>0.000000</td>\n    </tr>\n  </tbody>\n</table>\n<p>117244 rows × 18 columns</p>\n</div>"
     },
     "metadata": {},
     "execution_count": 52
    }
   ],
   "source": [
    "# test of adding exclamation ratio\n",
    "add_ratio(incidents, 'Description', exclam_ratio, 'Description_exclam_ratio')"
   ]
  },
  {
   "cell_type": "code",
   "execution_count": 53,
   "metadata": {},
   "outputs": [
    {
     "output_type": "execute_result",
     "data": {
      "text/plain": [
       "           Number       Priority                                Incident_area  \\\n",
       "83993  INC0369245       P4 - Low         Productivity Software :: Google Apps   \n",
       "64394  INC0330690       P4 - Low  Rights & access management :: Access Denied   \n",
       "98133  INC0394938      P2 - High  Rights & access management :: Access Denied   \n",
       "98131  INC0394934  P3 - Moderate                   SAP :: Manufacturing (MFG)   \n",
       "75872  INC0354057      P2 - High  Rights & access management :: Access Denied   \n",
       "\n",
       "             Opened        Closed  Status     Problem Configuration_item  \\\n",
       "83993  44179.542998  44198.583356  Closed  PRB0046933                NaN   \n",
       "64394  44099.129028  44120.166690  Closed         NaN                NaN   \n",
       "98133  44235.689988  44245.750046  Closed         NaN                NaN   \n",
       "98131  44235.687396  44245.708380  Closed         NaN                NaN   \n",
       "75872  44147.362650  44158.375104  Closed         NaN                NaN   \n",
       "\n",
       "                                       Short_description  \\\n",
       "83993  no access to my Google account, unable to acce...   \n",
       "64394  User relocated to Singapore but account is sti...   \n",
       "98133  locked myself out of SAP due to two may tries ...   \n",
       "98131        I am locked out of SAP due to to many try's   \n",
       "75872               locked account Irina Zorina\\Zazybina   \n",
       "\n",
       "       Short_description_length  \\\n",
       "83993                       107   \n",
       "64394                        58   \n",
       "98133                        96   \n",
       "98131                        43   \n",
       "75872                        36   \n",
       "\n",
       "                                             Description  Description_length  \\\n",
       "83993  my Google account not found!!!!!!!!!!!!!!!!!!!...                 119   \n",
       "64394  >> Full details from \"Requested by\" :Please mo...                 396   \n",
       "98133  >> Full details from \"Requested by\" :locked my...                 314   \n",
       "98131  Please on lock SAP account access for myself. ...                 153   \n",
       "75872  >> Full details from \"Requested by\" :Hello! On...                 348   \n",
       "\n",
       "                              Assignment_group  \\\n",
       "83993               IMT Service Desk Sao Paulo   \n",
       "64394      IMT Desktop Infra Support Singapore   \n",
       "98133                IMT Service Desk LATAM L1   \n",
       "98131  IMT APS SAP Roles and Authorizations L2   \n",
       "75872                 IMT Service Desk Zuerich   \n",
       "\n",
       "                                        Resolution_notes  Resolution_length  \\\n",
       "83993  In contact with user she informed that the iss...                 60   \n",
       "64394                   TCS migrated user from TO to SR.                 32   \n",
       "98133  The PW was reset by the time we got to the tic...                 70   \n",
       "98131                                                                     0   \n",
       "75872  after a long story we getting these things adj...                 52   \n",
       "\n",
       "       Reassignment_count  Resolve_time  Description_exclam_ratio  \n",
       "83993                 0.0        9539.0                  0.378151  \n",
       "64394                 3.0      952280.0                  0.282828  \n",
       "98133                 1.0        4227.0                  0.146497  \n",
       "98131                 1.0         504.0                  0.098039  \n",
       "75872                 0.0       86267.0                  0.091954  "
      ],
      "text/html": "<div>\n<style scoped>\n    .dataframe tbody tr th:only-of-type {\n        vertical-align: middle;\n    }\n\n    .dataframe tbody tr th {\n        vertical-align: top;\n    }\n\n    .dataframe thead th {\n        text-align: right;\n    }\n</style>\n<table border=\"1\" class=\"dataframe\">\n  <thead>\n    <tr style=\"text-align: right;\">\n      <th></th>\n      <th>Number</th>\n      <th>Priority</th>\n      <th>Incident_area</th>\n      <th>Opened</th>\n      <th>Closed</th>\n      <th>Status</th>\n      <th>Problem</th>\n      <th>Configuration_item</th>\n      <th>Short_description</th>\n      <th>Short_description_length</th>\n      <th>Description</th>\n      <th>Description_length</th>\n      <th>Assignment_group</th>\n      <th>Resolution_notes</th>\n      <th>Resolution_length</th>\n      <th>Reassignment_count</th>\n      <th>Resolve_time</th>\n      <th>Description_exclam_ratio</th>\n    </tr>\n  </thead>\n  <tbody>\n    <tr>\n      <th>83993</th>\n      <td>INC0369245</td>\n      <td>P4 - Low</td>\n      <td>Productivity Software :: Google Apps</td>\n      <td>44179.542998</td>\n      <td>44198.583356</td>\n      <td>Closed</td>\n      <td>PRB0046933</td>\n      <td>NaN</td>\n      <td>no access to my Google account, unable to acce...</td>\n      <td>107</td>\n      <td>my Google account not found!!!!!!!!!!!!!!!!!!!...</td>\n      <td>119</td>\n      <td>IMT Service Desk Sao Paulo</td>\n      <td>In contact with user she informed that the iss...</td>\n      <td>60</td>\n      <td>0.0</td>\n      <td>9539.0</td>\n      <td>0.378151</td>\n    </tr>\n    <tr>\n      <th>64394</th>\n      <td>INC0330690</td>\n      <td>P4 - Low</td>\n      <td>Rights &amp; access management :: Access Denied</td>\n      <td>44099.129028</td>\n      <td>44120.166690</td>\n      <td>Closed</td>\n      <td>NaN</td>\n      <td>NaN</td>\n      <td>User relocated to Singapore but account is sti...</td>\n      <td>58</td>\n      <td>&gt;&gt; Full details from \"Requested by\" :Please mo...</td>\n      <td>396</td>\n      <td>IMT Desktop Infra Support Singapore</td>\n      <td>TCS migrated user from TO to SR.</td>\n      <td>32</td>\n      <td>3.0</td>\n      <td>952280.0</td>\n      <td>0.282828</td>\n    </tr>\n    <tr>\n      <th>98133</th>\n      <td>INC0394938</td>\n      <td>P2 - High</td>\n      <td>Rights &amp; access management :: Access Denied</td>\n      <td>44235.689988</td>\n      <td>44245.750046</td>\n      <td>Closed</td>\n      <td>NaN</td>\n      <td>NaN</td>\n      <td>locked myself out of SAP due to two may tries ...</td>\n      <td>96</td>\n      <td>&gt;&gt; Full details from \"Requested by\" :locked my...</td>\n      <td>314</td>\n      <td>IMT Service Desk LATAM L1</td>\n      <td>The PW was reset by the time we got to the tic...</td>\n      <td>70</td>\n      <td>1.0</td>\n      <td>4227.0</td>\n      <td>0.146497</td>\n    </tr>\n    <tr>\n      <th>98131</th>\n      <td>INC0394934</td>\n      <td>P3 - Moderate</td>\n      <td>SAP :: Manufacturing (MFG)</td>\n      <td>44235.687396</td>\n      <td>44245.708380</td>\n      <td>Closed</td>\n      <td>NaN</td>\n      <td>NaN</td>\n      <td>I am locked out of SAP due to to many try's</td>\n      <td>43</td>\n      <td>Please on lock SAP account access for myself. ...</td>\n      <td>153</td>\n      <td>IMT APS SAP Roles and Authorizations L2</td>\n      <td></td>\n      <td>0</td>\n      <td>1.0</td>\n      <td>504.0</td>\n      <td>0.098039</td>\n    </tr>\n    <tr>\n      <th>75872</th>\n      <td>INC0354057</td>\n      <td>P2 - High</td>\n      <td>Rights &amp; access management :: Access Denied</td>\n      <td>44147.362650</td>\n      <td>44158.375104</td>\n      <td>Closed</td>\n      <td>NaN</td>\n      <td>NaN</td>\n      <td>locked account Irina Zorina\\Zazybina</td>\n      <td>36</td>\n      <td>&gt;&gt; Full details from \"Requested by\" :Hello! On...</td>\n      <td>348</td>\n      <td>IMT Service Desk Zuerich</td>\n      <td>after a long story we getting these things adj...</td>\n      <td>52</td>\n      <td>0.0</td>\n      <td>86267.0</td>\n      <td>0.091954</td>\n    </tr>\n  </tbody>\n</table>\n</div>"
     },
     "metadata": {},
     "execution_count": 53
    }
   ],
   "source": [
    "incidents.sort_values(by='Description_exclam_ratio', ascending=False).head()"
   ]
  },
  {
   "cell_type": "code",
   "execution_count": null,
   "metadata": {},
   "outputs": [],
   "source": []
  },
  {
   "source": [
    "## Entity level features"
   ],
   "cell_type": "markdown",
   "metadata": {}
  },
  {
   "cell_type": "code",
   "execution_count": null,
   "metadata": {},
   "outputs": [],
   "source": []
  },
  {
   "source": [
    "## Semantic level features"
   ],
   "cell_type": "markdown",
   "metadata": {}
  },
  {
   "cell_type": "code",
   "execution_count": 71,
   "metadata": {},
   "outputs": [
    {
     "output_type": "stream",
     "name": "stdout",
     "text": [
      "showing info https://raw.githubusercontent.com/nltk/nltk_data/gh-pages/index.xml\n"
     ]
    },
    {
     "output_type": "execute_result",
     "data": {
      "text/plain": [
       "True"
      ]
     },
     "metadata": {},
     "execution_count": 71
    }
   ],
   "source": [
    "nltk.download()\n"
   ]
  },
  {
   "cell_type": "code",
   "execution_count": 149,
   "metadata": {},
   "outputs": [],
   "source": [
    "import nltk\n",
    "# from nltk import word_tokenize\n",
    "# nltk.download()\n",
    "text = word_tokenize(\"This is a sentence.\")"
   ]
  },
  {
   "cell_type": "code",
   "execution_count": 150,
   "metadata": {},
   "outputs": [
    {
     "output_type": "execute_result",
     "data": {
      "text/plain": [
       "[('This', 'DET'),\n",
       " ('is', 'VERB'),\n",
       " ('a', 'DET'),\n",
       " ('sentence', 'NOUN'),\n",
       " ('.', '.')]"
      ]
     },
     "metadata": {},
     "execution_count": 150
    }
   ],
   "source": [
    "sentence_tagged = nltk.pos_tag(text, tagset='universal')\n",
    "sentence_tagged"
   ]
  },
  {
   "cell_type": "code",
   "execution_count": 151,
   "metadata": {},
   "outputs": [
    {
     "output_type": "execute_result",
     "data": {
      "text/plain": [
       "FreqDist({'DET': 2, 'VERB': 1, 'NOUN': 1, '.': 1})"
      ]
     },
     "metadata": {},
     "execution_count": 151
    }
   ],
   "source": [
    "tag_fd = nltk.FreqDist(tag for (word, tag) in sentence_tagged)\n",
    "tag_fd"
   ]
  },
  {
   "cell_type": "code",
   "execution_count": 75,
   "metadata": {},
   "outputs": [
    {
     "output_type": "stream",
     "name": "stdout",
     "text": [
      "[('The', 'DET'), ('Fulton', 'NOUN'), ('County', 'NOUN'), ('Grand', 'ADJ'), ('Jury', 'NOUN'), ('said', 'VERB'), ('Friday', 'NOUN'), ('an', 'DET'), ('investigation', 'NOUN'), ('of', 'ADP')]\n"
     ]
    },
    {
     "output_type": "execute_result",
     "data": {
      "text/plain": [
       "[('NOUN', 30654),\n",
       " ('VERB', 14399),\n",
       " ('ADP', 12355),\n",
       " ('.', 11928),\n",
       " ('DET', 11389),\n",
       " ('ADJ', 6706),\n",
       " ('ADV', 3349),\n",
       " ('CONJ', 2717),\n",
       " ('PRON', 2535),\n",
       " ('PRT', 2264),\n",
       " ('NUM', 2166),\n",
       " ('X', 92)]"
      ]
     },
     "metadata": {},
     "execution_count": 75
    }
   ],
   "source": [
    "from nltk.corpus import brown\n",
    "brown_news_tagged = brown.tagged_words(categories='news', tagset='universal')\n",
    "print(brown_news_tagged[:10])\n",
    "tag_fd = nltk.FreqDist(tag for (word, tag) in brown_news_tagged)\n",
    "tag_fd.most_common()"
   ]
  },
  {
   "cell_type": "code",
   "execution_count": 152,
   "metadata": {},
   "outputs": [],
   "source": [
    "def get_all_tags(dataframe: pd.DataFrame, column: str) -> nltk.probability.FreqDist:\n",
    "    sentences = dataframe[column].values\n",
    "    tokens = [word_tokenize(sentence) for sentence in sentences]\n",
    "    tags = [nltk.pos_tag(token, tagset='universal') for token in tokens]\n",
    "    \n"
   ]
  },
  {
   "cell_type": "code",
   "execution_count": 153,
   "metadata": {},
   "outputs": [],
   "source": [
    "def get_tags(text: str) -> nltk.FreqDist:\n",
    "    tokens = word_tokenize(text)\n",
    "    sentence_tagged = nltk.pos_tag(tokens, tagset='universal')\n",
    "    tag_fd = nltk.FreqDist(tag for (word, tag) in sentence_tagged)\n",
    "    return dict(tag_fd)\n",
    "\n",
    "\n",
    "def get_tags_column(dataframe: pd.DataFrame, column: str, func: Callable, new_column: str=None, new_column_index: int=None) -> pd.DataFrame:\n",
    "    if new_column is None:\n",
    "        new_column = column + \"_tags\"\n",
    "\n",
    "    if new_column_index is None:\n",
    "        new_column_index = dataframe.columns.to_list().index(column) + 1\n",
    "    \n",
    "\n",
    "    dataframe[new_column] = dataframe[column].apply(func)\n",
    "    if new_column_index != -1:\n",
    "        cols = dataframe.columns.to_list()\n",
    "        cols.insert(new_column_index, cols[-1])\n",
    "        cols.pop(-1)\n",
    "        dataframe = dataframe[cols]\n",
    "\n",
    "    return dataframe"
   ]
  },
  {
   "cell_type": "code",
   "execution_count": 183,
   "metadata": {},
   "outputs": [],
   "source": [
    "import json\n",
    "def get_all_tags(dataframe: pd.DataFrame, column: str) -> dict:\n",
    "    all_tags = {}\n",
    "    for d in dataframe[column]:\n",
    "        if type(d) == str:\n",
    "            d = json.loads(d.replace(\"'\", '\"'))\n",
    "        for key, value in d.items():\n",
    "            if key in all_tags:\n",
    "                all_tags[key] += value\n",
    "            else:\n",
    "                all_tags[key] = value   \n",
    "    return all_tags"
   ]
  },
  {
   "cell_type": "code",
   "execution_count": 155,
   "metadata": {},
   "outputs": [
    {
     "output_type": "execute_result",
     "data": {
      "text/plain": [
       "            Number       Priority  \\\n",
       "0       INC0284448      P2 - High   \n",
       "1       INC0284449       P4 - Low   \n",
       "2       INC0180368      P2 - High   \n",
       "3       INC0180373  P3 - Moderate   \n",
       "4       INC0180380  P3 - Moderate   \n",
       "...            ...            ...   \n",
       "117240  INC0438584       P4 - Low   \n",
       "117241  INC0438587  P3 - Moderate   \n",
       "117242  INC0440299       P4 - Low   \n",
       "117243  INC0440766       P4 - Low   \n",
       "117244  INC0441871       P4 - Low   \n",
       "\n",
       "                                            Incident_area        Opened  \\\n",
       "0                             SAP :: Sonda Procwork (PRW)  44013.002951   \n",
       "1                                        SAP :: Technical  44013.003183   \n",
       "2       Infrastructure & Servers :: Server (physical/v...  43831.011447   \n",
       "3                              SAP :: Order to Cash (OTC)  43831.132951   \n",
       "4                          Business Application :: Google  43831.405255   \n",
       "...                                                   ...           ...   \n",
       "117240                       User Workplace :: Desk Phone  44307.926146   \n",
       "117241                          User Workplace :: Printer  44307.933252   \n",
       "117242  Internet, network & remote access :: LAN infra...  44312.497905   \n",
       "117243           Internet, network & remote access :: OBS  44312.896644   \n",
       "117244           Internet, network & remote access :: WAN  44314.706007   \n",
       "\n",
       "              Closed  Status Problem Configuration_item  \\\n",
       "0       44024.875023  Closed     NaN                NaN   \n",
       "1       44023.083368  Closed     NaN        SAP-ECC-PRD   \n",
       "2       43842.500012  Closed     NaN       GOYCSM0001DC   \n",
       "3       43871.625023  Closed     NaN                NaN   \n",
       "4       43841.416678  Closed     NaN                NaN   \n",
       "...              ...     ...     ...                ...   \n",
       "117240  44317.958345  Closed     NaN                NaN   \n",
       "117241  44317.958345  Closed     NaN                NaN   \n",
       "117242  44312.521979  Closed     NaN         GKYNYF0001   \n",
       "117243  44316.664167  Closed     NaN         GHSNYF0002   \n",
       "117244  44315.664734  Closed     NaN         GARNYF0001   \n",
       "\n",
       "                                        Short_description  \\\n",
       "0                                        VF - Not working   \n",
       "1                                     Enqueue Processing    \n",
       "2       GOYCSMDC.ds.givaudan.com (Server does not comm...   \n",
       "3                       I cant connect to ESKER PRD & UAT   \n",
       "4       I cannot access my google drive shortcut from ...   \n",
       "...                                                   ...   \n",
       "117240                             Telephone connectivity   \n",
       "117241                           actualizacion de drivers   \n",
       "117242                                                      \n",
       "117243  Secondary firewall blocking all traffic; zone ...   \n",
       "117244  All NTI Fortigates  - Block site www.ammyy.com...   \n",
       "\n",
       "        Short_description_length  \\\n",
       "0                             16   \n",
       "1                             19   \n",
       "2                            151   \n",
       "3                             33   \n",
       "4                             56   \n",
       "...                          ...   \n",
       "117240                        22   \n",
       "117241                        24   \n",
       "117242                         0   \n",
       "117243                        63   \n",
       "117244                        55   \n",
       "\n",
       "                                              Description  \\\n",
       "0       Please, the transaction VF is not working, we ...   \n",
       "1       Alert Details: Name....................Enqueue...   \n",
       "2       Dear Team,We received a ticket from our monito...   \n",
       "3       I already got access for ESKER QA, UAT & PRD. ...   \n",
       "4       I cannot access my google drive shortcut from ...   \n",
       "...                                                   ...   \n",
       "117240  Could you help me reviewing telephone connecti...   \n",
       "117241  >> Full details from \"Requested by\" :impresora...   \n",
       "117242                                                      \n",
       "117243  Investigating some issues at the site, William...   \n",
       "117244  Hello OBS team,Could you add a rule to block t...   \n",
       "\n",
       "                                         Description_tags  Description_length  \\\n",
       "0       {'NOUN': 10, '.': 3, 'DET': 1, 'VERB': 4, 'ADV...                 104   \n",
       "1       {'NOUN': 46, '.': 5, 'ADJ': 1, 'VERB': 1, 'PRT...                 479   \n",
       "2       {'NOUN': 129, '.': 88, 'PRON': 4, 'VERB': 28, ...                2090   \n",
       "3       {'PRON': 5, 'ADV': 2, 'VERB': 11, 'NOUN': 33, ...                 569   \n",
       "4       {'PRON': 3, 'VERB': 1, 'ADV': 1, 'NOUN': 9, 'A...                 103   \n",
       "...                                                   ...                 ...   \n",
       "117240  {'NOUN': 11, 'PRON': 2, 'VERB': 2, '.': 3, 'AD...                 108   \n",
       "117241  {'NOUN': 15, 'CONJ': 1, 'ADP': 6, '.': 13, 'VE...                 246   \n",
       "117242                                                 {}                   0   \n",
       "117243  {'VERB': 16, 'DET': 9, 'NOUN': 17, 'ADP': 6, '...                 393   \n",
       "117244  {'NOUN': 13, '.': 6, 'PRON': 2, 'VERB': 2, 'DE...                 154   \n",
       "\n",
       "                           Assignment_group  \\\n",
       "0              IMT APS SAP Order to Cash L2   \n",
       "1                         IMT TCS SAP Basis   \n",
       "2                          IMT NLI Ops EAME   \n",
       "3       IMT Desktop Infra Support Indonesia   \n",
       "4                      IMT Service Desk AME   \n",
       "...                                     ...   \n",
       "117240            IMT Service Desk Colombia   \n",
       "117241              IMT Service Desk Mexico   \n",
       "117242                   IMT NLI Ops Orange   \n",
       "117243                     IMT NLI Ops AMER   \n",
       "117244                   IMT NLI Ops Orange   \n",
       "\n",
       "                                         Resolution_notes  Resolution_length  \\\n",
       "0       Hello Daniel,Many thanks for your reply, at ti...                247   \n",
       "1       Monitoring the lock entries in P via incident ...                105   \n",
       "2       There was a planned maintenance onsite that wa...                105   \n",
       "3                         User confirmed issue was solved                 31   \n",
       "4       User G drive was inactive, i reconfigured it, ...                 90   \n",
       "...                                                   ...                ...   \n",
       "117240                                                                     0   \n",
       "117241  se actualizaron los drivers de impresoras soli...                 55   \n",
       "117242                                                                     0   \n",
       "117243                                                                     0   \n",
       "117244                                                                     0   \n",
       "\n",
       "        Reassignment_count  Resolve_time  \n",
       "0                      1.0      158300.0  \n",
       "1                      0.0        5694.0  \n",
       "2                      1.0      126566.0  \n",
       "3                      3.0     1919058.0  \n",
       "4                      0.0         128.0  \n",
       "...                    ...           ...  \n",
       "117240                 0.0         381.0  \n",
       "117241                 0.0          53.0  \n",
       "117242                 1.0        2080.0  \n",
       "117243                 7.0      325514.0  \n",
       "117244                 2.0       82834.0  \n",
       "\n",
       "[117244 rows x 18 columns]"
      ],
      "text/html": "<div>\n<style scoped>\n    .dataframe tbody tr th:only-of-type {\n        vertical-align: middle;\n    }\n\n    .dataframe tbody tr th {\n        vertical-align: top;\n    }\n\n    .dataframe thead th {\n        text-align: right;\n    }\n</style>\n<table border=\"1\" class=\"dataframe\">\n  <thead>\n    <tr style=\"text-align: right;\">\n      <th></th>\n      <th>Number</th>\n      <th>Priority</th>\n      <th>Incident_area</th>\n      <th>Opened</th>\n      <th>Closed</th>\n      <th>Status</th>\n      <th>Problem</th>\n      <th>Configuration_item</th>\n      <th>Short_description</th>\n      <th>Short_description_length</th>\n      <th>Description</th>\n      <th>Description_tags</th>\n      <th>Description_length</th>\n      <th>Assignment_group</th>\n      <th>Resolution_notes</th>\n      <th>Resolution_length</th>\n      <th>Reassignment_count</th>\n      <th>Resolve_time</th>\n    </tr>\n  </thead>\n  <tbody>\n    <tr>\n      <th>0</th>\n      <td>INC0284448</td>\n      <td>P2 - High</td>\n      <td>SAP :: Sonda Procwork (PRW)</td>\n      <td>44013.002951</td>\n      <td>44024.875023</td>\n      <td>Closed</td>\n      <td>NaN</td>\n      <td>NaN</td>\n      <td>VF - Not working</td>\n      <td>16</td>\n      <td>Please, the transaction VF is not working, we ...</td>\n      <td>{'NOUN': 10, '.': 3, 'DET': 1, 'VERB': 4, 'ADV...</td>\n      <td>104</td>\n      <td>IMT APS SAP Order to Cash L2</td>\n      <td>Hello Daniel,Many thanks for your reply, at ti...</td>\n      <td>247</td>\n      <td>1.0</td>\n      <td>158300.0</td>\n    </tr>\n    <tr>\n      <th>1</th>\n      <td>INC0284449</td>\n      <td>P4 - Low</td>\n      <td>SAP :: Technical</td>\n      <td>44013.003183</td>\n      <td>44023.083368</td>\n      <td>Closed</td>\n      <td>NaN</td>\n      <td>SAP-ECC-PRD</td>\n      <td>Enqueue Processing</td>\n      <td>19</td>\n      <td>Alert Details: Name....................Enqueue...</td>\n      <td>{'NOUN': 46, '.': 5, 'ADJ': 1, 'VERB': 1, 'PRT...</td>\n      <td>479</td>\n      <td>IMT TCS SAP Basis</td>\n      <td>Monitoring the lock entries in P via incident ...</td>\n      <td>105</td>\n      <td>0.0</td>\n      <td>5694.0</td>\n    </tr>\n    <tr>\n      <th>2</th>\n      <td>INC0180368</td>\n      <td>P2 - High</td>\n      <td>Infrastructure &amp; Servers :: Server (physical/v...</td>\n      <td>43831.011447</td>\n      <td>43842.500012</td>\n      <td>Closed</td>\n      <td>NaN</td>\n      <td>GOYCSM0001DC</td>\n      <td>GOYCSMDC.ds.givaudan.com (Server does not comm...</td>\n      <td>151</td>\n      <td>Dear Team,We received a ticket from our monito...</td>\n      <td>{'NOUN': 129, '.': 88, 'PRON': 4, 'VERB': 28, ...</td>\n      <td>2090</td>\n      <td>IMT NLI Ops EAME</td>\n      <td>There was a planned maintenance onsite that wa...</td>\n      <td>105</td>\n      <td>1.0</td>\n      <td>126566.0</td>\n    </tr>\n    <tr>\n      <th>3</th>\n      <td>INC0180373</td>\n      <td>P3 - Moderate</td>\n      <td>SAP :: Order to Cash (OTC)</td>\n      <td>43831.132951</td>\n      <td>43871.625023</td>\n      <td>Closed</td>\n      <td>NaN</td>\n      <td>NaN</td>\n      <td>I cant connect to ESKER PRD &amp; UAT</td>\n      <td>33</td>\n      <td>I already got access for ESKER QA, UAT &amp; PRD. ...</td>\n      <td>{'PRON': 5, 'ADV': 2, 'VERB': 11, 'NOUN': 33, ...</td>\n      <td>569</td>\n      <td>IMT Desktop Infra Support Indonesia</td>\n      <td>User confirmed issue was solved</td>\n      <td>31</td>\n      <td>3.0</td>\n      <td>1919058.0</td>\n    </tr>\n    <tr>\n      <th>4</th>\n      <td>INC0180380</td>\n      <td>P3 - Moderate</td>\n      <td>Business Application :: Google</td>\n      <td>43831.405255</td>\n      <td>43841.416678</td>\n      <td>Closed</td>\n      <td>NaN</td>\n      <td>NaN</td>\n      <td>I cannot access my google drive shortcut from ...</td>\n      <td>56</td>\n      <td>I cannot access my google drive shortcut from ...</td>\n      <td>{'PRON': 3, 'VERB': 1, 'ADV': 1, 'NOUN': 9, 'A...</td>\n      <td>103</td>\n      <td>IMT Service Desk AME</td>\n      <td>User G drive was inactive, i reconfigured it, ...</td>\n      <td>90</td>\n      <td>0.0</td>\n      <td>128.0</td>\n    </tr>\n    <tr>\n      <th>...</th>\n      <td>...</td>\n      <td>...</td>\n      <td>...</td>\n      <td>...</td>\n      <td>...</td>\n      <td>...</td>\n      <td>...</td>\n      <td>...</td>\n      <td>...</td>\n      <td>...</td>\n      <td>...</td>\n      <td>...</td>\n      <td>...</td>\n      <td>...</td>\n      <td>...</td>\n      <td>...</td>\n      <td>...</td>\n      <td>...</td>\n    </tr>\n    <tr>\n      <th>117240</th>\n      <td>INC0438584</td>\n      <td>P4 - Low</td>\n      <td>User Workplace :: Desk Phone</td>\n      <td>44307.926146</td>\n      <td>44317.958345</td>\n      <td>Closed</td>\n      <td>NaN</td>\n      <td>NaN</td>\n      <td>Telephone connectivity</td>\n      <td>22</td>\n      <td>Could you help me reviewing telephone connecti...</td>\n      <td>{'NOUN': 11, 'PRON': 2, 'VERB': 2, '.': 3, 'AD...</td>\n      <td>108</td>\n      <td>IMT Service Desk Colombia</td>\n      <td></td>\n      <td>0</td>\n      <td>0.0</td>\n      <td>381.0</td>\n    </tr>\n    <tr>\n      <th>117241</th>\n      <td>INC0438587</td>\n      <td>P3 - Moderate</td>\n      <td>User Workplace :: Printer</td>\n      <td>44307.933252</td>\n      <td>44317.958345</td>\n      <td>Closed</td>\n      <td>NaN</td>\n      <td>NaN</td>\n      <td>actualizacion de drivers</td>\n      <td>24</td>\n      <td>&gt;&gt; Full details from \"Requested by\" :impresora...</td>\n      <td>{'NOUN': 15, 'CONJ': 1, 'ADP': 6, '.': 13, 'VE...</td>\n      <td>246</td>\n      <td>IMT Service Desk Mexico</td>\n      <td>se actualizaron los drivers de impresoras soli...</td>\n      <td>55</td>\n      <td>0.0</td>\n      <td>53.0</td>\n    </tr>\n    <tr>\n      <th>117242</th>\n      <td>INC0440299</td>\n      <td>P4 - Low</td>\n      <td>Internet, network &amp; remote access :: LAN infra...</td>\n      <td>44312.497905</td>\n      <td>44312.521979</td>\n      <td>Closed</td>\n      <td>NaN</td>\n      <td>GKYNYF0001</td>\n      <td></td>\n      <td>0</td>\n      <td></td>\n      <td>{}</td>\n      <td>0</td>\n      <td>IMT NLI Ops Orange</td>\n      <td></td>\n      <td>0</td>\n      <td>1.0</td>\n      <td>2080.0</td>\n    </tr>\n    <tr>\n      <th>117243</th>\n      <td>INC0440766</td>\n      <td>P4 - Low</td>\n      <td>Internet, network &amp; remote access :: OBS</td>\n      <td>44312.896644</td>\n      <td>44316.664167</td>\n      <td>Closed</td>\n      <td>NaN</td>\n      <td>GHSNYF0002</td>\n      <td>Secondary firewall blocking all traffic; zone ...</td>\n      <td>63</td>\n      <td>Investigating some issues at the site, William...</td>\n      <td>{'VERB': 16, 'DET': 9, 'NOUN': 17, 'ADP': 6, '...</td>\n      <td>393</td>\n      <td>IMT NLI Ops AMER</td>\n      <td></td>\n      <td>0</td>\n      <td>7.0</td>\n      <td>325514.0</td>\n    </tr>\n    <tr>\n      <th>117244</th>\n      <td>INC0441871</td>\n      <td>P4 - Low</td>\n      <td>Internet, network &amp; remote access :: WAN</td>\n      <td>44314.706007</td>\n      <td>44315.664734</td>\n      <td>Closed</td>\n      <td>NaN</td>\n      <td>GARNYF0001</td>\n      <td>All NTI Fortigates  - Block site www.ammyy.com...</td>\n      <td>55</td>\n      <td>Hello OBS team,Could you add a rule to block t...</td>\n      <td>{'NOUN': 13, '.': 6, 'PRON': 2, 'VERB': 2, 'DE...</td>\n      <td>154</td>\n      <td>IMT NLI Ops Orange</td>\n      <td></td>\n      <td>0</td>\n      <td>2.0</td>\n      <td>82834.0</td>\n    </tr>\n  </tbody>\n</table>\n<p>117244 rows × 18 columns</p>\n</div>"
     },
     "metadata": {},
     "execution_count": 155
    }
   ],
   "source": [
    "incidents = get_tags_column(incidents, 'Description', get_tags)\n",
    "incidents"
   ]
  },
  {
   "cell_type": "code",
   "execution_count": 110,
   "metadata": {},
   "outputs": [],
   "source": [
    "# incidents.to_csv('../data/incidents_tags.csv')"
   ]
  },
  {
   "cell_type": "code",
   "execution_count": 156,
   "metadata": {},
   "outputs": [
    {
     "output_type": "stream",
     "name": "stderr",
     "text": [
      "<ipython-input-153-f2a5c0c4d7fd>:16: SettingWithCopyWarning: \nA value is trying to be set on a copy of a slice from a DataFrame.\nTry using .loc[row_indexer,col_indexer] = value instead\n\nSee the caveats in the documentation: https://pandas.pydata.org/pandas-docs/stable/user_guide/indexing.html#returning-a-view-versus-a-copy\n  dataframe[new_column] = dataframe[column].apply(func)\n"
     ]
    },
    {
     "output_type": "execute_result",
     "data": {
      "text/plain": [
       "            Number       Priority  \\\n",
       "0       INC0284448      P2 - High   \n",
       "1       INC0284449       P4 - Low   \n",
       "2       INC0180368      P2 - High   \n",
       "3       INC0180373  P3 - Moderate   \n",
       "4       INC0180380  P3 - Moderate   \n",
       "...            ...            ...   \n",
       "117240  INC0438584       P4 - Low   \n",
       "117241  INC0438587  P3 - Moderate   \n",
       "117242  INC0440299       P4 - Low   \n",
       "117243  INC0440766       P4 - Low   \n",
       "117244  INC0441871       P4 - Low   \n",
       "\n",
       "                                            Incident_area        Opened  \\\n",
       "0                             SAP :: Sonda Procwork (PRW)  44013.002951   \n",
       "1                                        SAP :: Technical  44013.003183   \n",
       "2       Infrastructure & Servers :: Server (physical/v...  43831.011447   \n",
       "3                              SAP :: Order to Cash (OTC)  43831.132951   \n",
       "4                          Business Application :: Google  43831.405255   \n",
       "...                                                   ...           ...   \n",
       "117240                       User Workplace :: Desk Phone  44307.926146   \n",
       "117241                          User Workplace :: Printer  44307.933252   \n",
       "117242  Internet, network & remote access :: LAN infra...  44312.497905   \n",
       "117243           Internet, network & remote access :: OBS  44312.896644   \n",
       "117244           Internet, network & remote access :: WAN  44314.706007   \n",
       "\n",
       "              Closed  Status Problem Configuration_item  \\\n",
       "0       44024.875023  Closed     NaN                NaN   \n",
       "1       44023.083368  Closed     NaN        SAP-ECC-PRD   \n",
       "2       43842.500012  Closed     NaN       GOYCSM0001DC   \n",
       "3       43871.625023  Closed     NaN                NaN   \n",
       "4       43841.416678  Closed     NaN                NaN   \n",
       "...              ...     ...     ...                ...   \n",
       "117240  44317.958345  Closed     NaN                NaN   \n",
       "117241  44317.958345  Closed     NaN                NaN   \n",
       "117242  44312.521979  Closed     NaN         GKYNYF0001   \n",
       "117243  44316.664167  Closed     NaN         GHSNYF0002   \n",
       "117244  44315.664734  Closed     NaN         GARNYF0001   \n",
       "\n",
       "                                        Short_description  \\\n",
       "0                                        VF - Not working   \n",
       "1                                     Enqueue Processing    \n",
       "2       GOYCSMDC.ds.givaudan.com (Server does not comm...   \n",
       "3                       I cant connect to ESKER PRD & UAT   \n",
       "4       I cannot access my google drive shortcut from ...   \n",
       "...                                                   ...   \n",
       "117240                             Telephone connectivity   \n",
       "117241                           actualizacion de drivers   \n",
       "117242                                                      \n",
       "117243  Secondary firewall blocking all traffic; zone ...   \n",
       "117244  All NTI Fortigates  - Block site www.ammyy.com...   \n",
       "\n",
       "        Short_description_length  \\\n",
       "0                             16   \n",
       "1                             19   \n",
       "2                            151   \n",
       "3                             33   \n",
       "4                             56   \n",
       "...                          ...   \n",
       "117240                        22   \n",
       "117241                        24   \n",
       "117242                         0   \n",
       "117243                        63   \n",
       "117244                        55   \n",
       "\n",
       "                                              Description  \\\n",
       "0       Please, the transaction VF is not working, we ...   \n",
       "1       Alert Details: Name....................Enqueue...   \n",
       "2       Dear Team,We received a ticket from our monito...   \n",
       "3       I already got access for ESKER QA, UAT & PRD. ...   \n",
       "4       I cannot access my google drive shortcut from ...   \n",
       "...                                                   ...   \n",
       "117240  Could you help me reviewing telephone connecti...   \n",
       "117241  >> Full details from \"Requested by\" :impresora...   \n",
       "117242                                                      \n",
       "117243  Investigating some issues at the site, William...   \n",
       "117244  Hello OBS team,Could you add a rule to block t...   \n",
       "\n",
       "                                         Description_tags  Description_length  \\\n",
       "0       {'NOUN': 10, '.': 3, 'DET': 1, 'VERB': 4, 'ADV...                 104   \n",
       "1       {'NOUN': 46, '.': 5, 'ADJ': 1, 'VERB': 1, 'PRT...                 479   \n",
       "2       {'NOUN': 129, '.': 88, 'PRON': 4, 'VERB': 28, ...                2090   \n",
       "3       {'PRON': 5, 'ADV': 2, 'VERB': 11, 'NOUN': 33, ...                 569   \n",
       "4       {'PRON': 3, 'VERB': 1, 'ADV': 1, 'NOUN': 9, 'A...                 103   \n",
       "...                                                   ...                 ...   \n",
       "117240  {'NOUN': 11, 'PRON': 2, 'VERB': 2, '.': 3, 'AD...                 108   \n",
       "117241  {'NOUN': 15, 'CONJ': 1, 'ADP': 6, '.': 13, 'VE...                 246   \n",
       "117242                                                 {}                   0   \n",
       "117243  {'VERB': 16, 'DET': 9, 'NOUN': 17, 'ADP': 6, '...                 393   \n",
       "117244  {'NOUN': 13, '.': 6, 'PRON': 2, 'VERB': 2, 'DE...                 154   \n",
       "\n",
       "                           Assignment_group  \\\n",
       "0              IMT APS SAP Order to Cash L2   \n",
       "1                         IMT TCS SAP Basis   \n",
       "2                          IMT NLI Ops EAME   \n",
       "3       IMT Desktop Infra Support Indonesia   \n",
       "4                      IMT Service Desk AME   \n",
       "...                                     ...   \n",
       "117240            IMT Service Desk Colombia   \n",
       "117241              IMT Service Desk Mexico   \n",
       "117242                   IMT NLI Ops Orange   \n",
       "117243                     IMT NLI Ops AMER   \n",
       "117244                   IMT NLI Ops Orange   \n",
       "\n",
       "                                         Resolution_notes  \\\n",
       "0       Hello Daniel,Many thanks for your reply, at ti...   \n",
       "1       Monitoring the lock entries in P via incident ...   \n",
       "2       There was a planned maintenance onsite that wa...   \n",
       "3                         User confirmed issue was solved   \n",
       "4       User G drive was inactive, i reconfigured it, ...   \n",
       "...                                                   ...   \n",
       "117240                                                      \n",
       "117241  se actualizaron los drivers de impresoras soli...   \n",
       "117242                                                      \n",
       "117243                                                      \n",
       "117244                                                      \n",
       "\n",
       "                                    Resolution_notes_tags  Resolution_length  \\\n",
       "0       {'NOUN': 13, '.': 6, 'ADJ': 2, 'ADP': 5, 'PRON...                247   \n",
       "1       {'VERB': 2, 'DET': 3, 'NOUN': 8, 'ADP': 3, 'AD...                105   \n",
       "2       {'DET': 3, 'VERB': 4, 'ADJ': 2, 'NOUN': 4, 'PR...                105   \n",
       "3                                  {'NOUN': 2, 'VERB': 3}                 31   \n",
       "4       {'NOUN': 5, 'VERB': 3, 'ADJ': 1, '.': 2, 'ADV'...                 90   \n",
       "...                                                   ...                ...   \n",
       "117240                                                 {}                  0   \n",
       "117241             {'NOUN': 5, 'VERB': 1, 'X': 1, '.': 1}                 55   \n",
       "117242                                                 {}                  0   \n",
       "117243                                                 {}                  0   \n",
       "117244                                                 {}                  0   \n",
       "\n",
       "        Reassignment_count  Resolve_time  \n",
       "0                      1.0      158300.0  \n",
       "1                      0.0        5694.0  \n",
       "2                      1.0      126566.0  \n",
       "3                      3.0     1919058.0  \n",
       "4                      0.0         128.0  \n",
       "...                    ...           ...  \n",
       "117240                 0.0         381.0  \n",
       "117241                 0.0          53.0  \n",
       "117242                 1.0        2080.0  \n",
       "117243                 7.0      325514.0  \n",
       "117244                 2.0       82834.0  \n",
       "\n",
       "[117244 rows x 19 columns]"
      ],
      "text/html": "<div>\n<style scoped>\n    .dataframe tbody tr th:only-of-type {\n        vertical-align: middle;\n    }\n\n    .dataframe tbody tr th {\n        vertical-align: top;\n    }\n\n    .dataframe thead th {\n        text-align: right;\n    }\n</style>\n<table border=\"1\" class=\"dataframe\">\n  <thead>\n    <tr style=\"text-align: right;\">\n      <th></th>\n      <th>Number</th>\n      <th>Priority</th>\n      <th>Incident_area</th>\n      <th>Opened</th>\n      <th>Closed</th>\n      <th>Status</th>\n      <th>Problem</th>\n      <th>Configuration_item</th>\n      <th>Short_description</th>\n      <th>Short_description_length</th>\n      <th>Description</th>\n      <th>Description_tags</th>\n      <th>Description_length</th>\n      <th>Assignment_group</th>\n      <th>Resolution_notes</th>\n      <th>Resolution_notes_tags</th>\n      <th>Resolution_length</th>\n      <th>Reassignment_count</th>\n      <th>Resolve_time</th>\n    </tr>\n  </thead>\n  <tbody>\n    <tr>\n      <th>0</th>\n      <td>INC0284448</td>\n      <td>P2 - High</td>\n      <td>SAP :: Sonda Procwork (PRW)</td>\n      <td>44013.002951</td>\n      <td>44024.875023</td>\n      <td>Closed</td>\n      <td>NaN</td>\n      <td>NaN</td>\n      <td>VF - Not working</td>\n      <td>16</td>\n      <td>Please, the transaction VF is not working, we ...</td>\n      <td>{'NOUN': 10, '.': 3, 'DET': 1, 'VERB': 4, 'ADV...</td>\n      <td>104</td>\n      <td>IMT APS SAP Order to Cash L2</td>\n      <td>Hello Daniel,Many thanks for your reply, at ti...</td>\n      <td>{'NOUN': 13, '.': 6, 'ADJ': 2, 'ADP': 5, 'PRON...</td>\n      <td>247</td>\n      <td>1.0</td>\n      <td>158300.0</td>\n    </tr>\n    <tr>\n      <th>1</th>\n      <td>INC0284449</td>\n      <td>P4 - Low</td>\n      <td>SAP :: Technical</td>\n      <td>44013.003183</td>\n      <td>44023.083368</td>\n      <td>Closed</td>\n      <td>NaN</td>\n      <td>SAP-ECC-PRD</td>\n      <td>Enqueue Processing</td>\n      <td>19</td>\n      <td>Alert Details: Name....................Enqueue...</td>\n      <td>{'NOUN': 46, '.': 5, 'ADJ': 1, 'VERB': 1, 'PRT...</td>\n      <td>479</td>\n      <td>IMT TCS SAP Basis</td>\n      <td>Monitoring the lock entries in P via incident ...</td>\n      <td>{'VERB': 2, 'DET': 3, 'NOUN': 8, 'ADP': 3, 'AD...</td>\n      <td>105</td>\n      <td>0.0</td>\n      <td>5694.0</td>\n    </tr>\n    <tr>\n      <th>2</th>\n      <td>INC0180368</td>\n      <td>P2 - High</td>\n      <td>Infrastructure &amp; Servers :: Server (physical/v...</td>\n      <td>43831.011447</td>\n      <td>43842.500012</td>\n      <td>Closed</td>\n      <td>NaN</td>\n      <td>GOYCSM0001DC</td>\n      <td>GOYCSMDC.ds.givaudan.com (Server does not comm...</td>\n      <td>151</td>\n      <td>Dear Team,We received a ticket from our monito...</td>\n      <td>{'NOUN': 129, '.': 88, 'PRON': 4, 'VERB': 28, ...</td>\n      <td>2090</td>\n      <td>IMT NLI Ops EAME</td>\n      <td>There was a planned maintenance onsite that wa...</td>\n      <td>{'DET': 3, 'VERB': 4, 'ADJ': 2, 'NOUN': 4, 'PR...</td>\n      <td>105</td>\n      <td>1.0</td>\n      <td>126566.0</td>\n    </tr>\n    <tr>\n      <th>3</th>\n      <td>INC0180373</td>\n      <td>P3 - Moderate</td>\n      <td>SAP :: Order to Cash (OTC)</td>\n      <td>43831.132951</td>\n      <td>43871.625023</td>\n      <td>Closed</td>\n      <td>NaN</td>\n      <td>NaN</td>\n      <td>I cant connect to ESKER PRD &amp; UAT</td>\n      <td>33</td>\n      <td>I already got access for ESKER QA, UAT &amp; PRD. ...</td>\n      <td>{'PRON': 5, 'ADV': 2, 'VERB': 11, 'NOUN': 33, ...</td>\n      <td>569</td>\n      <td>IMT Desktop Infra Support Indonesia</td>\n      <td>User confirmed issue was solved</td>\n      <td>{'NOUN': 2, 'VERB': 3}</td>\n      <td>31</td>\n      <td>3.0</td>\n      <td>1919058.0</td>\n    </tr>\n    <tr>\n      <th>4</th>\n      <td>INC0180380</td>\n      <td>P3 - Moderate</td>\n      <td>Business Application :: Google</td>\n      <td>43831.405255</td>\n      <td>43841.416678</td>\n      <td>Closed</td>\n      <td>NaN</td>\n      <td>NaN</td>\n      <td>I cannot access my google drive shortcut from ...</td>\n      <td>56</td>\n      <td>I cannot access my google drive shortcut from ...</td>\n      <td>{'PRON': 3, 'VERB': 1, 'ADV': 1, 'NOUN': 9, 'A...</td>\n      <td>103</td>\n      <td>IMT Service Desk AME</td>\n      <td>User G drive was inactive, i reconfigured it, ...</td>\n      <td>{'NOUN': 5, 'VERB': 3, 'ADJ': 1, '.': 2, 'ADV'...</td>\n      <td>90</td>\n      <td>0.0</td>\n      <td>128.0</td>\n    </tr>\n    <tr>\n      <th>...</th>\n      <td>...</td>\n      <td>...</td>\n      <td>...</td>\n      <td>...</td>\n      <td>...</td>\n      <td>...</td>\n      <td>...</td>\n      <td>...</td>\n      <td>...</td>\n      <td>...</td>\n      <td>...</td>\n      <td>...</td>\n      <td>...</td>\n      <td>...</td>\n      <td>...</td>\n      <td>...</td>\n      <td>...</td>\n      <td>...</td>\n      <td>...</td>\n    </tr>\n    <tr>\n      <th>117240</th>\n      <td>INC0438584</td>\n      <td>P4 - Low</td>\n      <td>User Workplace :: Desk Phone</td>\n      <td>44307.926146</td>\n      <td>44317.958345</td>\n      <td>Closed</td>\n      <td>NaN</td>\n      <td>NaN</td>\n      <td>Telephone connectivity</td>\n      <td>22</td>\n      <td>Could you help me reviewing telephone connecti...</td>\n      <td>{'NOUN': 11, 'PRON': 2, 'VERB': 2, '.': 3, 'AD...</td>\n      <td>108</td>\n      <td>IMT Service Desk Colombia</td>\n      <td></td>\n      <td>{}</td>\n      <td>0</td>\n      <td>0.0</td>\n      <td>381.0</td>\n    </tr>\n    <tr>\n      <th>117241</th>\n      <td>INC0438587</td>\n      <td>P3 - Moderate</td>\n      <td>User Workplace :: Printer</td>\n      <td>44307.933252</td>\n      <td>44317.958345</td>\n      <td>Closed</td>\n      <td>NaN</td>\n      <td>NaN</td>\n      <td>actualizacion de drivers</td>\n      <td>24</td>\n      <td>&gt;&gt; Full details from \"Requested by\" :impresora...</td>\n      <td>{'NOUN': 15, 'CONJ': 1, 'ADP': 6, '.': 13, 'VE...</td>\n      <td>246</td>\n      <td>IMT Service Desk Mexico</td>\n      <td>se actualizaron los drivers de impresoras soli...</td>\n      <td>{'NOUN': 5, 'VERB': 1, 'X': 1, '.': 1}</td>\n      <td>55</td>\n      <td>0.0</td>\n      <td>53.0</td>\n    </tr>\n    <tr>\n      <th>117242</th>\n      <td>INC0440299</td>\n      <td>P4 - Low</td>\n      <td>Internet, network &amp; remote access :: LAN infra...</td>\n      <td>44312.497905</td>\n      <td>44312.521979</td>\n      <td>Closed</td>\n      <td>NaN</td>\n      <td>GKYNYF0001</td>\n      <td></td>\n      <td>0</td>\n      <td></td>\n      <td>{}</td>\n      <td>0</td>\n      <td>IMT NLI Ops Orange</td>\n      <td></td>\n      <td>{}</td>\n      <td>0</td>\n      <td>1.0</td>\n      <td>2080.0</td>\n    </tr>\n    <tr>\n      <th>117243</th>\n      <td>INC0440766</td>\n      <td>P4 - Low</td>\n      <td>Internet, network &amp; remote access :: OBS</td>\n      <td>44312.896644</td>\n      <td>44316.664167</td>\n      <td>Closed</td>\n      <td>NaN</td>\n      <td>GHSNYF0002</td>\n      <td>Secondary firewall blocking all traffic; zone ...</td>\n      <td>63</td>\n      <td>Investigating some issues at the site, William...</td>\n      <td>{'VERB': 16, 'DET': 9, 'NOUN': 17, 'ADP': 6, '...</td>\n      <td>393</td>\n      <td>IMT NLI Ops AMER</td>\n      <td></td>\n      <td>{}</td>\n      <td>0</td>\n      <td>7.0</td>\n      <td>325514.0</td>\n    </tr>\n    <tr>\n      <th>117244</th>\n      <td>INC0441871</td>\n      <td>P4 - Low</td>\n      <td>Internet, network &amp; remote access :: WAN</td>\n      <td>44314.706007</td>\n      <td>44315.664734</td>\n      <td>Closed</td>\n      <td>NaN</td>\n      <td>GARNYF0001</td>\n      <td>All NTI Fortigates  - Block site www.ammyy.com...</td>\n      <td>55</td>\n      <td>Hello OBS team,Could you add a rule to block t...</td>\n      <td>{'NOUN': 13, '.': 6, 'PRON': 2, 'VERB': 2, 'DE...</td>\n      <td>154</td>\n      <td>IMT NLI Ops Orange</td>\n      <td></td>\n      <td>{}</td>\n      <td>0</td>\n      <td>2.0</td>\n      <td>82834.0</td>\n    </tr>\n  </tbody>\n</table>\n<p>117244 rows × 19 columns</p>\n</div>"
     },
     "metadata": {},
     "execution_count": 156
    }
   ],
   "source": [
    "incidents = get_tags_column(incidents, 'Resolution_notes', new_column='Resolution_tags', get_tags)\n",
    "incidents"
   ]
  },
  {
   "cell_type": "code",
   "execution_count": 157,
   "metadata": {},
   "outputs": [],
   "source": [
    "incidents.to_csv('../data/Preprocessed_Data_Tags.csv')"
   ]
  },
  {
   "cell_type": "code",
   "execution_count": 161,
   "metadata": {},
   "outputs": [],
   "source": [
    "incidents_2 = pd.read_csv('../data/Preprocessed_Data_Tags.csv', index_col=0)"
   ]
  },
  {
   "cell_type": "code",
   "execution_count": 194,
   "metadata": {},
   "outputs": [
    {
     "output_type": "execute_result",
     "data": {
      "text/plain": [
       "            Number       Priority  \\\n",
       "0       INC0284448      P2 - High   \n",
       "1       INC0284449       P4 - Low   \n",
       "2       INC0180368      P2 - High   \n",
       "3       INC0180373  P3 - Moderate   \n",
       "4       INC0180380  P3 - Moderate   \n",
       "...            ...            ...   \n",
       "117240  INC0438584       P4 - Low   \n",
       "117241  INC0438587  P3 - Moderate   \n",
       "117242  INC0440299       P4 - Low   \n",
       "117243  INC0440766       P4 - Low   \n",
       "117244  INC0441871       P4 - Low   \n",
       "\n",
       "                                            Incident_area        Opened  \\\n",
       "0                             SAP :: Sonda Procwork (PRW)  44013.002951   \n",
       "1                                        SAP :: Technical  44013.003183   \n",
       "2       Infrastructure & Servers :: Server (physical/v...  43831.011447   \n",
       "3                              SAP :: Order to Cash (OTC)  43831.132951   \n",
       "4                          Business Application :: Google  43831.405255   \n",
       "...                                                   ...           ...   \n",
       "117240                       User Workplace :: Desk Phone  44307.926146   \n",
       "117241                          User Workplace :: Printer  44307.933252   \n",
       "117242  Internet, network & remote access :: LAN infra...  44312.497905   \n",
       "117243           Internet, network & remote access :: OBS  44312.896644   \n",
       "117244           Internet, network & remote access :: WAN  44314.706007   \n",
       "\n",
       "              Closed  Status Problem Configuration_item  \\\n",
       "0       44024.875023  Closed     NaN                NaN   \n",
       "1       44023.083368  Closed     NaN        SAP-ECC-PRD   \n",
       "2       43842.500012  Closed     NaN       GOYCSM0001DC   \n",
       "3       43871.625023  Closed     NaN                NaN   \n",
       "4       43841.416678  Closed     NaN                NaN   \n",
       "...              ...     ...     ...                ...   \n",
       "117240  44317.958345  Closed     NaN                NaN   \n",
       "117241  44317.958345  Closed     NaN                NaN   \n",
       "117242  44312.521979  Closed     NaN         GKYNYF0001   \n",
       "117243  44316.664167  Closed     NaN         GHSNYF0002   \n",
       "117244  44315.664734  Closed     NaN         GARNYF0001   \n",
       "\n",
       "                                        Short_description  \\\n",
       "0                                        VF - Not working   \n",
       "1                                     Enqueue Processing    \n",
       "2       GOYCSMDC.ds.givaudan.com (Server does not comm...   \n",
       "3                       I cant connect to ESKER PRD & UAT   \n",
       "4       I cannot access my google drive shortcut from ...   \n",
       "...                                                   ...   \n",
       "117240                             Telephone connectivity   \n",
       "117241                           actualizacion de drivers   \n",
       "117242                                                NaN   \n",
       "117243  Secondary firewall blocking all traffic; zone ...   \n",
       "117244  All NTI Fortigates  - Block site www.ammyy.com...   \n",
       "\n",
       "        Short_description_length  \\\n",
       "0                             16   \n",
       "1                             19   \n",
       "2                            151   \n",
       "3                             33   \n",
       "4                             56   \n",
       "...                          ...   \n",
       "117240                        22   \n",
       "117241                        24   \n",
       "117242                         0   \n",
       "117243                        63   \n",
       "117244                        55   \n",
       "\n",
       "                                              Description  \\\n",
       "0       Please, the transaction VF is not working, we ...   \n",
       "1       Alert Details: Name....................Enqueue...   \n",
       "2       Dear Team,We received a ticket from our monito...   \n",
       "3       I already got access for ESKER QA, UAT & PRD. ...   \n",
       "4       I cannot access my google drive shortcut from ...   \n",
       "...                                                   ...   \n",
       "117240  Could you help me reviewing telephone connecti...   \n",
       "117241  >> Full details from \"Requested by\" :impresora...   \n",
       "117242                                                NaN   \n",
       "117243  Investigating some issues at the site, William...   \n",
       "117244  Hello OBS team,Could you add a rule to block t...   \n",
       "\n",
       "                                         Description_tags  Description_length  \\\n",
       "0       {'NOUN': 10, '.': 3, 'DET': 1, 'VERB': 4, 'ADV...                 104   \n",
       "1       {'NOUN': 46, '.': 5, 'ADJ': 1, 'VERB': 1, 'PRT...                 479   \n",
       "2       {'NOUN': 129, '.': 88, 'PRON': 4, 'VERB': 28, ...                2090   \n",
       "3       {'PRON': 5, 'ADV': 2, 'VERB': 11, 'NOUN': 33, ...                 569   \n",
       "4       {'PRON': 3, 'VERB': 1, 'ADV': 1, 'NOUN': 9, 'A...                 103   \n",
       "...                                                   ...                 ...   \n",
       "117240  {'NOUN': 11, 'PRON': 2, 'VERB': 2, '.': 3, 'AD...                 108   \n",
       "117241  {'NOUN': 15, 'CONJ': 1, 'ADP': 6, '.': 13, 'VE...                 246   \n",
       "117242                                                 {}                   0   \n",
       "117243  {'VERB': 16, 'DET': 9, 'NOUN': 17, 'ADP': 6, '...                 393   \n",
       "117244  {'NOUN': 13, '.': 6, 'PRON': 2, 'VERB': 2, 'DE...                 154   \n",
       "\n",
       "                           Assignment_group  \\\n",
       "0              IMT APS SAP Order to Cash L2   \n",
       "1                         IMT TCS SAP Basis   \n",
       "2                          IMT NLI Ops EAME   \n",
       "3       IMT Desktop Infra Support Indonesia   \n",
       "4                      IMT Service Desk AME   \n",
       "...                                     ...   \n",
       "117240            IMT Service Desk Colombia   \n",
       "117241              IMT Service Desk Mexico   \n",
       "117242                   IMT NLI Ops Orange   \n",
       "117243                     IMT NLI Ops AMER   \n",
       "117244                   IMT NLI Ops Orange   \n",
       "\n",
       "                                         Resolution_notes  \\\n",
       "0       Hello Daniel,Many thanks for your reply, at ti...   \n",
       "1       Monitoring the lock entries in P via incident ...   \n",
       "2       There was a planned maintenance onsite that wa...   \n",
       "3                         User confirmed issue was solved   \n",
       "4       User G drive was inactive, i reconfigured it, ...   \n",
       "...                                                   ...   \n",
       "117240                                                NaN   \n",
       "117241  se actualizaron los drivers de impresoras soli...   \n",
       "117242                                                NaN   \n",
       "117243                                                NaN   \n",
       "117244                                                NaN   \n",
       "\n",
       "                                    Resolution_notes_tags  Resolution_length  \\\n",
       "0       {'NOUN': 13, '.': 6, 'ADJ': 2, 'ADP': 5, 'PRON...                247   \n",
       "1       {'VERB': 2, 'DET': 3, 'NOUN': 8, 'ADP': 3, 'AD...                105   \n",
       "2       {'DET': 3, 'VERB': 4, 'ADJ': 2, 'NOUN': 4, 'PR...                105   \n",
       "3                                  {'NOUN': 2, 'VERB': 3}                 31   \n",
       "4       {'NOUN': 5, 'VERB': 3, 'ADJ': 1, '.': 2, 'ADV'...                 90   \n",
       "...                                                   ...                ...   \n",
       "117240                                                 {}                  0   \n",
       "117241             {'NOUN': 5, 'VERB': 1, 'X': 1, '.': 1}                 55   \n",
       "117242                                                 {}                  0   \n",
       "117243                                                 {}                  0   \n",
       "117244                                                 {}                  0   \n",
       "\n",
       "        Reassignment_count  Resolve_time  \n",
       "0                      1.0      158300.0  \n",
       "1                      0.0        5694.0  \n",
       "2                      1.0      126566.0  \n",
       "3                      3.0     1919058.0  \n",
       "4                      0.0         128.0  \n",
       "...                    ...           ...  \n",
       "117240                 0.0         381.0  \n",
       "117241                 0.0          53.0  \n",
       "117242                 1.0        2080.0  \n",
       "117243                 7.0      325514.0  \n",
       "117244                 2.0       82834.0  \n",
       "\n",
       "[117244 rows x 19 columns]"
      ],
      "text/html": "<div>\n<style scoped>\n    .dataframe tbody tr th:only-of-type {\n        vertical-align: middle;\n    }\n\n    .dataframe tbody tr th {\n        vertical-align: top;\n    }\n\n    .dataframe thead th {\n        text-align: right;\n    }\n</style>\n<table border=\"1\" class=\"dataframe\">\n  <thead>\n    <tr style=\"text-align: right;\">\n      <th></th>\n      <th>Number</th>\n      <th>Priority</th>\n      <th>Incident_area</th>\n      <th>Opened</th>\n      <th>Closed</th>\n      <th>Status</th>\n      <th>Problem</th>\n      <th>Configuration_item</th>\n      <th>Short_description</th>\n      <th>Short_description_length</th>\n      <th>Description</th>\n      <th>Description_tags</th>\n      <th>Description_length</th>\n      <th>Assignment_group</th>\n      <th>Resolution_notes</th>\n      <th>Resolution_notes_tags</th>\n      <th>Resolution_length</th>\n      <th>Reassignment_count</th>\n      <th>Resolve_time</th>\n    </tr>\n  </thead>\n  <tbody>\n    <tr>\n      <th>0</th>\n      <td>INC0284448</td>\n      <td>P2 - High</td>\n      <td>SAP :: Sonda Procwork (PRW)</td>\n      <td>44013.002951</td>\n      <td>44024.875023</td>\n      <td>Closed</td>\n      <td>NaN</td>\n      <td>NaN</td>\n      <td>VF - Not working</td>\n      <td>16</td>\n      <td>Please, the transaction VF is not working, we ...</td>\n      <td>{'NOUN': 10, '.': 3, 'DET': 1, 'VERB': 4, 'ADV...</td>\n      <td>104</td>\n      <td>IMT APS SAP Order to Cash L2</td>\n      <td>Hello Daniel,Many thanks for your reply, at ti...</td>\n      <td>{'NOUN': 13, '.': 6, 'ADJ': 2, 'ADP': 5, 'PRON...</td>\n      <td>247</td>\n      <td>1.0</td>\n      <td>158300.0</td>\n    </tr>\n    <tr>\n      <th>1</th>\n      <td>INC0284449</td>\n      <td>P4 - Low</td>\n      <td>SAP :: Technical</td>\n      <td>44013.003183</td>\n      <td>44023.083368</td>\n      <td>Closed</td>\n      <td>NaN</td>\n      <td>SAP-ECC-PRD</td>\n      <td>Enqueue Processing</td>\n      <td>19</td>\n      <td>Alert Details: Name....................Enqueue...</td>\n      <td>{'NOUN': 46, '.': 5, 'ADJ': 1, 'VERB': 1, 'PRT...</td>\n      <td>479</td>\n      <td>IMT TCS SAP Basis</td>\n      <td>Monitoring the lock entries in P via incident ...</td>\n      <td>{'VERB': 2, 'DET': 3, 'NOUN': 8, 'ADP': 3, 'AD...</td>\n      <td>105</td>\n      <td>0.0</td>\n      <td>5694.0</td>\n    </tr>\n    <tr>\n      <th>2</th>\n      <td>INC0180368</td>\n      <td>P2 - High</td>\n      <td>Infrastructure &amp; Servers :: Server (physical/v...</td>\n      <td>43831.011447</td>\n      <td>43842.500012</td>\n      <td>Closed</td>\n      <td>NaN</td>\n      <td>GOYCSM0001DC</td>\n      <td>GOYCSMDC.ds.givaudan.com (Server does not comm...</td>\n      <td>151</td>\n      <td>Dear Team,We received a ticket from our monito...</td>\n      <td>{'NOUN': 129, '.': 88, 'PRON': 4, 'VERB': 28, ...</td>\n      <td>2090</td>\n      <td>IMT NLI Ops EAME</td>\n      <td>There was a planned maintenance onsite that wa...</td>\n      <td>{'DET': 3, 'VERB': 4, 'ADJ': 2, 'NOUN': 4, 'PR...</td>\n      <td>105</td>\n      <td>1.0</td>\n      <td>126566.0</td>\n    </tr>\n    <tr>\n      <th>3</th>\n      <td>INC0180373</td>\n      <td>P3 - Moderate</td>\n      <td>SAP :: Order to Cash (OTC)</td>\n      <td>43831.132951</td>\n      <td>43871.625023</td>\n      <td>Closed</td>\n      <td>NaN</td>\n      <td>NaN</td>\n      <td>I cant connect to ESKER PRD &amp; UAT</td>\n      <td>33</td>\n      <td>I already got access for ESKER QA, UAT &amp; PRD. ...</td>\n      <td>{'PRON': 5, 'ADV': 2, 'VERB': 11, 'NOUN': 33, ...</td>\n      <td>569</td>\n      <td>IMT Desktop Infra Support Indonesia</td>\n      <td>User confirmed issue was solved</td>\n      <td>{'NOUN': 2, 'VERB': 3}</td>\n      <td>31</td>\n      <td>3.0</td>\n      <td>1919058.0</td>\n    </tr>\n    <tr>\n      <th>4</th>\n      <td>INC0180380</td>\n      <td>P3 - Moderate</td>\n      <td>Business Application :: Google</td>\n      <td>43831.405255</td>\n      <td>43841.416678</td>\n      <td>Closed</td>\n      <td>NaN</td>\n      <td>NaN</td>\n      <td>I cannot access my google drive shortcut from ...</td>\n      <td>56</td>\n      <td>I cannot access my google drive shortcut from ...</td>\n      <td>{'PRON': 3, 'VERB': 1, 'ADV': 1, 'NOUN': 9, 'A...</td>\n      <td>103</td>\n      <td>IMT Service Desk AME</td>\n      <td>User G drive was inactive, i reconfigured it, ...</td>\n      <td>{'NOUN': 5, 'VERB': 3, 'ADJ': 1, '.': 2, 'ADV'...</td>\n      <td>90</td>\n      <td>0.0</td>\n      <td>128.0</td>\n    </tr>\n    <tr>\n      <th>...</th>\n      <td>...</td>\n      <td>...</td>\n      <td>...</td>\n      <td>...</td>\n      <td>...</td>\n      <td>...</td>\n      <td>...</td>\n      <td>...</td>\n      <td>...</td>\n      <td>...</td>\n      <td>...</td>\n      <td>...</td>\n      <td>...</td>\n      <td>...</td>\n      <td>...</td>\n      <td>...</td>\n      <td>...</td>\n      <td>...</td>\n      <td>...</td>\n    </tr>\n    <tr>\n      <th>117240</th>\n      <td>INC0438584</td>\n      <td>P4 - Low</td>\n      <td>User Workplace :: Desk Phone</td>\n      <td>44307.926146</td>\n      <td>44317.958345</td>\n      <td>Closed</td>\n      <td>NaN</td>\n      <td>NaN</td>\n      <td>Telephone connectivity</td>\n      <td>22</td>\n      <td>Could you help me reviewing telephone connecti...</td>\n      <td>{'NOUN': 11, 'PRON': 2, 'VERB': 2, '.': 3, 'AD...</td>\n      <td>108</td>\n      <td>IMT Service Desk Colombia</td>\n      <td>NaN</td>\n      <td>{}</td>\n      <td>0</td>\n      <td>0.0</td>\n      <td>381.0</td>\n    </tr>\n    <tr>\n      <th>117241</th>\n      <td>INC0438587</td>\n      <td>P3 - Moderate</td>\n      <td>User Workplace :: Printer</td>\n      <td>44307.933252</td>\n      <td>44317.958345</td>\n      <td>Closed</td>\n      <td>NaN</td>\n      <td>NaN</td>\n      <td>actualizacion de drivers</td>\n      <td>24</td>\n      <td>&gt;&gt; Full details from \"Requested by\" :impresora...</td>\n      <td>{'NOUN': 15, 'CONJ': 1, 'ADP': 6, '.': 13, 'VE...</td>\n      <td>246</td>\n      <td>IMT Service Desk Mexico</td>\n      <td>se actualizaron los drivers de impresoras soli...</td>\n      <td>{'NOUN': 5, 'VERB': 1, 'X': 1, '.': 1}</td>\n      <td>55</td>\n      <td>0.0</td>\n      <td>53.0</td>\n    </tr>\n    <tr>\n      <th>117242</th>\n      <td>INC0440299</td>\n      <td>P4 - Low</td>\n      <td>Internet, network &amp; remote access :: LAN infra...</td>\n      <td>44312.497905</td>\n      <td>44312.521979</td>\n      <td>Closed</td>\n      <td>NaN</td>\n      <td>GKYNYF0001</td>\n      <td>NaN</td>\n      <td>0</td>\n      <td>NaN</td>\n      <td>{}</td>\n      <td>0</td>\n      <td>IMT NLI Ops Orange</td>\n      <td>NaN</td>\n      <td>{}</td>\n      <td>0</td>\n      <td>1.0</td>\n      <td>2080.0</td>\n    </tr>\n    <tr>\n      <th>117243</th>\n      <td>INC0440766</td>\n      <td>P4 - Low</td>\n      <td>Internet, network &amp; remote access :: OBS</td>\n      <td>44312.896644</td>\n      <td>44316.664167</td>\n      <td>Closed</td>\n      <td>NaN</td>\n      <td>GHSNYF0002</td>\n      <td>Secondary firewall blocking all traffic; zone ...</td>\n      <td>63</td>\n      <td>Investigating some issues at the site, William...</td>\n      <td>{'VERB': 16, 'DET': 9, 'NOUN': 17, 'ADP': 6, '...</td>\n      <td>393</td>\n      <td>IMT NLI Ops AMER</td>\n      <td>NaN</td>\n      <td>{}</td>\n      <td>0</td>\n      <td>7.0</td>\n      <td>325514.0</td>\n    </tr>\n    <tr>\n      <th>117244</th>\n      <td>INC0441871</td>\n      <td>P4 - Low</td>\n      <td>Internet, network &amp; remote access :: WAN</td>\n      <td>44314.706007</td>\n      <td>44315.664734</td>\n      <td>Closed</td>\n      <td>NaN</td>\n      <td>GARNYF0001</td>\n      <td>All NTI Fortigates  - Block site www.ammyy.com...</td>\n      <td>55</td>\n      <td>Hello OBS team,Could you add a rule to block t...</td>\n      <td>{'NOUN': 13, '.': 6, 'PRON': 2, 'VERB': 2, 'DE...</td>\n      <td>154</td>\n      <td>IMT NLI Ops Orange</td>\n      <td>NaN</td>\n      <td>{}</td>\n      <td>0</td>\n      <td>2.0</td>\n      <td>82834.0</td>\n    </tr>\n  </tbody>\n</table>\n<p>117244 rows × 19 columns</p>\n</div>"
     },
     "metadata": {},
     "execution_count": 194
    }
   ],
   "source": [
    "incidents_2"
   ]
  },
  {
   "cell_type": "code",
   "execution_count": 195,
   "metadata": {},
   "outputs": [],
   "source": [
    "from typing import List\n",
    "def convert_to_dict(dataframe: pd.DataFrame, columns: List[str]) -> pd.DataFrame:\n",
    "    for col in columns:\n",
    "        dataframe[col] = dataframe[col].apply(lambda x: json.loads(x.replace(\"'\", '\"')))\n",
    "\n",
    "    return dataframe\n"
   ]
  },
  {
   "cell_type": "code",
   "execution_count": 196,
   "metadata": {},
   "outputs": [
    {
     "output_type": "execute_result",
     "data": {
      "text/plain": [
       "            Number       Priority  \\\n",
       "0       INC0284448      P2 - High   \n",
       "1       INC0284449       P4 - Low   \n",
       "2       INC0180368      P2 - High   \n",
       "3       INC0180373  P3 - Moderate   \n",
       "4       INC0180380  P3 - Moderate   \n",
       "...            ...            ...   \n",
       "117240  INC0438584       P4 - Low   \n",
       "117241  INC0438587  P3 - Moderate   \n",
       "117242  INC0440299       P4 - Low   \n",
       "117243  INC0440766       P4 - Low   \n",
       "117244  INC0441871       P4 - Low   \n",
       "\n",
       "                                            Incident_area        Opened  \\\n",
       "0                             SAP :: Sonda Procwork (PRW)  44013.002951   \n",
       "1                                        SAP :: Technical  44013.003183   \n",
       "2       Infrastructure & Servers :: Server (physical/v...  43831.011447   \n",
       "3                              SAP :: Order to Cash (OTC)  43831.132951   \n",
       "4                          Business Application :: Google  43831.405255   \n",
       "...                                                   ...           ...   \n",
       "117240                       User Workplace :: Desk Phone  44307.926146   \n",
       "117241                          User Workplace :: Printer  44307.933252   \n",
       "117242  Internet, network & remote access :: LAN infra...  44312.497905   \n",
       "117243           Internet, network & remote access :: OBS  44312.896644   \n",
       "117244           Internet, network & remote access :: WAN  44314.706007   \n",
       "\n",
       "              Closed  Status Problem Configuration_item  \\\n",
       "0       44024.875023  Closed     NaN                NaN   \n",
       "1       44023.083368  Closed     NaN        SAP-ECC-PRD   \n",
       "2       43842.500012  Closed     NaN       GOYCSM0001DC   \n",
       "3       43871.625023  Closed     NaN                NaN   \n",
       "4       43841.416678  Closed     NaN                NaN   \n",
       "...              ...     ...     ...                ...   \n",
       "117240  44317.958345  Closed     NaN                NaN   \n",
       "117241  44317.958345  Closed     NaN                NaN   \n",
       "117242  44312.521979  Closed     NaN         GKYNYF0001   \n",
       "117243  44316.664167  Closed     NaN         GHSNYF0002   \n",
       "117244  44315.664734  Closed     NaN         GARNYF0001   \n",
       "\n",
       "                                        Short_description  \\\n",
       "0                                        VF - Not working   \n",
       "1                                     Enqueue Processing    \n",
       "2       GOYCSMDC.ds.givaudan.com (Server does not comm...   \n",
       "3                       I cant connect to ESKER PRD & UAT   \n",
       "4       I cannot access my google drive shortcut from ...   \n",
       "...                                                   ...   \n",
       "117240                             Telephone connectivity   \n",
       "117241                           actualizacion de drivers   \n",
       "117242                                                NaN   \n",
       "117243  Secondary firewall blocking all traffic; zone ...   \n",
       "117244  All NTI Fortigates  - Block site www.ammyy.com...   \n",
       "\n",
       "        Short_description_length  \\\n",
       "0                             16   \n",
       "1                             19   \n",
       "2                            151   \n",
       "3                             33   \n",
       "4                             56   \n",
       "...                          ...   \n",
       "117240                        22   \n",
       "117241                        24   \n",
       "117242                         0   \n",
       "117243                        63   \n",
       "117244                        55   \n",
       "\n",
       "                                              Description  \\\n",
       "0       Please, the transaction VF is not working, we ...   \n",
       "1       Alert Details: Name....................Enqueue...   \n",
       "2       Dear Team,We received a ticket from our monito...   \n",
       "3       I already got access for ESKER QA, UAT & PRD. ...   \n",
       "4       I cannot access my google drive shortcut from ...   \n",
       "...                                                   ...   \n",
       "117240  Could you help me reviewing telephone connecti...   \n",
       "117241  >> Full details from \"Requested by\" :impresora...   \n",
       "117242                                                NaN   \n",
       "117243  Investigating some issues at the site, William...   \n",
       "117244  Hello OBS team,Could you add a rule to block t...   \n",
       "\n",
       "                                         Description_tags  Description_length  \\\n",
       "0       {'NOUN': 10, '.': 3, 'DET': 1, 'VERB': 4, 'ADV...                 104   \n",
       "1       {'NOUN': 46, '.': 5, 'ADJ': 1, 'VERB': 1, 'PRT...                 479   \n",
       "2       {'NOUN': 129, '.': 88, 'PRON': 4, 'VERB': 28, ...                2090   \n",
       "3       {'PRON': 5, 'ADV': 2, 'VERB': 11, 'NOUN': 33, ...                 569   \n",
       "4       {'PRON': 3, 'VERB': 1, 'ADV': 1, 'NOUN': 9, 'A...                 103   \n",
       "...                                                   ...                 ...   \n",
       "117240  {'NOUN': 11, 'PRON': 2, 'VERB': 2, '.': 3, 'AD...                 108   \n",
       "117241  {'NOUN': 15, 'CONJ': 1, 'ADP': 6, '.': 13, 'VE...                 246   \n",
       "117242                                                 {}                   0   \n",
       "117243  {'VERB': 16, 'DET': 9, 'NOUN': 17, 'ADP': 6, '...                 393   \n",
       "117244  {'NOUN': 13, '.': 6, 'PRON': 2, 'VERB': 2, 'DE...                 154   \n",
       "\n",
       "                           Assignment_group  \\\n",
       "0              IMT APS SAP Order to Cash L2   \n",
       "1                         IMT TCS SAP Basis   \n",
       "2                          IMT NLI Ops EAME   \n",
       "3       IMT Desktop Infra Support Indonesia   \n",
       "4                      IMT Service Desk AME   \n",
       "...                                     ...   \n",
       "117240            IMT Service Desk Colombia   \n",
       "117241              IMT Service Desk Mexico   \n",
       "117242                   IMT NLI Ops Orange   \n",
       "117243                     IMT NLI Ops AMER   \n",
       "117244                   IMT NLI Ops Orange   \n",
       "\n",
       "                                         Resolution_notes  \\\n",
       "0       Hello Daniel,Many thanks for your reply, at ti...   \n",
       "1       Monitoring the lock entries in P via incident ...   \n",
       "2       There was a planned maintenance onsite that wa...   \n",
       "3                         User confirmed issue was solved   \n",
       "4       User G drive was inactive, i reconfigured it, ...   \n",
       "...                                                   ...   \n",
       "117240                                                NaN   \n",
       "117241  se actualizaron los drivers de impresoras soli...   \n",
       "117242                                                NaN   \n",
       "117243                                                NaN   \n",
       "117244                                                NaN   \n",
       "\n",
       "                                    Resolution_notes_tags  Resolution_length  \\\n",
       "0       {'NOUN': 13, '.': 6, 'ADJ': 2, 'ADP': 5, 'PRON...                247   \n",
       "1       {'VERB': 2, 'DET': 3, 'NOUN': 8, 'ADP': 3, 'AD...                105   \n",
       "2       {'DET': 3, 'VERB': 4, 'ADJ': 2, 'NOUN': 4, 'PR...                105   \n",
       "3                                  {'NOUN': 2, 'VERB': 3}                 31   \n",
       "4       {'NOUN': 5, 'VERB': 3, 'ADJ': 1, '.': 2, 'ADV'...                 90   \n",
       "...                                                   ...                ...   \n",
       "117240                                                 {}                  0   \n",
       "117241             {'NOUN': 5, 'VERB': 1, 'X': 1, '.': 1}                 55   \n",
       "117242                                                 {}                  0   \n",
       "117243                                                 {}                  0   \n",
       "117244                                                 {}                  0   \n",
       "\n",
       "        Reassignment_count  Resolve_time  \n",
       "0                      1.0      158300.0  \n",
       "1                      0.0        5694.0  \n",
       "2                      1.0      126566.0  \n",
       "3                      3.0     1919058.0  \n",
       "4                      0.0         128.0  \n",
       "...                    ...           ...  \n",
       "117240                 0.0         381.0  \n",
       "117241                 0.0          53.0  \n",
       "117242                 1.0        2080.0  \n",
       "117243                 7.0      325514.0  \n",
       "117244                 2.0       82834.0  \n",
       "\n",
       "[117244 rows x 19 columns]"
      ],
      "text/html": "<div>\n<style scoped>\n    .dataframe tbody tr th:only-of-type {\n        vertical-align: middle;\n    }\n\n    .dataframe tbody tr th {\n        vertical-align: top;\n    }\n\n    .dataframe thead th {\n        text-align: right;\n    }\n</style>\n<table border=\"1\" class=\"dataframe\">\n  <thead>\n    <tr style=\"text-align: right;\">\n      <th></th>\n      <th>Number</th>\n      <th>Priority</th>\n      <th>Incident_area</th>\n      <th>Opened</th>\n      <th>Closed</th>\n      <th>Status</th>\n      <th>Problem</th>\n      <th>Configuration_item</th>\n      <th>Short_description</th>\n      <th>Short_description_length</th>\n      <th>Description</th>\n      <th>Description_tags</th>\n      <th>Description_length</th>\n      <th>Assignment_group</th>\n      <th>Resolution_notes</th>\n      <th>Resolution_notes_tags</th>\n      <th>Resolution_length</th>\n      <th>Reassignment_count</th>\n      <th>Resolve_time</th>\n    </tr>\n  </thead>\n  <tbody>\n    <tr>\n      <th>0</th>\n      <td>INC0284448</td>\n      <td>P2 - High</td>\n      <td>SAP :: Sonda Procwork (PRW)</td>\n      <td>44013.002951</td>\n      <td>44024.875023</td>\n      <td>Closed</td>\n      <td>NaN</td>\n      <td>NaN</td>\n      <td>VF - Not working</td>\n      <td>16</td>\n      <td>Please, the transaction VF is not working, we ...</td>\n      <td>{'NOUN': 10, '.': 3, 'DET': 1, 'VERB': 4, 'ADV...</td>\n      <td>104</td>\n      <td>IMT APS SAP Order to Cash L2</td>\n      <td>Hello Daniel,Many thanks for your reply, at ti...</td>\n      <td>{'NOUN': 13, '.': 6, 'ADJ': 2, 'ADP': 5, 'PRON...</td>\n      <td>247</td>\n      <td>1.0</td>\n      <td>158300.0</td>\n    </tr>\n    <tr>\n      <th>1</th>\n      <td>INC0284449</td>\n      <td>P4 - Low</td>\n      <td>SAP :: Technical</td>\n      <td>44013.003183</td>\n      <td>44023.083368</td>\n      <td>Closed</td>\n      <td>NaN</td>\n      <td>SAP-ECC-PRD</td>\n      <td>Enqueue Processing</td>\n      <td>19</td>\n      <td>Alert Details: Name....................Enqueue...</td>\n      <td>{'NOUN': 46, '.': 5, 'ADJ': 1, 'VERB': 1, 'PRT...</td>\n      <td>479</td>\n      <td>IMT TCS SAP Basis</td>\n      <td>Monitoring the lock entries in P via incident ...</td>\n      <td>{'VERB': 2, 'DET': 3, 'NOUN': 8, 'ADP': 3, 'AD...</td>\n      <td>105</td>\n      <td>0.0</td>\n      <td>5694.0</td>\n    </tr>\n    <tr>\n      <th>2</th>\n      <td>INC0180368</td>\n      <td>P2 - High</td>\n      <td>Infrastructure &amp; Servers :: Server (physical/v...</td>\n      <td>43831.011447</td>\n      <td>43842.500012</td>\n      <td>Closed</td>\n      <td>NaN</td>\n      <td>GOYCSM0001DC</td>\n      <td>GOYCSMDC.ds.givaudan.com (Server does not comm...</td>\n      <td>151</td>\n      <td>Dear Team,We received a ticket from our monito...</td>\n      <td>{'NOUN': 129, '.': 88, 'PRON': 4, 'VERB': 28, ...</td>\n      <td>2090</td>\n      <td>IMT NLI Ops EAME</td>\n      <td>There was a planned maintenance onsite that wa...</td>\n      <td>{'DET': 3, 'VERB': 4, 'ADJ': 2, 'NOUN': 4, 'PR...</td>\n      <td>105</td>\n      <td>1.0</td>\n      <td>126566.0</td>\n    </tr>\n    <tr>\n      <th>3</th>\n      <td>INC0180373</td>\n      <td>P3 - Moderate</td>\n      <td>SAP :: Order to Cash (OTC)</td>\n      <td>43831.132951</td>\n      <td>43871.625023</td>\n      <td>Closed</td>\n      <td>NaN</td>\n      <td>NaN</td>\n      <td>I cant connect to ESKER PRD &amp; UAT</td>\n      <td>33</td>\n      <td>I already got access for ESKER QA, UAT &amp; PRD. ...</td>\n      <td>{'PRON': 5, 'ADV': 2, 'VERB': 11, 'NOUN': 33, ...</td>\n      <td>569</td>\n      <td>IMT Desktop Infra Support Indonesia</td>\n      <td>User confirmed issue was solved</td>\n      <td>{'NOUN': 2, 'VERB': 3}</td>\n      <td>31</td>\n      <td>3.0</td>\n      <td>1919058.0</td>\n    </tr>\n    <tr>\n      <th>4</th>\n      <td>INC0180380</td>\n      <td>P3 - Moderate</td>\n      <td>Business Application :: Google</td>\n      <td>43831.405255</td>\n      <td>43841.416678</td>\n      <td>Closed</td>\n      <td>NaN</td>\n      <td>NaN</td>\n      <td>I cannot access my google drive shortcut from ...</td>\n      <td>56</td>\n      <td>I cannot access my google drive shortcut from ...</td>\n      <td>{'PRON': 3, 'VERB': 1, 'ADV': 1, 'NOUN': 9, 'A...</td>\n      <td>103</td>\n      <td>IMT Service Desk AME</td>\n      <td>User G drive was inactive, i reconfigured it, ...</td>\n      <td>{'NOUN': 5, 'VERB': 3, 'ADJ': 1, '.': 2, 'ADV'...</td>\n      <td>90</td>\n      <td>0.0</td>\n      <td>128.0</td>\n    </tr>\n    <tr>\n      <th>...</th>\n      <td>...</td>\n      <td>...</td>\n      <td>...</td>\n      <td>...</td>\n      <td>...</td>\n      <td>...</td>\n      <td>...</td>\n      <td>...</td>\n      <td>...</td>\n      <td>...</td>\n      <td>...</td>\n      <td>...</td>\n      <td>...</td>\n      <td>...</td>\n      <td>...</td>\n      <td>...</td>\n      <td>...</td>\n      <td>...</td>\n      <td>...</td>\n    </tr>\n    <tr>\n      <th>117240</th>\n      <td>INC0438584</td>\n      <td>P4 - Low</td>\n      <td>User Workplace :: Desk Phone</td>\n      <td>44307.926146</td>\n      <td>44317.958345</td>\n      <td>Closed</td>\n      <td>NaN</td>\n      <td>NaN</td>\n      <td>Telephone connectivity</td>\n      <td>22</td>\n      <td>Could you help me reviewing telephone connecti...</td>\n      <td>{'NOUN': 11, 'PRON': 2, 'VERB': 2, '.': 3, 'AD...</td>\n      <td>108</td>\n      <td>IMT Service Desk Colombia</td>\n      <td>NaN</td>\n      <td>{}</td>\n      <td>0</td>\n      <td>0.0</td>\n      <td>381.0</td>\n    </tr>\n    <tr>\n      <th>117241</th>\n      <td>INC0438587</td>\n      <td>P3 - Moderate</td>\n      <td>User Workplace :: Printer</td>\n      <td>44307.933252</td>\n      <td>44317.958345</td>\n      <td>Closed</td>\n      <td>NaN</td>\n      <td>NaN</td>\n      <td>actualizacion de drivers</td>\n      <td>24</td>\n      <td>&gt;&gt; Full details from \"Requested by\" :impresora...</td>\n      <td>{'NOUN': 15, 'CONJ': 1, 'ADP': 6, '.': 13, 'VE...</td>\n      <td>246</td>\n      <td>IMT Service Desk Mexico</td>\n      <td>se actualizaron los drivers de impresoras soli...</td>\n      <td>{'NOUN': 5, 'VERB': 1, 'X': 1, '.': 1}</td>\n      <td>55</td>\n      <td>0.0</td>\n      <td>53.0</td>\n    </tr>\n    <tr>\n      <th>117242</th>\n      <td>INC0440299</td>\n      <td>P4 - Low</td>\n      <td>Internet, network &amp; remote access :: LAN infra...</td>\n      <td>44312.497905</td>\n      <td>44312.521979</td>\n      <td>Closed</td>\n      <td>NaN</td>\n      <td>GKYNYF0001</td>\n      <td>NaN</td>\n      <td>0</td>\n      <td>NaN</td>\n      <td>{}</td>\n      <td>0</td>\n      <td>IMT NLI Ops Orange</td>\n      <td>NaN</td>\n      <td>{}</td>\n      <td>0</td>\n      <td>1.0</td>\n      <td>2080.0</td>\n    </tr>\n    <tr>\n      <th>117243</th>\n      <td>INC0440766</td>\n      <td>P4 - Low</td>\n      <td>Internet, network &amp; remote access :: OBS</td>\n      <td>44312.896644</td>\n      <td>44316.664167</td>\n      <td>Closed</td>\n      <td>NaN</td>\n      <td>GHSNYF0002</td>\n      <td>Secondary firewall blocking all traffic; zone ...</td>\n      <td>63</td>\n      <td>Investigating some issues at the site, William...</td>\n      <td>{'VERB': 16, 'DET': 9, 'NOUN': 17, 'ADP': 6, '...</td>\n      <td>393</td>\n      <td>IMT NLI Ops AMER</td>\n      <td>NaN</td>\n      <td>{}</td>\n      <td>0</td>\n      <td>7.0</td>\n      <td>325514.0</td>\n    </tr>\n    <tr>\n      <th>117244</th>\n      <td>INC0441871</td>\n      <td>P4 - Low</td>\n      <td>Internet, network &amp; remote access :: WAN</td>\n      <td>44314.706007</td>\n      <td>44315.664734</td>\n      <td>Closed</td>\n      <td>NaN</td>\n      <td>GARNYF0001</td>\n      <td>All NTI Fortigates  - Block site www.ammyy.com...</td>\n      <td>55</td>\n      <td>Hello OBS team,Could you add a rule to block t...</td>\n      <td>{'NOUN': 13, '.': 6, 'PRON': 2, 'VERB': 2, 'DE...</td>\n      <td>154</td>\n      <td>IMT NLI Ops Orange</td>\n      <td>NaN</td>\n      <td>{}</td>\n      <td>0</td>\n      <td>2.0</td>\n      <td>82834.0</td>\n    </tr>\n  </tbody>\n</table>\n<p>117244 rows × 19 columns</p>\n</div>"
     },
     "metadata": {},
     "execution_count": 196
    }
   ],
   "source": [
    "convert_to_dict(incidents_2, ['Description_tags', 'Resolution_notes_tags'])"
   ]
  },
  {
   "cell_type": "code",
   "execution_count": 198,
   "metadata": {},
   "outputs": [
    {
     "output_type": "execute_result",
     "data": {
      "text/plain": [
       "dict_items([('NOUN', 10), ('.', 3), ('DET', 1), ('VERB', 4), ('ADV', 1), ('PRON', 1), ('PRT', 1), ('ADJ', 1)])"
      ]
     },
     "metadata": {},
     "execution_count": 198
    }
   ],
   "source": [
    "incidents_2['Description_tags'][0].items()"
   ]
  },
  {
   "cell_type": "code",
   "execution_count": 184,
   "metadata": {},
   "outputs": [
    {
     "output_type": "execute_result",
     "data": {
      "text/plain": [
       "{'NOUN': 1880005,\n",
       " '.': 807018,\n",
       " 'DET': 233174,\n",
       " 'VERB': 602362,\n",
       " 'ADV': 138862,\n",
       " 'PRON': 162203,\n",
       " 'PRT': 112899,\n",
       " 'ADJ': 272085,\n",
       " 'ADP': 301786,\n",
       " 'CONJ': 83701,\n",
       " 'X': 17287,\n",
       " 'NUM': 7700}"
      ]
     },
     "metadata": {},
     "execution_count": 184
    }
   ],
   "source": [
    "tags_description = get_all_tags(incidents_2, 'Description_tags')\n",
    "tags_description"
   ]
  },
  {
   "cell_type": "code",
   "execution_count": 187,
   "metadata": {},
   "outputs": [
    {
     "output_type": "execute_result",
     "data": {
      "text/plain": [
       "{'NOUN': 513708,\n",
       " '.': 159118,\n",
       " 'ADJ': 78040,\n",
       " 'ADP': 121458,\n",
       " 'PRON': 48624,\n",
       " 'ADV': 56380,\n",
       " 'VERB': 343522,\n",
       " 'DET': 117448,\n",
       " 'PRT': 47970,\n",
       " 'CONJ': 37686,\n",
       " 'NUM': 2422,\n",
       " 'X': 3837}"
      ]
     },
     "metadata": {},
     "execution_count": 187
    }
   ],
   "source": [
    "tags_resolution = get_all_tags(incidents_2, 'Resolution_notes_tags')\n",
    "tags_resolution"
   ]
  },
  {
   "cell_type": "code",
   "execution_count": 188,
   "metadata": {},
   "outputs": [],
   "source": [
    "import matplotlib.pyplot as plt\n",
    "def plot_tags(tags: dict) -> None:\n",
    "    tags = dict(sorted(tags.items(), key=lambda item: item[1], reverse=True))\n",
    "    plt.bar(list(tags.keys()), list(tags.values()))"
   ]
  },
  {
   "cell_type": "code",
   "execution_count": 189,
   "metadata": {},
   "outputs": [
    {
     "output_type": "display_data",
     "data": {
      "text/plain": "<Figure size 432x288 with 1 Axes>",
      "image/svg+xml": "<?xml version=\"1.0\" encoding=\"utf-8\" standalone=\"no\"?>\n<!DOCTYPE svg PUBLIC \"-//W3C//DTD SVG 1.1//EN\"\n  \"http://www.w3.org/Graphics/SVG/1.1/DTD/svg11.dtd\">\n<!-- Created with matplotlib (https://matplotlib.org/) -->\n<svg height=\"259.116562pt\" version=\"1.1\" viewBox=\"0 0 378.465625 259.116562\" width=\"378.465625pt\" xmlns=\"http://www.w3.org/2000/svg\" xmlns:xlink=\"http://www.w3.org/1999/xlink\">\n <metadata>\n  <rdf:RDF xmlns:cc=\"http://creativecommons.org/ns#\" xmlns:dc=\"http://purl.org/dc/elements/1.1/\" xmlns:rdf=\"http://www.w3.org/1999/02/22-rdf-syntax-ns#\">\n   <cc:Work>\n    <dc:type rdf:resource=\"http://purl.org/dc/dcmitype/StillImage\"/>\n    <dc:date>2021-07-21T10:52:07.706809</dc:date>\n    <dc:format>image/svg+xml</dc:format>\n    <dc:creator>\n     <cc:Agent>\n      <dc:title>Matplotlib v3.3.4, https://matplotlib.org/</dc:title>\n     </cc:Agent>\n    </dc:creator>\n   </cc:Work>\n  </rdf:RDF>\n </metadata>\n <defs>\n  <style type=\"text/css\">*{stroke-linecap:butt;stroke-linejoin:round;}</style>\n </defs>\n <g id=\"figure_1\">\n  <g id=\"patch_1\">\n   <path d=\"M 0 259.116562 \nL 378.465625 259.116562 \nL 378.465625 0 \nL 0 0 \nz\n\" style=\"fill:none;\"/>\n  </g>\n  <g id=\"axes_1\">\n   <g id=\"patch_2\">\n    <path d=\"M 36.465625 235.238437 \nL 371.265625 235.238437 \nL 371.265625 17.798437 \nL 36.465625 17.798437 \nz\n\" style=\"fill:#ffffff;\"/>\n   </g>\n   <g id=\"patch_3\">\n    <path clip-path=\"url(#p94db88b5ad)\" d=\"M 51.683807 235.238437 \nL 72.31863 235.238437 \nL 72.31863 28.152723 \nL 51.683807 28.152723 \nz\n\" style=\"fill:#1f77b4;\"/>\n   </g>\n   <g id=\"patch_4\">\n    <path clip-path=\"url(#p94db88b5ad)\" d=\"M 77.477335 235.238437 \nL 98.112158 235.238437 \nL 98.112158 146.344047 \nL 77.477335 146.344047 \nz\n\" style=\"fill:#1f77b4;\"/>\n   </g>\n   <g id=\"patch_5\">\n    <path clip-path=\"url(#p94db88b5ad)\" d=\"M 103.270864 235.238437 \nL 123.905687 235.238437 \nL 123.905687 168.88725 \nL 103.270864 168.88725 \nz\n\" style=\"fill:#1f77b4;\"/>\n   </g>\n   <g id=\"patch_6\">\n    <path clip-path=\"url(#p94db88b5ad)\" d=\"M 129.064392 235.238437 \nL 149.699215 235.238437 \nL 149.699215 201.996202 \nL 129.064392 201.996202 \nz\n\" style=\"fill:#1f77b4;\"/>\n   </g>\n   <g id=\"patch_7\">\n    <path clip-path=\"url(#p94db88b5ad)\" d=\"M 154.857921 235.238437 \nL 175.492744 235.238437 \nL 175.492744 205.267817 \nL 154.857921 205.267817 \nz\n\" style=\"fill:#1f77b4;\"/>\n   </g>\n   <g id=\"patch_8\">\n    <path clip-path=\"url(#p94db88b5ad)\" d=\"M 180.651449 235.238437 \nL 201.286272 235.238437 \nL 201.286272 209.553929 \nL 180.651449 209.553929 \nz\n\" style=\"fill:#1f77b4;\"/>\n   </g>\n   <g id=\"patch_9\">\n    <path clip-path=\"url(#p94db88b5ad)\" d=\"M 206.444978 235.238437 \nL 227.079801 235.238437 \nL 227.079801 217.371504 \nL 206.444978 217.371504 \nz\n\" style=\"fill:#1f77b4;\"/>\n   </g>\n   <g id=\"patch_10\">\n    <path clip-path=\"url(#p94db88b5ad)\" d=\"M 232.238506 235.238437 \nL 252.873329 235.238437 \nL 252.873329 219.942555 \nL 232.238506 219.942555 \nz\n\" style=\"fill:#1f77b4;\"/>\n   </g>\n   <g id=\"patch_11\">\n    <path clip-path=\"url(#p94db88b5ad)\" d=\"M 258.032035 235.238437 \nL 278.666858 235.238437 \nL 278.666858 222.802423 \nL 258.032035 222.802423 \nz\n\" style=\"fill:#1f77b4;\"/>\n   </g>\n   <g id=\"patch_12\">\n    <path clip-path=\"url(#p94db88b5ad)\" d=\"M 283.825563 235.238437 \nL 304.460386 235.238437 \nL 304.460386 226.018632 \nL 283.825563 226.018632 \nz\n\" style=\"fill:#1f77b4;\"/>\n   </g>\n   <g id=\"patch_13\">\n    <path clip-path=\"url(#p94db88b5ad)\" d=\"M 309.619092 235.238437 \nL 330.253915 235.238437 \nL 330.253915 233.334245 \nL 309.619092 233.334245 \nz\n\" style=\"fill:#1f77b4;\"/>\n   </g>\n   <g id=\"patch_14\">\n    <path clip-path=\"url(#p94db88b5ad)\" d=\"M 335.41262 235.238437 \nL 356.047443 235.238437 \nL 356.047443 234.39027 \nL 335.41262 234.39027 \nz\n\" style=\"fill:#1f77b4;\"/>\n   </g>\n   <g id=\"matplotlib.axis_1\">\n    <g id=\"xtick_1\">\n     <g id=\"line2d_1\">\n      <defs>\n       <path d=\"M 0 0 \nL 0 3.5 \n\" id=\"ma8a11ad342\" style=\"stroke:#000000;stroke-width:0.8;\"/>\n      </defs>\n      <g>\n       <use style=\"stroke:#000000;stroke-width:0.8;\" x=\"62.001218\" xlink:href=\"#ma8a11ad342\" y=\"235.238437\"/>\n      </g>\n     </g>\n     <g id=\"text_1\">\n      <!-- NOUN -->\n      <g transform=\"translate(46.924656 249.836875)scale(0.1 -0.1)\">\n       <defs>\n        <path d=\"M 9.8125 72.90625 \nL 23.09375 72.90625 \nL 55.421875 11.921875 \nL 55.421875 72.90625 \nL 64.984375 72.90625 \nL 64.984375 0 \nL 51.703125 0 \nL 19.390625 60.984375 \nL 19.390625 0 \nL 9.8125 0 \nz\n\" id=\"DejaVuSans-78\"/>\n        <path d=\"M 39.40625 66.21875 \nQ 28.65625 66.21875 22.328125 58.203125 \nQ 16.015625 50.203125 16.015625 36.375 \nQ 16.015625 22.609375 22.328125 14.59375 \nQ 28.65625 6.59375 39.40625 6.59375 \nQ 50.140625 6.59375 56.421875 14.59375 \nQ 62.703125 22.609375 62.703125 36.375 \nQ 62.703125 50.203125 56.421875 58.203125 \nQ 50.140625 66.21875 39.40625 66.21875 \nz\nM 39.40625 74.21875 \nQ 54.734375 74.21875 63.90625 63.9375 \nQ 73.09375 53.65625 73.09375 36.375 \nQ 73.09375 19.140625 63.90625 8.859375 \nQ 54.734375 -1.421875 39.40625 -1.421875 \nQ 24.03125 -1.421875 14.8125 8.828125 \nQ 5.609375 19.09375 5.609375 36.375 \nQ 5.609375 53.65625 14.8125 63.9375 \nQ 24.03125 74.21875 39.40625 74.21875 \nz\n\" id=\"DejaVuSans-79\"/>\n        <path d=\"M 8.6875 72.90625 \nL 18.609375 72.90625 \nL 18.609375 28.609375 \nQ 18.609375 16.890625 22.84375 11.734375 \nQ 27.09375 6.59375 36.625 6.59375 \nQ 46.09375 6.59375 50.34375 11.734375 \nQ 54.59375 16.890625 54.59375 28.609375 \nL 54.59375 72.90625 \nL 64.5 72.90625 \nL 64.5 27.390625 \nQ 64.5 13.140625 57.4375 5.859375 \nQ 50.390625 -1.421875 36.625 -1.421875 \nQ 22.796875 -1.421875 15.734375 5.859375 \nQ 8.6875 13.140625 8.6875 27.390625 \nz\n\" id=\"DejaVuSans-85\"/>\n       </defs>\n       <use xlink:href=\"#DejaVuSans-78\"/>\n       <use x=\"74.804688\" xlink:href=\"#DejaVuSans-79\"/>\n       <use x=\"153.515625\" xlink:href=\"#DejaVuSans-85\"/>\n       <use x=\"226.708984\" xlink:href=\"#DejaVuSans-78\"/>\n      </g>\n     </g>\n    </g>\n    <g id=\"xtick_2\">\n     <g id=\"line2d_2\">\n      <g>\n       <use style=\"stroke:#000000;stroke-width:0.8;\" x=\"87.794747\" xlink:href=\"#ma8a11ad342\" y=\"235.238437\"/>\n      </g>\n     </g>\n     <g id=\"text_2\">\n      <!-- . -->\n      <g transform=\"translate(86.205684 249.836875)scale(0.1 -0.1)\">\n       <defs>\n        <path d=\"M 10.6875 12.40625 \nL 21 12.40625 \nL 21 0 \nL 10.6875 0 \nz\n\" id=\"DejaVuSans-46\"/>\n       </defs>\n       <use xlink:href=\"#DejaVuSans-46\"/>\n      </g>\n     </g>\n    </g>\n    <g id=\"xtick_3\">\n     <g id=\"line2d_3\">\n      <g>\n       <use style=\"stroke:#000000;stroke-width:0.8;\" x=\"113.588275\" xlink:href=\"#ma8a11ad342\" y=\"235.238437\"/>\n      </g>\n     </g>\n     <g id=\"text_3\">\n      <!-- VERB -->\n      <g transform=\"translate(100.1039 249.836875)scale(0.1 -0.1)\">\n       <defs>\n        <path d=\"M 28.609375 0 \nL 0.78125 72.90625 \nL 11.078125 72.90625 \nL 34.1875 11.53125 \nL 57.328125 72.90625 \nL 67.578125 72.90625 \nL 39.796875 0 \nz\n\" id=\"DejaVuSans-86\"/>\n        <path d=\"M 9.8125 72.90625 \nL 55.90625 72.90625 \nL 55.90625 64.59375 \nL 19.671875 64.59375 \nL 19.671875 43.015625 \nL 54.390625 43.015625 \nL 54.390625 34.71875 \nL 19.671875 34.71875 \nL 19.671875 8.296875 \nL 56.78125 8.296875 \nL 56.78125 0 \nL 9.8125 0 \nz\n\" id=\"DejaVuSans-69\"/>\n        <path d=\"M 44.390625 34.1875 \nQ 47.5625 33.109375 50.5625 29.59375 \nQ 53.5625 26.078125 56.59375 19.921875 \nL 66.609375 0 \nL 56 0 \nL 46.6875 18.703125 \nQ 43.0625 26.03125 39.671875 28.421875 \nQ 36.28125 30.8125 30.421875 30.8125 \nL 19.671875 30.8125 \nL 19.671875 0 \nL 9.8125 0 \nL 9.8125 72.90625 \nL 32.078125 72.90625 \nQ 44.578125 72.90625 50.734375 67.671875 \nQ 56.890625 62.453125 56.890625 51.90625 \nQ 56.890625 45.015625 53.6875 40.46875 \nQ 50.484375 35.9375 44.390625 34.1875 \nz\nM 19.671875 64.796875 \nL 19.671875 38.921875 \nL 32.078125 38.921875 \nQ 39.203125 38.921875 42.84375 42.21875 \nQ 46.484375 45.515625 46.484375 51.90625 \nQ 46.484375 58.296875 42.84375 61.546875 \nQ 39.203125 64.796875 32.078125 64.796875 \nz\n\" id=\"DejaVuSans-82\"/>\n        <path d=\"M 19.671875 34.8125 \nL 19.671875 8.109375 \nL 35.5 8.109375 \nQ 43.453125 8.109375 47.28125 11.40625 \nQ 51.125 14.703125 51.125 21.484375 \nQ 51.125 28.328125 47.28125 31.5625 \nQ 43.453125 34.8125 35.5 34.8125 \nz\nM 19.671875 64.796875 \nL 19.671875 42.828125 \nL 34.28125 42.828125 \nQ 41.5 42.828125 45.03125 45.53125 \nQ 48.578125 48.25 48.578125 53.8125 \nQ 48.578125 59.328125 45.03125 62.0625 \nQ 41.5 64.796875 34.28125 64.796875 \nz\nM 9.8125 72.90625 \nL 35.015625 72.90625 \nQ 46.296875 72.90625 52.390625 68.21875 \nQ 58.5 63.53125 58.5 54.890625 \nQ 58.5 48.1875 55.375 44.234375 \nQ 52.25 40.28125 46.1875 39.3125 \nQ 53.46875 37.75 57.5 32.78125 \nQ 61.53125 27.828125 61.53125 20.40625 \nQ 61.53125 10.640625 54.890625 5.3125 \nQ 48.25 0 35.984375 0 \nL 9.8125 0 \nz\n\" id=\"DejaVuSans-66\"/>\n       </defs>\n       <use xlink:href=\"#DejaVuSans-86\"/>\n       <use x=\"68.408203\" xlink:href=\"#DejaVuSans-69\"/>\n       <use x=\"131.591797\" xlink:href=\"#DejaVuSans-82\"/>\n       <use x=\"201.074219\" xlink:href=\"#DejaVuSans-66\"/>\n      </g>\n     </g>\n    </g>\n    <g id=\"xtick_4\">\n     <g id=\"line2d_4\">\n      <g>\n       <use style=\"stroke:#000000;stroke-width:0.8;\" x=\"139.381804\" xlink:href=\"#ma8a11ad342\" y=\"235.238437\"/>\n      </g>\n     </g>\n     <g id=\"text_4\">\n      <!-- ADP -->\n      <g transform=\"translate(129.096647 249.836875)scale(0.1 -0.1)\">\n       <defs>\n        <path d=\"M 34.1875 63.1875 \nL 20.796875 26.90625 \nL 47.609375 26.90625 \nz\nM 28.609375 72.90625 \nL 39.796875 72.90625 \nL 67.578125 0 \nL 57.328125 0 \nL 50.6875 18.703125 \nL 17.828125 18.703125 \nL 11.1875 0 \nL 0.78125 0 \nz\n\" id=\"DejaVuSans-65\"/>\n        <path d=\"M 19.671875 64.796875 \nL 19.671875 8.109375 \nL 31.59375 8.109375 \nQ 46.6875 8.109375 53.6875 14.9375 \nQ 60.6875 21.78125 60.6875 36.53125 \nQ 60.6875 51.171875 53.6875 57.984375 \nQ 46.6875 64.796875 31.59375 64.796875 \nz\nM 9.8125 72.90625 \nL 30.078125 72.90625 \nQ 51.265625 72.90625 61.171875 64.09375 \nQ 71.09375 55.28125 71.09375 36.53125 \nQ 71.09375 17.671875 61.125 8.828125 \nQ 51.171875 0 30.078125 0 \nL 9.8125 0 \nz\n\" id=\"DejaVuSans-68\"/>\n        <path d=\"M 19.671875 64.796875 \nL 19.671875 37.40625 \nL 32.078125 37.40625 \nQ 38.96875 37.40625 42.71875 40.96875 \nQ 46.484375 44.53125 46.484375 51.125 \nQ 46.484375 57.671875 42.71875 61.234375 \nQ 38.96875 64.796875 32.078125 64.796875 \nz\nM 9.8125 72.90625 \nL 32.078125 72.90625 \nQ 44.34375 72.90625 50.609375 67.359375 \nQ 56.890625 61.8125 56.890625 51.125 \nQ 56.890625 40.328125 50.609375 34.8125 \nQ 44.34375 29.296875 32.078125 29.296875 \nL 19.671875 29.296875 \nL 19.671875 0 \nL 9.8125 0 \nz\n\" id=\"DejaVuSans-80\"/>\n       </defs>\n       <use xlink:href=\"#DejaVuSans-65\"/>\n       <use x=\"68.408203\" xlink:href=\"#DejaVuSans-68\"/>\n       <use x=\"145.410156\" xlink:href=\"#DejaVuSans-80\"/>\n      </g>\n     </g>\n    </g>\n    <g id=\"xtick_5\">\n     <g id=\"line2d_5\">\n      <g>\n       <use style=\"stroke:#000000;stroke-width:0.8;\" x=\"165.175332\" xlink:href=\"#ma8a11ad342\" y=\"235.238437\"/>\n      </g>\n     </g>\n     <g id=\"text_5\">\n      <!-- ADJ -->\n      <g transform=\"translate(156.43002 249.836875)scale(0.1 -0.1)\">\n       <defs>\n        <path d=\"M 9.8125 72.90625 \nL 19.671875 72.90625 \nL 19.671875 5.078125 \nQ 19.671875 -8.109375 14.671875 -14.0625 \nQ 9.671875 -20.015625 -1.421875 -20.015625 \nL -5.171875 -20.015625 \nL -5.171875 -11.71875 \nL -2.09375 -11.71875 \nQ 4.4375 -11.71875 7.125 -8.046875 \nQ 9.8125 -4.390625 9.8125 5.078125 \nz\n\" id=\"DejaVuSans-74\"/>\n       </defs>\n       <use xlink:href=\"#DejaVuSans-65\"/>\n       <use x=\"68.408203\" xlink:href=\"#DejaVuSans-68\"/>\n       <use x=\"145.410156\" xlink:href=\"#DejaVuSans-74\"/>\n      </g>\n     </g>\n    </g>\n    <g id=\"xtick_6\">\n     <g id=\"line2d_6\">\n      <g>\n       <use style=\"stroke:#000000;stroke-width:0.8;\" x=\"190.968861\" xlink:href=\"#ma8a11ad342\" y=\"235.238437\"/>\n      </g>\n     </g>\n     <g id=\"text_6\">\n      <!-- DET -->\n      <g transform=\"translate(180.905579 249.836875)scale(0.1 -0.1)\">\n       <defs>\n        <path d=\"M -0.296875 72.90625 \nL 61.375 72.90625 \nL 61.375 64.59375 \nL 35.5 64.59375 \nL 35.5 0 \nL 25.59375 0 \nL 25.59375 64.59375 \nL -0.296875 64.59375 \nz\n\" id=\"DejaVuSans-84\"/>\n       </defs>\n       <use xlink:href=\"#DejaVuSans-68\"/>\n       <use x=\"77.001953\" xlink:href=\"#DejaVuSans-69\"/>\n       <use x=\"140.185547\" xlink:href=\"#DejaVuSans-84\"/>\n      </g>\n     </g>\n    </g>\n    <g id=\"xtick_7\">\n     <g id=\"line2d_7\">\n      <g>\n       <use style=\"stroke:#000000;stroke-width:0.8;\" x=\"216.762389\" xlink:href=\"#ma8a11ad342\" y=\"235.238437\"/>\n      </g>\n     </g>\n     <g id=\"text_7\">\n      <!-- PRON -->\n      <g transform=\"translate(202.596764 249.836875)scale(0.1 -0.1)\">\n       <use xlink:href=\"#DejaVuSans-80\"/>\n       <use x=\"60.302734\" xlink:href=\"#DejaVuSans-82\"/>\n       <use x=\"129.785156\" xlink:href=\"#DejaVuSans-79\"/>\n       <use x=\"208.496094\" xlink:href=\"#DejaVuSans-78\"/>\n      </g>\n     </g>\n    </g>\n    <g id=\"xtick_8\">\n     <g id=\"line2d_8\">\n      <g>\n       <use style=\"stroke:#000000;stroke-width:0.8;\" x=\"242.555918\" xlink:href=\"#ma8a11ad342\" y=\"235.238437\"/>\n      </g>\n     </g>\n     <g id=\"text_8\">\n      <!-- ADV -->\n      <g transform=\"translate(231.952793 249.836875)scale(0.1 -0.1)\">\n       <use xlink:href=\"#DejaVuSans-65\"/>\n       <use x=\"68.408203\" xlink:href=\"#DejaVuSans-68\"/>\n       <use x=\"143.660156\" xlink:href=\"#DejaVuSans-86\"/>\n      </g>\n     </g>\n    </g>\n    <g id=\"xtick_9\">\n     <g id=\"line2d_9\">\n      <g>\n       <use style=\"stroke:#000000;stroke-width:0.8;\" x=\"268.349446\" xlink:href=\"#ma8a11ad342\" y=\"235.238437\"/>\n      </g>\n     </g>\n     <g id=\"text_9\">\n      <!-- PRT -->\n      <g transform=\"translate(259.168978 249.836875)scale(0.1 -0.1)\">\n       <use xlink:href=\"#DejaVuSans-80\"/>\n       <use x=\"60.302734\" xlink:href=\"#DejaVuSans-82\"/>\n       <use x=\"122.535156\" xlink:href=\"#DejaVuSans-84\"/>\n      </g>\n     </g>\n    </g>\n    <g id=\"xtick_10\">\n     <g id=\"line2d_10\">\n      <g>\n       <use style=\"stroke:#000000;stroke-width:0.8;\" x=\"294.142975\" xlink:href=\"#ma8a11ad342\" y=\"235.238437\"/>\n      </g>\n     </g>\n     <g id=\"text_10\">\n      <!-- CONJ -->\n      <g transform=\"translate(281.500006 249.836875)scale(0.1 -0.1)\">\n       <defs>\n        <path d=\"M 64.40625 67.28125 \nL 64.40625 56.890625 \nQ 59.421875 61.53125 53.78125 63.8125 \nQ 48.140625 66.109375 41.796875 66.109375 \nQ 29.296875 66.109375 22.65625 58.46875 \nQ 16.015625 50.828125 16.015625 36.375 \nQ 16.015625 21.96875 22.65625 14.328125 \nQ 29.296875 6.6875 41.796875 6.6875 \nQ 48.140625 6.6875 53.78125 8.984375 \nQ 59.421875 11.28125 64.40625 15.921875 \nL 64.40625 5.609375 \nQ 59.234375 2.09375 53.4375 0.328125 \nQ 47.65625 -1.421875 41.21875 -1.421875 \nQ 24.65625 -1.421875 15.125 8.703125 \nQ 5.609375 18.84375 5.609375 36.375 \nQ 5.609375 53.953125 15.125 64.078125 \nQ 24.65625 74.21875 41.21875 74.21875 \nQ 47.75 74.21875 53.53125 72.484375 \nQ 59.328125 70.75 64.40625 67.28125 \nz\n\" id=\"DejaVuSans-67\"/>\n       </defs>\n       <use xlink:href=\"#DejaVuSans-67\"/>\n       <use x=\"69.824219\" xlink:href=\"#DejaVuSans-79\"/>\n       <use x=\"148.535156\" xlink:href=\"#DejaVuSans-78\"/>\n       <use x=\"223.339844\" xlink:href=\"#DejaVuSans-74\"/>\n      </g>\n     </g>\n    </g>\n    <g id=\"xtick_11\">\n     <g id=\"line2d_11\">\n      <g>\n       <use style=\"stroke:#000000;stroke-width:0.8;\" x=\"319.936503\" xlink:href=\"#ma8a11ad342\" y=\"235.238437\"/>\n      </g>\n     </g>\n     <g id=\"text_11\">\n      <!-- X -->\n      <g transform=\"translate(316.511503 249.836875)scale(0.1 -0.1)\">\n       <defs>\n        <path d=\"M 6.296875 72.90625 \nL 16.890625 72.90625 \nL 35.015625 45.796875 \nL 53.21875 72.90625 \nL 63.8125 72.90625 \nL 40.375 37.890625 \nL 65.375 0 \nL 54.78125 0 \nL 34.28125 31 \nL 13.625 0 \nL 2.984375 0 \nL 29 38.921875 \nz\n\" id=\"DejaVuSans-88\"/>\n       </defs>\n       <use xlink:href=\"#DejaVuSans-88\"/>\n      </g>\n     </g>\n    </g>\n    <g id=\"xtick_12\">\n     <g id=\"line2d_12\">\n      <g>\n       <use style=\"stroke:#000000;stroke-width:0.8;\" x=\"345.730032\" xlink:href=\"#ma8a11ad342\" y=\"235.238437\"/>\n      </g>\n     </g>\n     <g id=\"text_12\">\n      <!-- NUM -->\n      <g transform=\"translate(334.015969 249.836875)scale(0.1 -0.1)\">\n       <defs>\n        <path d=\"M 9.8125 72.90625 \nL 24.515625 72.90625 \nL 43.109375 23.296875 \nL 61.8125 72.90625 \nL 76.515625 72.90625 \nL 76.515625 0 \nL 66.890625 0 \nL 66.890625 64.015625 \nL 48.09375 14.015625 \nL 38.1875 14.015625 \nL 19.390625 64.015625 \nL 19.390625 0 \nL 9.8125 0 \nz\n\" id=\"DejaVuSans-77\"/>\n       </defs>\n       <use xlink:href=\"#DejaVuSans-78\"/>\n       <use x=\"74.804688\" xlink:href=\"#DejaVuSans-85\"/>\n       <use x=\"147.998047\" xlink:href=\"#DejaVuSans-77\"/>\n      </g>\n     </g>\n    </g>\n   </g>\n   <g id=\"matplotlib.axis_2\">\n    <g id=\"ytick_1\">\n     <g id=\"line2d_13\">\n      <defs>\n       <path d=\"M 0 0 \nL -3.5 0 \n\" id=\"m6f0a7e06ce\" style=\"stroke:#000000;stroke-width:0.8;\"/>\n      </defs>\n      <g>\n       <use style=\"stroke:#000000;stroke-width:0.8;\" x=\"36.465625\" xlink:href=\"#m6f0a7e06ce\" y=\"235.238437\"/>\n      </g>\n     </g>\n     <g id=\"text_13\">\n      <!-- 0.00 -->\n      <g transform=\"translate(7.2 239.037656)scale(0.1 -0.1)\">\n       <defs>\n        <path d=\"M 31.78125 66.40625 \nQ 24.171875 66.40625 20.328125 58.90625 \nQ 16.5 51.421875 16.5 36.375 \nQ 16.5 21.390625 20.328125 13.890625 \nQ 24.171875 6.390625 31.78125 6.390625 \nQ 39.453125 6.390625 43.28125 13.890625 \nQ 47.125 21.390625 47.125 36.375 \nQ 47.125 51.421875 43.28125 58.90625 \nQ 39.453125 66.40625 31.78125 66.40625 \nz\nM 31.78125 74.21875 \nQ 44.046875 74.21875 50.515625 64.515625 \nQ 56.984375 54.828125 56.984375 36.375 \nQ 56.984375 17.96875 50.515625 8.265625 \nQ 44.046875 -1.421875 31.78125 -1.421875 \nQ 19.53125 -1.421875 13.0625 8.265625 \nQ 6.59375 17.96875 6.59375 36.375 \nQ 6.59375 54.828125 13.0625 64.515625 \nQ 19.53125 74.21875 31.78125 74.21875 \nz\n\" id=\"DejaVuSans-48\"/>\n       </defs>\n       <use xlink:href=\"#DejaVuSans-48\"/>\n       <use x=\"63.623047\" xlink:href=\"#DejaVuSans-46\"/>\n       <use x=\"95.410156\" xlink:href=\"#DejaVuSans-48\"/>\n       <use x=\"159.033203\" xlink:href=\"#DejaVuSans-48\"/>\n      </g>\n     </g>\n    </g>\n    <g id=\"ytick_2\">\n     <g id=\"line2d_14\">\n      <g>\n       <use style=\"stroke:#000000;stroke-width:0.8;\" x=\"36.465625\" xlink:href=\"#m6f0a7e06ce\" y=\"207.700517\"/>\n      </g>\n     </g>\n     <g id=\"text_14\">\n      <!-- 0.25 -->\n      <g transform=\"translate(7.2 211.499736)scale(0.1 -0.1)\">\n       <defs>\n        <path d=\"M 19.1875 8.296875 \nL 53.609375 8.296875 \nL 53.609375 0 \nL 7.328125 0 \nL 7.328125 8.296875 \nQ 12.9375 14.109375 22.625 23.890625 \nQ 32.328125 33.6875 34.8125 36.53125 \nQ 39.546875 41.84375 41.421875 45.53125 \nQ 43.3125 49.21875 43.3125 52.78125 \nQ 43.3125 58.59375 39.234375 62.25 \nQ 35.15625 65.921875 28.609375 65.921875 \nQ 23.96875 65.921875 18.8125 64.3125 \nQ 13.671875 62.703125 7.8125 59.421875 \nL 7.8125 69.390625 \nQ 13.765625 71.78125 18.9375 73 \nQ 24.125 74.21875 28.421875 74.21875 \nQ 39.75 74.21875 46.484375 68.546875 \nQ 53.21875 62.890625 53.21875 53.421875 \nQ 53.21875 48.921875 51.53125 44.890625 \nQ 49.859375 40.875 45.40625 35.40625 \nQ 44.1875 33.984375 37.640625 27.21875 \nQ 31.109375 20.453125 19.1875 8.296875 \nz\n\" id=\"DejaVuSans-50\"/>\n        <path d=\"M 10.796875 72.90625 \nL 49.515625 72.90625 \nL 49.515625 64.59375 \nL 19.828125 64.59375 \nL 19.828125 46.734375 \nQ 21.96875 47.46875 24.109375 47.828125 \nQ 26.265625 48.1875 28.421875 48.1875 \nQ 40.625 48.1875 47.75 41.5 \nQ 54.890625 34.8125 54.890625 23.390625 \nQ 54.890625 11.625 47.5625 5.09375 \nQ 40.234375 -1.421875 26.90625 -1.421875 \nQ 22.3125 -1.421875 17.546875 -0.640625 \nQ 12.796875 0.140625 7.71875 1.703125 \nL 7.71875 11.625 \nQ 12.109375 9.234375 16.796875 8.0625 \nQ 21.484375 6.890625 26.703125 6.890625 \nQ 35.15625 6.890625 40.078125 11.328125 \nQ 45.015625 15.765625 45.015625 23.390625 \nQ 45.015625 31 40.078125 35.4375 \nQ 35.15625 39.890625 26.703125 39.890625 \nQ 22.75 39.890625 18.8125 39.015625 \nQ 14.890625 38.140625 10.796875 36.28125 \nz\n\" id=\"DejaVuSans-53\"/>\n       </defs>\n       <use xlink:href=\"#DejaVuSans-48\"/>\n       <use x=\"63.623047\" xlink:href=\"#DejaVuSans-46\"/>\n       <use x=\"95.410156\" xlink:href=\"#DejaVuSans-50\"/>\n       <use x=\"159.033203\" xlink:href=\"#DejaVuSans-53\"/>\n      </g>\n     </g>\n    </g>\n    <g id=\"ytick_3\">\n     <g id=\"line2d_15\">\n      <g>\n       <use style=\"stroke:#000000;stroke-width:0.8;\" x=\"36.465625\" xlink:href=\"#m6f0a7e06ce\" y=\"180.162596\"/>\n      </g>\n     </g>\n     <g id=\"text_15\">\n      <!-- 0.50 -->\n      <g transform=\"translate(7.2 183.961815)scale(0.1 -0.1)\">\n       <use xlink:href=\"#DejaVuSans-48\"/>\n       <use x=\"63.623047\" xlink:href=\"#DejaVuSans-46\"/>\n       <use x=\"95.410156\" xlink:href=\"#DejaVuSans-53\"/>\n       <use x=\"159.033203\" xlink:href=\"#DejaVuSans-48\"/>\n      </g>\n     </g>\n    </g>\n    <g id=\"ytick_4\">\n     <g id=\"line2d_16\">\n      <g>\n       <use style=\"stroke:#000000;stroke-width:0.8;\" x=\"36.465625\" xlink:href=\"#m6f0a7e06ce\" y=\"152.624675\"/>\n      </g>\n     </g>\n     <g id=\"text_16\">\n      <!-- 0.75 -->\n      <g transform=\"translate(7.2 156.423894)scale(0.1 -0.1)\">\n       <defs>\n        <path d=\"M 8.203125 72.90625 \nL 55.078125 72.90625 \nL 55.078125 68.703125 \nL 28.609375 0 \nL 18.3125 0 \nL 43.21875 64.59375 \nL 8.203125 64.59375 \nz\n\" id=\"DejaVuSans-55\"/>\n       </defs>\n       <use xlink:href=\"#DejaVuSans-48\"/>\n       <use x=\"63.623047\" xlink:href=\"#DejaVuSans-46\"/>\n       <use x=\"95.410156\" xlink:href=\"#DejaVuSans-55\"/>\n       <use x=\"159.033203\" xlink:href=\"#DejaVuSans-53\"/>\n      </g>\n     </g>\n    </g>\n    <g id=\"ytick_5\">\n     <g id=\"line2d_17\">\n      <g>\n       <use style=\"stroke:#000000;stroke-width:0.8;\" x=\"36.465625\" xlink:href=\"#m6f0a7e06ce\" y=\"125.086755\"/>\n      </g>\n     </g>\n     <g id=\"text_17\">\n      <!-- 1.00 -->\n      <g transform=\"translate(7.2 128.885974)scale(0.1 -0.1)\">\n       <defs>\n        <path d=\"M 12.40625 8.296875 \nL 28.515625 8.296875 \nL 28.515625 63.921875 \nL 10.984375 60.40625 \nL 10.984375 69.390625 \nL 28.421875 72.90625 \nL 38.28125 72.90625 \nL 38.28125 8.296875 \nL 54.390625 8.296875 \nL 54.390625 0 \nL 12.40625 0 \nz\n\" id=\"DejaVuSans-49\"/>\n       </defs>\n       <use xlink:href=\"#DejaVuSans-49\"/>\n       <use x=\"63.623047\" xlink:href=\"#DejaVuSans-46\"/>\n       <use x=\"95.410156\" xlink:href=\"#DejaVuSans-48\"/>\n       <use x=\"159.033203\" xlink:href=\"#DejaVuSans-48\"/>\n      </g>\n     </g>\n    </g>\n    <g id=\"ytick_6\">\n     <g id=\"line2d_18\">\n      <g>\n       <use style=\"stroke:#000000;stroke-width:0.8;\" x=\"36.465625\" xlink:href=\"#m6f0a7e06ce\" y=\"97.548834\"/>\n      </g>\n     </g>\n     <g id=\"text_18\">\n      <!-- 1.25 -->\n      <g transform=\"translate(7.2 101.348053)scale(0.1 -0.1)\">\n       <use xlink:href=\"#DejaVuSans-49\"/>\n       <use x=\"63.623047\" xlink:href=\"#DejaVuSans-46\"/>\n       <use x=\"95.410156\" xlink:href=\"#DejaVuSans-50\"/>\n       <use x=\"159.033203\" xlink:href=\"#DejaVuSans-53\"/>\n      </g>\n     </g>\n    </g>\n    <g id=\"ytick_7\">\n     <g id=\"line2d_19\">\n      <g>\n       <use style=\"stroke:#000000;stroke-width:0.8;\" x=\"36.465625\" xlink:href=\"#m6f0a7e06ce\" y=\"70.010913\"/>\n      </g>\n     </g>\n     <g id=\"text_19\">\n      <!-- 1.50 -->\n      <g transform=\"translate(7.2 73.810132)scale(0.1 -0.1)\">\n       <use xlink:href=\"#DejaVuSans-49\"/>\n       <use x=\"63.623047\" xlink:href=\"#DejaVuSans-46\"/>\n       <use x=\"95.410156\" xlink:href=\"#DejaVuSans-53\"/>\n       <use x=\"159.033203\" xlink:href=\"#DejaVuSans-48\"/>\n      </g>\n     </g>\n    </g>\n    <g id=\"ytick_8\">\n     <g id=\"line2d_20\">\n      <g>\n       <use style=\"stroke:#000000;stroke-width:0.8;\" x=\"36.465625\" xlink:href=\"#m6f0a7e06ce\" y=\"42.472993\"/>\n      </g>\n     </g>\n     <g id=\"text_20\">\n      <!-- 1.75 -->\n      <g transform=\"translate(7.2 46.272211)scale(0.1 -0.1)\">\n       <use xlink:href=\"#DejaVuSans-49\"/>\n       <use x=\"63.623047\" xlink:href=\"#DejaVuSans-46\"/>\n       <use x=\"95.410156\" xlink:href=\"#DejaVuSans-55\"/>\n       <use x=\"159.033203\" xlink:href=\"#DejaVuSans-53\"/>\n      </g>\n     </g>\n    </g>\n    <g id=\"text_21\">\n     <!-- 1e6 -->\n     <g transform=\"translate(36.465625 14.798437)scale(0.1 -0.1)\">\n      <defs>\n       <path d=\"M 56.203125 29.59375 \nL 56.203125 25.203125 \nL 14.890625 25.203125 \nQ 15.484375 15.921875 20.484375 11.0625 \nQ 25.484375 6.203125 34.421875 6.203125 \nQ 39.59375 6.203125 44.453125 7.46875 \nQ 49.3125 8.734375 54.109375 11.28125 \nL 54.109375 2.78125 \nQ 49.265625 0.734375 44.1875 -0.34375 \nQ 39.109375 -1.421875 33.890625 -1.421875 \nQ 20.796875 -1.421875 13.15625 6.1875 \nQ 5.515625 13.8125 5.515625 26.8125 \nQ 5.515625 40.234375 12.765625 48.109375 \nQ 20.015625 56 32.328125 56 \nQ 43.359375 56 49.78125 48.890625 \nQ 56.203125 41.796875 56.203125 29.59375 \nz\nM 47.21875 32.234375 \nQ 47.125 39.59375 43.09375 43.984375 \nQ 39.0625 48.390625 32.421875 48.390625 \nQ 24.90625 48.390625 20.390625 44.140625 \nQ 15.875 39.890625 15.1875 32.171875 \nz\n\" id=\"DejaVuSans-101\"/>\n       <path d=\"M 33.015625 40.375 \nQ 26.375 40.375 22.484375 35.828125 \nQ 18.609375 31.296875 18.609375 23.390625 \nQ 18.609375 15.53125 22.484375 10.953125 \nQ 26.375 6.390625 33.015625 6.390625 \nQ 39.65625 6.390625 43.53125 10.953125 \nQ 47.40625 15.53125 47.40625 23.390625 \nQ 47.40625 31.296875 43.53125 35.828125 \nQ 39.65625 40.375 33.015625 40.375 \nz\nM 52.59375 71.296875 \nL 52.59375 62.3125 \nQ 48.875 64.0625 45.09375 64.984375 \nQ 41.3125 65.921875 37.59375 65.921875 \nQ 27.828125 65.921875 22.671875 59.328125 \nQ 17.53125 52.734375 16.796875 39.40625 \nQ 19.671875 43.65625 24.015625 45.921875 \nQ 28.375 48.1875 33.59375 48.1875 \nQ 44.578125 48.1875 50.953125 41.515625 \nQ 57.328125 34.859375 57.328125 23.390625 \nQ 57.328125 12.15625 50.6875 5.359375 \nQ 44.046875 -1.421875 33.015625 -1.421875 \nQ 20.359375 -1.421875 13.671875 8.265625 \nQ 6.984375 17.96875 6.984375 36.375 \nQ 6.984375 53.65625 15.1875 63.9375 \nQ 23.390625 74.21875 37.203125 74.21875 \nQ 40.921875 74.21875 44.703125 73.484375 \nQ 48.484375 72.75 52.59375 71.296875 \nz\n\" id=\"DejaVuSans-54\"/>\n      </defs>\n      <use xlink:href=\"#DejaVuSans-49\"/>\n      <use x=\"63.623047\" xlink:href=\"#DejaVuSans-101\"/>\n      <use x=\"125.146484\" xlink:href=\"#DejaVuSans-54\"/>\n     </g>\n    </g>\n   </g>\n   <g id=\"patch_15\">\n    <path d=\"M 36.465625 235.238437 \nL 36.465625 17.798438 \n\" style=\"fill:none;stroke:#000000;stroke-linecap:square;stroke-linejoin:miter;stroke-width:0.8;\"/>\n   </g>\n   <g id=\"patch_16\">\n    <path d=\"M 371.265625 235.238437 \nL 371.265625 17.798438 \n\" style=\"fill:none;stroke:#000000;stroke-linecap:square;stroke-linejoin:miter;stroke-width:0.8;\"/>\n   </g>\n   <g id=\"patch_17\">\n    <path d=\"M 36.465625 235.238437 \nL 371.265625 235.238437 \n\" style=\"fill:none;stroke:#000000;stroke-linecap:square;stroke-linejoin:miter;stroke-width:0.8;\"/>\n   </g>\n   <g id=\"patch_18\">\n    <path d=\"M 36.465625 17.798437 \nL 371.265625 17.798437 \n\" style=\"fill:none;stroke:#000000;stroke-linecap:square;stroke-linejoin:miter;stroke-width:0.8;\"/>\n   </g>\n  </g>\n </g>\n <defs>\n  <clipPath id=\"p94db88b5ad\">\n   <rect height=\"217.44\" width=\"334.8\" x=\"36.465625\" y=\"17.798437\"/>\n  </clipPath>\n </defs>\n</svg>\n",
      "image/png": "[encoded data removed]"
     },
     "metadata": {
      "needs_background": "light"
     }
    }
   ],
   "source": [
    "plot_tags(tags_description)"
   ]
  },
  {
   "cell_type": "code",
   "execution_count": 190,
   "metadata": {},
   "outputs": [
    {
     "output_type": "display_data",
     "data": {
      "text/plain": "<Figure size 432x288 with 1 Axes>",
      "image/svg+xml": "<?xml version=\"1.0\" encoding=\"utf-8\" standalone=\"no\"?>\n<!DOCTYPE svg PUBLIC \"-//W3C//DTD SVG 1.1//EN\"\n  \"http://www.w3.org/Graphics/SVG/1.1/DTD/svg11.dtd\">\n<!-- Created with matplotlib (https://matplotlib.org/) -->\n<svg height=\"248.518125pt\" version=\"1.1\" viewBox=\"0 0 394.375 248.518125\" width=\"394.375pt\" xmlns=\"http://www.w3.org/2000/svg\" xmlns:xlink=\"http://www.w3.org/1999/xlink\">\n <metadata>\n  <rdf:RDF xmlns:cc=\"http://creativecommons.org/ns#\" xmlns:dc=\"http://purl.org/dc/elements/1.1/\" xmlns:rdf=\"http://www.w3.org/1999/02/22-rdf-syntax-ns#\">\n   <cc:Work>\n    <dc:type rdf:resource=\"http://purl.org/dc/dcmitype/StillImage\"/>\n    <dc:date>2021-07-21T10:52:17.348421</dc:date>\n    <dc:format>image/svg+xml</dc:format>\n    <dc:creator>\n     <cc:Agent>\n      <dc:title>Matplotlib v3.3.4, https://matplotlib.org/</dc:title>\n     </cc:Agent>\n    </dc:creator>\n   </cc:Work>\n  </rdf:RDF>\n </metadata>\n <defs>\n  <style type=\"text/css\">*{stroke-linecap:butt;stroke-linejoin:round;}</style>\n </defs>\n <g id=\"figure_1\">\n  <g id=\"patch_1\">\n   <path d=\"M 0 248.518125 \nL 394.375 248.518125 \nL 394.375 0 \nL 0 0 \nz\n\" style=\"fill:none;\"/>\n  </g>\n  <g id=\"axes_1\">\n   <g id=\"patch_2\">\n    <path d=\"M 52.375 224.64 \nL 387.175 224.64 \nL 387.175 7.2 \nL 52.375 7.2 \nz\n\" style=\"fill:#ffffff;\"/>\n   </g>\n   <g id=\"patch_3\">\n    <path clip-path=\"url(#p96de29255c)\" d=\"M 67.593182 224.64 \nL 88.228005 224.64 \nL 88.228005 17.554286 \nL 67.593182 17.554286 \nz\n\" style=\"fill:#1f77b4;\"/>\n   </g>\n   <g id=\"patch_4\">\n    <path clip-path=\"url(#p96de29255c)\" d=\"M 93.38671 224.64 \nL 114.021533 224.64 \nL 114.021533 86.159582 \nL 93.38671 86.159582 \nz\n\" style=\"fill:#1f77b4;\"/>\n   </g>\n   <g id=\"patch_5\">\n    <path clip-path=\"url(#p96de29255c)\" d=\"M 119.180239 224.64 \nL 139.815062 224.64 \nL 139.815062 160.496431 \nL 119.180239 160.496431 \nz\n\" style=\"fill:#1f77b4;\"/>\n   </g>\n   <g id=\"patch_6\">\n    <path clip-path=\"url(#p96de29255c)\" d=\"M 144.973767 224.64 \nL 165.60859 224.64 \nL 165.60859 175.677911 \nL 144.973767 175.677911 \nz\n\" style=\"fill:#1f77b4;\"/>\n   </g>\n   <g id=\"patch_7\">\n    <path clip-path=\"url(#p96de29255c)\" d=\"M 170.767296 224.64 \nL 191.402119 224.64 \nL 191.402119 177.29442 \nL 170.767296 177.29442 \nz\n\" style=\"fill:#1f77b4;\"/>\n   </g>\n   <g id=\"patch_8\">\n    <path clip-path=\"url(#p96de29255c)\" d=\"M 196.560824 224.64 \nL 217.195647 224.64 \nL 217.195647 193.180554 \nL 196.560824 193.180554 \nz\n\" style=\"fill:#1f77b4;\"/>\n   </g>\n   <g id=\"patch_9\">\n    <path clip-path=\"url(#p96de29255c)\" d=\"M 222.354353 224.64 \nL 242.989176 224.64 \nL 242.989176 201.912122 \nL 222.354353 201.912122 \nz\n\" style=\"fill:#1f77b4;\"/>\n   </g>\n   <g id=\"patch_10\">\n    <path clip-path=\"url(#p96de29255c)\" d=\"M 248.147881 224.64 \nL 268.782704 224.64 \nL 268.782704 205.038717 \nL 248.147881 205.038717 \nz\n\" style=\"fill:#1f77b4;\"/>\n   </g>\n   <g id=\"patch_11\">\n    <path clip-path=\"url(#p96de29255c)\" d=\"M 273.94141 224.64 \nL 294.576233 224.64 \nL 294.576233 205.302357 \nL 273.94141 205.302357 \nz\n\" style=\"fill:#1f77b4;\"/>\n   </g>\n   <g id=\"patch_12\">\n    <path clip-path=\"url(#p96de29255c)\" d=\"M 299.734938 224.64 \nL 320.369761 224.64 \nL 320.369761 209.448038 \nL 299.734938 209.448038 \nz\n\" style=\"fill:#1f77b4;\"/>\n   </g>\n   <g id=\"patch_13\">\n    <path clip-path=\"url(#p96de29255c)\" d=\"M 325.528467 224.64 \nL 346.16329 224.64 \nL 346.16329 223.09323 \nL 325.528467 223.09323 \nz\n\" style=\"fill:#1f77b4;\"/>\n   </g>\n   <g id=\"patch_14\">\n    <path clip-path=\"url(#p96de29255c)\" d=\"M 351.321995 224.64 \nL 371.956818 224.64 \nL 371.956818 223.663645 \nL 351.321995 223.663645 \nz\n\" style=\"fill:#1f77b4;\"/>\n   </g>\n   <g id=\"matplotlib.axis_1\">\n    <g id=\"xtick_1\">\n     <g id=\"line2d_1\">\n      <defs>\n       <path d=\"M 0 0 \nL 0 3.5 \n\" id=\"ma72d0648a5\" style=\"stroke:#000000;stroke-width:0.8;\"/>\n      </defs>\n      <g>\n       <use style=\"stroke:#000000;stroke-width:0.8;\" x=\"77.910593\" xlink:href=\"#ma72d0648a5\" y=\"224.64\"/>\n      </g>\n     </g>\n     <g id=\"text_1\">\n      <!-- NOUN -->\n      <g transform=\"translate(62.834031 239.238437)scale(0.1 -0.1)\">\n       <defs>\n        <path d=\"M 9.8125 72.90625 \nL 23.09375 72.90625 \nL 55.421875 11.921875 \nL 55.421875 72.90625 \nL 64.984375 72.90625 \nL 64.984375 0 \nL 51.703125 0 \nL 19.390625 60.984375 \nL 19.390625 0 \nL 9.8125 0 \nz\n\" id=\"DejaVuSans-78\"/>\n        <path d=\"M 39.40625 66.21875 \nQ 28.65625 66.21875 22.328125 58.203125 \nQ 16.015625 50.203125 16.015625 36.375 \nQ 16.015625 22.609375 22.328125 14.59375 \nQ 28.65625 6.59375 39.40625 6.59375 \nQ 50.140625 6.59375 56.421875 14.59375 \nQ 62.703125 22.609375 62.703125 36.375 \nQ 62.703125 50.203125 56.421875 58.203125 \nQ 50.140625 66.21875 39.40625 66.21875 \nz\nM 39.40625 74.21875 \nQ 54.734375 74.21875 63.90625 63.9375 \nQ 73.09375 53.65625 73.09375 36.375 \nQ 73.09375 19.140625 63.90625 8.859375 \nQ 54.734375 -1.421875 39.40625 -1.421875 \nQ 24.03125 -1.421875 14.8125 8.828125 \nQ 5.609375 19.09375 5.609375 36.375 \nQ 5.609375 53.65625 14.8125 63.9375 \nQ 24.03125 74.21875 39.40625 74.21875 \nz\n\" id=\"DejaVuSans-79\"/>\n        <path d=\"M 8.6875 72.90625 \nL 18.609375 72.90625 \nL 18.609375 28.609375 \nQ 18.609375 16.890625 22.84375 11.734375 \nQ 27.09375 6.59375 36.625 6.59375 \nQ 46.09375 6.59375 50.34375 11.734375 \nQ 54.59375 16.890625 54.59375 28.609375 \nL 54.59375 72.90625 \nL 64.5 72.90625 \nL 64.5 27.390625 \nQ 64.5 13.140625 57.4375 5.859375 \nQ 50.390625 -1.421875 36.625 -1.421875 \nQ 22.796875 -1.421875 15.734375 5.859375 \nQ 8.6875 13.140625 8.6875 27.390625 \nz\n\" id=\"DejaVuSans-85\"/>\n       </defs>\n       <use xlink:href=\"#DejaVuSans-78\"/>\n       <use x=\"74.804688\" xlink:href=\"#DejaVuSans-79\"/>\n       <use x=\"153.515625\" xlink:href=\"#DejaVuSans-85\"/>\n       <use x=\"226.708984\" xlink:href=\"#DejaVuSans-78\"/>\n      </g>\n     </g>\n    </g>\n    <g id=\"xtick_2\">\n     <g id=\"line2d_2\">\n      <g>\n       <use style=\"stroke:#000000;stroke-width:0.8;\" x=\"103.704122\" xlink:href=\"#ma72d0648a5\" y=\"224.64\"/>\n      </g>\n     </g>\n     <g id=\"text_2\">\n      <!-- VERB -->\n      <g transform=\"translate(90.219747 239.238437)scale(0.1 -0.1)\">\n       <defs>\n        <path d=\"M 28.609375 0 \nL 0.78125 72.90625 \nL 11.078125 72.90625 \nL 34.1875 11.53125 \nL 57.328125 72.90625 \nL 67.578125 72.90625 \nL 39.796875 0 \nz\n\" id=\"DejaVuSans-86\"/>\n        <path d=\"M 9.8125 72.90625 \nL 55.90625 72.90625 \nL 55.90625 64.59375 \nL 19.671875 64.59375 \nL 19.671875 43.015625 \nL 54.390625 43.015625 \nL 54.390625 34.71875 \nL 19.671875 34.71875 \nL 19.671875 8.296875 \nL 56.78125 8.296875 \nL 56.78125 0 \nL 9.8125 0 \nz\n\" id=\"DejaVuSans-69\"/>\n        <path d=\"M 44.390625 34.1875 \nQ 47.5625 33.109375 50.5625 29.59375 \nQ 53.5625 26.078125 56.59375 19.921875 \nL 66.609375 0 \nL 56 0 \nL 46.6875 18.703125 \nQ 43.0625 26.03125 39.671875 28.421875 \nQ 36.28125 30.8125 30.421875 30.8125 \nL 19.671875 30.8125 \nL 19.671875 0 \nL 9.8125 0 \nL 9.8125 72.90625 \nL 32.078125 72.90625 \nQ 44.578125 72.90625 50.734375 67.671875 \nQ 56.890625 62.453125 56.890625 51.90625 \nQ 56.890625 45.015625 53.6875 40.46875 \nQ 50.484375 35.9375 44.390625 34.1875 \nz\nM 19.671875 64.796875 \nL 19.671875 38.921875 \nL 32.078125 38.921875 \nQ 39.203125 38.921875 42.84375 42.21875 \nQ 46.484375 45.515625 46.484375 51.90625 \nQ 46.484375 58.296875 42.84375 61.546875 \nQ 39.203125 64.796875 32.078125 64.796875 \nz\n\" id=\"DejaVuSans-82\"/>\n        <path d=\"M 19.671875 34.8125 \nL 19.671875 8.109375 \nL 35.5 8.109375 \nQ 43.453125 8.109375 47.28125 11.40625 \nQ 51.125 14.703125 51.125 21.484375 \nQ 51.125 28.328125 47.28125 31.5625 \nQ 43.453125 34.8125 35.5 34.8125 \nz\nM 19.671875 64.796875 \nL 19.671875 42.828125 \nL 34.28125 42.828125 \nQ 41.5 42.828125 45.03125 45.53125 \nQ 48.578125 48.25 48.578125 53.8125 \nQ 48.578125 59.328125 45.03125 62.0625 \nQ 41.5 64.796875 34.28125 64.796875 \nz\nM 9.8125 72.90625 \nL 35.015625 72.90625 \nQ 46.296875 72.90625 52.390625 68.21875 \nQ 58.5 63.53125 58.5 54.890625 \nQ 58.5 48.1875 55.375 44.234375 \nQ 52.25 40.28125 46.1875 39.3125 \nQ 53.46875 37.75 57.5 32.78125 \nQ 61.53125 27.828125 61.53125 20.40625 \nQ 61.53125 10.640625 54.890625 5.3125 \nQ 48.25 0 35.984375 0 \nL 9.8125 0 \nz\n\" id=\"DejaVuSans-66\"/>\n       </defs>\n       <use xlink:href=\"#DejaVuSans-86\"/>\n       <use x=\"68.408203\" xlink:href=\"#DejaVuSans-69\"/>\n       <use x=\"131.591797\" xlink:href=\"#DejaVuSans-82\"/>\n       <use x=\"201.074219\" xlink:href=\"#DejaVuSans-66\"/>\n      </g>\n     </g>\n    </g>\n    <g id=\"xtick_3\">\n     <g id=\"line2d_3\">\n      <g>\n       <use style=\"stroke:#000000;stroke-width:0.8;\" x=\"129.49765\" xlink:href=\"#ma72d0648a5\" y=\"224.64\"/>\n      </g>\n     </g>\n     <g id=\"text_3\">\n      <!-- . -->\n      <g transform=\"translate(127.908588 239.238437)scale(0.1 -0.1)\">\n       <defs>\n        <path d=\"M 10.6875 12.40625 \nL 21 12.40625 \nL 21 0 \nL 10.6875 0 \nz\n\" id=\"DejaVuSans-46\"/>\n       </defs>\n       <use xlink:href=\"#DejaVuSans-46\"/>\n      </g>\n     </g>\n    </g>\n    <g id=\"xtick_4\">\n     <g id=\"line2d_4\">\n      <g>\n       <use style=\"stroke:#000000;stroke-width:0.8;\" x=\"155.291179\" xlink:href=\"#ma72d0648a5\" y=\"224.64\"/>\n      </g>\n     </g>\n     <g id=\"text_4\">\n      <!-- ADP -->\n      <g transform=\"translate(145.006022 239.238437)scale(0.1 -0.1)\">\n       <defs>\n        <path d=\"M 34.1875 63.1875 \nL 20.796875 26.90625 \nL 47.609375 26.90625 \nz\nM 28.609375 72.90625 \nL 39.796875 72.90625 \nL 67.578125 0 \nL 57.328125 0 \nL 50.6875 18.703125 \nL 17.828125 18.703125 \nL 11.1875 0 \nL 0.78125 0 \nz\n\" id=\"DejaVuSans-65\"/>\n        <path d=\"M 19.671875 64.796875 \nL 19.671875 8.109375 \nL 31.59375 8.109375 \nQ 46.6875 8.109375 53.6875 14.9375 \nQ 60.6875 21.78125 60.6875 36.53125 \nQ 60.6875 51.171875 53.6875 57.984375 \nQ 46.6875 64.796875 31.59375 64.796875 \nz\nM 9.8125 72.90625 \nL 30.078125 72.90625 \nQ 51.265625 72.90625 61.171875 64.09375 \nQ 71.09375 55.28125 71.09375 36.53125 \nQ 71.09375 17.671875 61.125 8.828125 \nQ 51.171875 0 30.078125 0 \nL 9.8125 0 \nz\n\" id=\"DejaVuSans-68\"/>\n        <path d=\"M 19.671875 64.796875 \nL 19.671875 37.40625 \nL 32.078125 37.40625 \nQ 38.96875 37.40625 42.71875 40.96875 \nQ 46.484375 44.53125 46.484375 51.125 \nQ 46.484375 57.671875 42.71875 61.234375 \nQ 38.96875 64.796875 32.078125 64.796875 \nz\nM 9.8125 72.90625 \nL 32.078125 72.90625 \nQ 44.34375 72.90625 50.609375 67.359375 \nQ 56.890625 61.8125 56.890625 51.125 \nQ 56.890625 40.328125 50.609375 34.8125 \nQ 44.34375 29.296875 32.078125 29.296875 \nL 19.671875 29.296875 \nL 19.671875 0 \nL 9.8125 0 \nz\n\" id=\"DejaVuSans-80\"/>\n       </defs>\n       <use xlink:href=\"#DejaVuSans-65\"/>\n       <use x=\"68.408203\" xlink:href=\"#DejaVuSans-68\"/>\n       <use x=\"145.410156\" xlink:href=\"#DejaVuSans-80\"/>\n      </g>\n     </g>\n    </g>\n    <g id=\"xtick_5\">\n     <g id=\"line2d_5\">\n      <g>\n       <use style=\"stroke:#000000;stroke-width:0.8;\" x=\"181.084707\" xlink:href=\"#ma72d0648a5\" y=\"224.64\"/>\n      </g>\n     </g>\n     <g id=\"text_5\">\n      <!-- DET -->\n      <g transform=\"translate(171.021426 239.238437)scale(0.1 -0.1)\">\n       <defs>\n        <path d=\"M -0.296875 72.90625 \nL 61.375 72.90625 \nL 61.375 64.59375 \nL 35.5 64.59375 \nL 35.5 0 \nL 25.59375 0 \nL 25.59375 64.59375 \nL -0.296875 64.59375 \nz\n\" id=\"DejaVuSans-84\"/>\n       </defs>\n       <use xlink:href=\"#DejaVuSans-68\"/>\n       <use x=\"77.001953\" xlink:href=\"#DejaVuSans-69\"/>\n       <use x=\"140.185547\" xlink:href=\"#DejaVuSans-84\"/>\n      </g>\n     </g>\n    </g>\n    <g id=\"xtick_6\">\n     <g id=\"line2d_6\">\n      <g>\n       <use style=\"stroke:#000000;stroke-width:0.8;\" x=\"206.878236\" xlink:href=\"#ma72d0648a5\" y=\"224.64\"/>\n      </g>\n     </g>\n     <g id=\"text_6\">\n      <!-- ADJ -->\n      <g transform=\"translate(198.132923 239.238437)scale(0.1 -0.1)\">\n       <defs>\n        <path d=\"M 9.8125 72.90625 \nL 19.671875 72.90625 \nL 19.671875 5.078125 \nQ 19.671875 -8.109375 14.671875 -14.0625 \nQ 9.671875 -20.015625 -1.421875 -20.015625 \nL -5.171875 -20.015625 \nL -5.171875 -11.71875 \nL -2.09375 -11.71875 \nQ 4.4375 -11.71875 7.125 -8.046875 \nQ 9.8125 -4.390625 9.8125 5.078125 \nz\n\" id=\"DejaVuSans-74\"/>\n       </defs>\n       <use xlink:href=\"#DejaVuSans-65\"/>\n       <use x=\"68.408203\" xlink:href=\"#DejaVuSans-68\"/>\n       <use x=\"145.410156\" xlink:href=\"#DejaVuSans-74\"/>\n      </g>\n     </g>\n    </g>\n    <g id=\"xtick_7\">\n     <g id=\"line2d_7\">\n      <g>\n       <use style=\"stroke:#000000;stroke-width:0.8;\" x=\"232.671764\" xlink:href=\"#ma72d0648a5\" y=\"224.64\"/>\n      </g>\n     </g>\n     <g id=\"text_7\">\n      <!-- ADV -->\n      <g transform=\"translate(222.068639 239.238437)scale(0.1 -0.1)\">\n       <use xlink:href=\"#DejaVuSans-65\"/>\n       <use x=\"68.408203\" xlink:href=\"#DejaVuSans-68\"/>\n       <use x=\"143.660156\" xlink:href=\"#DejaVuSans-86\"/>\n      </g>\n     </g>\n    </g>\n    <g id=\"xtick_8\">\n     <g id=\"line2d_8\">\n      <g>\n       <use style=\"stroke:#000000;stroke-width:0.8;\" x=\"258.465293\" xlink:href=\"#ma72d0648a5\" y=\"224.64\"/>\n      </g>\n     </g>\n     <g id=\"text_8\">\n      <!-- PRON -->\n      <g transform=\"translate(244.299668 239.238437)scale(0.1 -0.1)\">\n       <use xlink:href=\"#DejaVuSans-80\"/>\n       <use x=\"60.302734\" xlink:href=\"#DejaVuSans-82\"/>\n       <use x=\"129.785156\" xlink:href=\"#DejaVuSans-79\"/>\n       <use x=\"208.496094\" xlink:href=\"#DejaVuSans-78\"/>\n      </g>\n     </g>\n    </g>\n    <g id=\"xtick_9\">\n     <g id=\"line2d_9\">\n      <g>\n       <use style=\"stroke:#000000;stroke-width:0.8;\" x=\"284.258821\" xlink:href=\"#ma72d0648a5\" y=\"224.64\"/>\n      </g>\n     </g>\n     <g id=\"text_9\">\n      <!-- PRT -->\n      <g transform=\"translate(275.078353 239.238437)scale(0.1 -0.1)\">\n       <use xlink:href=\"#DejaVuSans-80\"/>\n       <use x=\"60.302734\" xlink:href=\"#DejaVuSans-82\"/>\n       <use x=\"122.535156\" xlink:href=\"#DejaVuSans-84\"/>\n      </g>\n     </g>\n    </g>\n    <g id=\"xtick_10\">\n     <g id=\"line2d_10\">\n      <g>\n       <use style=\"stroke:#000000;stroke-width:0.8;\" x=\"310.05235\" xlink:href=\"#ma72d0648a5\" y=\"224.64\"/>\n      </g>\n     </g>\n     <g id=\"text_10\">\n      <!-- CONJ -->\n      <g transform=\"translate(297.409381 239.238437)scale(0.1 -0.1)\">\n       <defs>\n        <path d=\"M 64.40625 67.28125 \nL 64.40625 56.890625 \nQ 59.421875 61.53125 53.78125 63.8125 \nQ 48.140625 66.109375 41.796875 66.109375 \nQ 29.296875 66.109375 22.65625 58.46875 \nQ 16.015625 50.828125 16.015625 36.375 \nQ 16.015625 21.96875 22.65625 14.328125 \nQ 29.296875 6.6875 41.796875 6.6875 \nQ 48.140625 6.6875 53.78125 8.984375 \nQ 59.421875 11.28125 64.40625 15.921875 \nL 64.40625 5.609375 \nQ 59.234375 2.09375 53.4375 0.328125 \nQ 47.65625 -1.421875 41.21875 -1.421875 \nQ 24.65625 -1.421875 15.125 8.703125 \nQ 5.609375 18.84375 5.609375 36.375 \nQ 5.609375 53.953125 15.125 64.078125 \nQ 24.65625 74.21875 41.21875 74.21875 \nQ 47.75 74.21875 53.53125 72.484375 \nQ 59.328125 70.75 64.40625 67.28125 \nz\n\" id=\"DejaVuSans-67\"/>\n       </defs>\n       <use xlink:href=\"#DejaVuSans-67\"/>\n       <use x=\"69.824219\" xlink:href=\"#DejaVuSans-79\"/>\n       <use x=\"148.535156\" xlink:href=\"#DejaVuSans-78\"/>\n       <use x=\"223.339844\" xlink:href=\"#DejaVuSans-74\"/>\n      </g>\n     </g>\n    </g>\n    <g id=\"xtick_11\">\n     <g id=\"line2d_11\">\n      <g>\n       <use style=\"stroke:#000000;stroke-width:0.8;\" x=\"335.845878\" xlink:href=\"#ma72d0648a5\" y=\"224.64\"/>\n      </g>\n     </g>\n     <g id=\"text_11\">\n      <!-- X -->\n      <g transform=\"translate(332.420878 239.238437)scale(0.1 -0.1)\">\n       <defs>\n        <path d=\"M 6.296875 72.90625 \nL 16.890625 72.90625 \nL 35.015625 45.796875 \nL 53.21875 72.90625 \nL 63.8125 72.90625 \nL 40.375 37.890625 \nL 65.375 0 \nL 54.78125 0 \nL 34.28125 31 \nL 13.625 0 \nL 2.984375 0 \nL 29 38.921875 \nz\n\" id=\"DejaVuSans-88\"/>\n       </defs>\n       <use xlink:href=\"#DejaVuSans-88\"/>\n      </g>\n     </g>\n    </g>\n    <g id=\"xtick_12\">\n     <g id=\"line2d_12\">\n      <g>\n       <use style=\"stroke:#000000;stroke-width:0.8;\" x=\"361.639407\" xlink:href=\"#ma72d0648a5\" y=\"224.64\"/>\n      </g>\n     </g>\n     <g id=\"text_12\">\n      <!-- NUM -->\n      <g transform=\"translate(349.925344 239.238437)scale(0.1 -0.1)\">\n       <defs>\n        <path d=\"M 9.8125 72.90625 \nL 24.515625 72.90625 \nL 43.109375 23.296875 \nL 61.8125 72.90625 \nL 76.515625 72.90625 \nL 76.515625 0 \nL 66.890625 0 \nL 66.890625 64.015625 \nL 48.09375 14.015625 \nL 38.1875 14.015625 \nL 19.390625 64.015625 \nL 19.390625 0 \nL 9.8125 0 \nz\n\" id=\"DejaVuSans-77\"/>\n       </defs>\n       <use xlink:href=\"#DejaVuSans-78\"/>\n       <use x=\"74.804688\" xlink:href=\"#DejaVuSans-85\"/>\n       <use x=\"147.998047\" xlink:href=\"#DejaVuSans-77\"/>\n      </g>\n     </g>\n    </g>\n   </g>\n   <g id=\"matplotlib.axis_2\">\n    <g id=\"ytick_1\">\n     <g id=\"line2d_13\">\n      <defs>\n       <path d=\"M 0 0 \nL -3.5 0 \n\" id=\"m92de7932f4\" style=\"stroke:#000000;stroke-width:0.8;\"/>\n      </defs>\n      <g>\n       <use style=\"stroke:#000000;stroke-width:0.8;\" x=\"52.375\" xlink:href=\"#m92de7932f4\" y=\"224.64\"/>\n      </g>\n     </g>\n     <g id=\"text_13\">\n      <!-- 0 -->\n      <g transform=\"translate(39.0125 228.439219)scale(0.1 -0.1)\">\n       <defs>\n        <path d=\"M 31.78125 66.40625 \nQ 24.171875 66.40625 20.328125 58.90625 \nQ 16.5 51.421875 16.5 36.375 \nQ 16.5 21.390625 20.328125 13.890625 \nQ 24.171875 6.390625 31.78125 6.390625 \nQ 39.453125 6.390625 43.28125 13.890625 \nQ 47.125 21.390625 47.125 36.375 \nQ 47.125 51.421875 43.28125 58.90625 \nQ 39.453125 66.40625 31.78125 66.40625 \nz\nM 31.78125 74.21875 \nQ 44.046875 74.21875 50.515625 64.515625 \nQ 56.984375 54.828125 56.984375 36.375 \nQ 56.984375 17.96875 50.515625 8.265625 \nQ 44.046875 -1.421875 31.78125 -1.421875 \nQ 19.53125 -1.421875 13.0625 8.265625 \nQ 6.59375 17.96875 6.59375 36.375 \nQ 6.59375 54.828125 13.0625 64.515625 \nQ 19.53125 74.21875 31.78125 74.21875 \nz\n\" id=\"DejaVuSans-48\"/>\n       </defs>\n       <use xlink:href=\"#DejaVuSans-48\"/>\n      </g>\n     </g>\n    </g>\n    <g id=\"ytick_2\">\n     <g id=\"line2d_14\">\n      <g>\n       <use style=\"stroke:#000000;stroke-width:0.8;\" x=\"52.375\" xlink:href=\"#m92de7932f4\" y=\"184.32805\"/>\n      </g>\n     </g>\n     <g id=\"text_14\">\n      <!-- 100000 -->\n      <g transform=\"translate(7.2 188.127268)scale(0.1 -0.1)\">\n       <defs>\n        <path d=\"M 12.40625 8.296875 \nL 28.515625 8.296875 \nL 28.515625 63.921875 \nL 10.984375 60.40625 \nL 10.984375 69.390625 \nL 28.421875 72.90625 \nL 38.28125 72.90625 \nL 38.28125 8.296875 \nL 54.390625 8.296875 \nL 54.390625 0 \nL 12.40625 0 \nz\n\" id=\"DejaVuSans-49\"/>\n       </defs>\n       <use xlink:href=\"#DejaVuSans-49\"/>\n       <use x=\"63.623047\" xlink:href=\"#DejaVuSans-48\"/>\n       <use x=\"127.246094\" xlink:href=\"#DejaVuSans-48\"/>\n       <use x=\"190.869141\" xlink:href=\"#DejaVuSans-48\"/>\n       <use x=\"254.492188\" xlink:href=\"#DejaVuSans-48\"/>\n       <use x=\"318.115234\" xlink:href=\"#DejaVuSans-48\"/>\n      </g>\n     </g>\n    </g>\n    <g id=\"ytick_3\">\n     <g id=\"line2d_15\">\n      <g>\n       <use style=\"stroke:#000000;stroke-width:0.8;\" x=\"52.375\" xlink:href=\"#m92de7932f4\" y=\"144.016099\"/>\n      </g>\n     </g>\n     <g id=\"text_15\">\n      <!-- 200000 -->\n      <g transform=\"translate(7.2 147.815318)scale(0.1 -0.1)\">\n       <defs>\n        <path d=\"M 19.1875 8.296875 \nL 53.609375 8.296875 \nL 53.609375 0 \nL 7.328125 0 \nL 7.328125 8.296875 \nQ 12.9375 14.109375 22.625 23.890625 \nQ 32.328125 33.6875 34.8125 36.53125 \nQ 39.546875 41.84375 41.421875 45.53125 \nQ 43.3125 49.21875 43.3125 52.78125 \nQ 43.3125 58.59375 39.234375 62.25 \nQ 35.15625 65.921875 28.609375 65.921875 \nQ 23.96875 65.921875 18.8125 64.3125 \nQ 13.671875 62.703125 7.8125 59.421875 \nL 7.8125 69.390625 \nQ 13.765625 71.78125 18.9375 73 \nQ 24.125 74.21875 28.421875 74.21875 \nQ 39.75 74.21875 46.484375 68.546875 \nQ 53.21875 62.890625 53.21875 53.421875 \nQ 53.21875 48.921875 51.53125 44.890625 \nQ 49.859375 40.875 45.40625 35.40625 \nQ 44.1875 33.984375 37.640625 27.21875 \nQ 31.109375 20.453125 19.1875 8.296875 \nz\n\" id=\"DejaVuSans-50\"/>\n       </defs>\n       <use xlink:href=\"#DejaVuSans-50\"/>\n       <use x=\"63.623047\" xlink:href=\"#DejaVuSans-48\"/>\n       <use x=\"127.246094\" xlink:href=\"#DejaVuSans-48\"/>\n       <use x=\"190.869141\" xlink:href=\"#DejaVuSans-48\"/>\n       <use x=\"254.492188\" xlink:href=\"#DejaVuSans-48\"/>\n       <use x=\"318.115234\" xlink:href=\"#DejaVuSans-48\"/>\n      </g>\n     </g>\n    </g>\n    <g id=\"ytick_4\">\n     <g id=\"line2d_16\">\n      <g>\n       <use style=\"stroke:#000000;stroke-width:0.8;\" x=\"52.375\" xlink:href=\"#m92de7932f4\" y=\"103.704149\"/>\n      </g>\n     </g>\n     <g id=\"text_16\">\n      <!-- 300000 -->\n      <g transform=\"translate(7.2 107.503367)scale(0.1 -0.1)\">\n       <defs>\n        <path d=\"M 40.578125 39.3125 \nQ 47.65625 37.796875 51.625 33 \nQ 55.609375 28.21875 55.609375 21.1875 \nQ 55.609375 10.40625 48.1875 4.484375 \nQ 40.765625 -1.421875 27.09375 -1.421875 \nQ 22.515625 -1.421875 17.65625 -0.515625 \nQ 12.796875 0.390625 7.625 2.203125 \nL 7.625 11.71875 \nQ 11.71875 9.328125 16.59375 8.109375 \nQ 21.484375 6.890625 26.8125 6.890625 \nQ 36.078125 6.890625 40.9375 10.546875 \nQ 45.796875 14.203125 45.796875 21.1875 \nQ 45.796875 27.640625 41.28125 31.265625 \nQ 36.765625 34.90625 28.71875 34.90625 \nL 20.21875 34.90625 \nL 20.21875 43.015625 \nL 29.109375 43.015625 \nQ 36.375 43.015625 40.234375 45.921875 \nQ 44.09375 48.828125 44.09375 54.296875 \nQ 44.09375 59.90625 40.109375 62.90625 \nQ 36.140625 65.921875 28.71875 65.921875 \nQ 24.65625 65.921875 20.015625 65.03125 \nQ 15.375 64.15625 9.8125 62.3125 \nL 9.8125 71.09375 \nQ 15.4375 72.65625 20.34375 73.4375 \nQ 25.25 74.21875 29.59375 74.21875 \nQ 40.828125 74.21875 47.359375 69.109375 \nQ 53.90625 64.015625 53.90625 55.328125 \nQ 53.90625 49.265625 50.4375 45.09375 \nQ 46.96875 40.921875 40.578125 39.3125 \nz\n\" id=\"DejaVuSans-51\"/>\n       </defs>\n       <use xlink:href=\"#DejaVuSans-51\"/>\n       <use x=\"63.623047\" xlink:href=\"#DejaVuSans-48\"/>\n       <use x=\"127.246094\" xlink:href=\"#DejaVuSans-48\"/>\n       <use x=\"190.869141\" xlink:href=\"#DejaVuSans-48\"/>\n       <use x=\"254.492188\" xlink:href=\"#DejaVuSans-48\"/>\n       <use x=\"318.115234\" xlink:href=\"#DejaVuSans-48\"/>\n      </g>\n     </g>\n    </g>\n    <g id=\"ytick_5\">\n     <g id=\"line2d_17\">\n      <g>\n       <use style=\"stroke:#000000;stroke-width:0.8;\" x=\"52.375\" xlink:href=\"#m92de7932f4\" y=\"63.392198\"/>\n      </g>\n     </g>\n     <g id=\"text_17\">\n      <!-- 400000 -->\n      <g transform=\"translate(7.2 67.191417)scale(0.1 -0.1)\">\n       <defs>\n        <path d=\"M 37.796875 64.3125 \nL 12.890625 25.390625 \nL 37.796875 25.390625 \nz\nM 35.203125 72.90625 \nL 47.609375 72.90625 \nL 47.609375 25.390625 \nL 58.015625 25.390625 \nL 58.015625 17.1875 \nL 47.609375 17.1875 \nL 47.609375 0 \nL 37.796875 0 \nL 37.796875 17.1875 \nL 4.890625 17.1875 \nL 4.890625 26.703125 \nz\n\" id=\"DejaVuSans-52\"/>\n       </defs>\n       <use xlink:href=\"#DejaVuSans-52\"/>\n       <use x=\"63.623047\" xlink:href=\"#DejaVuSans-48\"/>\n       <use x=\"127.246094\" xlink:href=\"#DejaVuSans-48\"/>\n       <use x=\"190.869141\" xlink:href=\"#DejaVuSans-48\"/>\n       <use x=\"254.492188\" xlink:href=\"#DejaVuSans-48\"/>\n       <use x=\"318.115234\" xlink:href=\"#DejaVuSans-48\"/>\n      </g>\n     </g>\n    </g>\n    <g id=\"ytick_6\">\n     <g id=\"line2d_18\">\n      <g>\n       <use style=\"stroke:#000000;stroke-width:0.8;\" x=\"52.375\" xlink:href=\"#m92de7932f4\" y=\"23.080248\"/>\n      </g>\n     </g>\n     <g id=\"text_18\">\n      <!-- 500000 -->\n      <g transform=\"translate(7.2 26.879467)scale(0.1 -0.1)\">\n       <defs>\n        <path d=\"M 10.796875 72.90625 \nL 49.515625 72.90625 \nL 49.515625 64.59375 \nL 19.828125 64.59375 \nL 19.828125 46.734375 \nQ 21.96875 47.46875 24.109375 47.828125 \nQ 26.265625 48.1875 28.421875 48.1875 \nQ 40.625 48.1875 47.75 41.5 \nQ 54.890625 34.8125 54.890625 23.390625 \nQ 54.890625 11.625 47.5625 5.09375 \nQ 40.234375 -1.421875 26.90625 -1.421875 \nQ 22.3125 -1.421875 17.546875 -0.640625 \nQ 12.796875 0.140625 7.71875 1.703125 \nL 7.71875 11.625 \nQ 12.109375 9.234375 16.796875 8.0625 \nQ 21.484375 6.890625 26.703125 6.890625 \nQ 35.15625 6.890625 40.078125 11.328125 \nQ 45.015625 15.765625 45.015625 23.390625 \nQ 45.015625 31 40.078125 35.4375 \nQ 35.15625 39.890625 26.703125 39.890625 \nQ 22.75 39.890625 18.8125 39.015625 \nQ 14.890625 38.140625 10.796875 36.28125 \nz\n\" id=\"DejaVuSans-53\"/>\n       </defs>\n       <use xlink:href=\"#DejaVuSans-53\"/>\n       <use x=\"63.623047\" xlink:href=\"#DejaVuSans-48\"/>\n       <use x=\"127.246094\" xlink:href=\"#DejaVuSans-48\"/>\n       <use x=\"190.869141\" xlink:href=\"#DejaVuSans-48\"/>\n       <use x=\"254.492188\" xlink:href=\"#DejaVuSans-48\"/>\n       <use x=\"318.115234\" xlink:href=\"#DejaVuSans-48\"/>\n      </g>\n     </g>\n    </g>\n   </g>\n   <g id=\"patch_15\">\n    <path d=\"M 52.375 224.64 \nL 52.375 7.2 \n\" style=\"fill:none;stroke:#000000;stroke-linecap:square;stroke-linejoin:miter;stroke-width:0.8;\"/>\n   </g>\n   <g id=\"patch_16\">\n    <path d=\"M 387.175 224.64 \nL 387.175 7.2 \n\" style=\"fill:none;stroke:#000000;stroke-linecap:square;stroke-linejoin:miter;stroke-width:0.8;\"/>\n   </g>\n   <g id=\"patch_17\">\n    <path d=\"M 52.375 224.64 \nL 387.175 224.64 \n\" style=\"fill:none;stroke:#000000;stroke-linecap:square;stroke-linejoin:miter;stroke-width:0.8;\"/>\n   </g>\n   <g id=\"patch_18\">\n    <path d=\"M 52.375 7.2 \nL 387.175 7.2 \n\" style=\"fill:none;stroke:#000000;stroke-linecap:square;stroke-linejoin:miter;stroke-width:0.8;\"/>\n   </g>\n  </g>\n </g>\n <defs>\n  <clipPath id=\"p96de29255c\">\n   <rect height=\"217.44\" width=\"334.8\" x=\"52.375\" y=\"7.2\"/>\n  </clipPath>\n </defs>\n</svg>\n",
      "image/png": "[encoded data removed]"
     },
     "metadata": {
      "needs_background": "light"
     }
    }
   ],
   "source": [
    "plot_tags(tags_resolution)"
   ]
  },
  {
   "cell_type": "code",
   "execution_count": 182,
   "metadata": {},
   "outputs": [
    {
     "output_type": "execute_result",
     "data": {
      "text/plain": [
       "{'NOUN': 10,\n",
       " '.': 3,\n",
       " 'DET': 1,\n",
       " 'VERB': 4,\n",
       " 'ADV': 1,\n",
       " 'PRON': 1,\n",
       " 'PRT': 1,\n",
       " 'ADJ': 1}"
      ]
     },
     "metadata": {},
     "execution_count": 182
    }
   ],
   "source": [
    "json.loads(incidents_2['Description_tags'][0].replace(\"'\", '\"'))"
   ]
  },
  {
   "cell_type": "code",
   "execution_count": 133,
   "metadata": {},
   "outputs": [
    {
     "output_type": "execute_result",
     "data": {
      "text/plain": [
       "<BarContainer object of 12 artists>"
      ]
     },
     "metadata": {},
     "execution_count": 133
    },
    {
     "output_type": "display_data",
     "data": {
      "text/plain": "<Figure size 432x288 with 1 Axes>",
      "image/svg+xml": "<?xml version=\"1.0\" encoding=\"utf-8\" standalone=\"no\"?>\n<!DOCTYPE svg PUBLIC \"-//W3C//DTD SVG 1.1//EN\"\n  \"http://www.w3.org/Graphics/SVG/1.1/DTD/svg11.dtd\">\n<!-- Created with matplotlib (https://matplotlib.org/) -->\n<svg height=\"259.116562pt\" version=\"1.1\" viewBox=\"0 0 378.465625 259.116562\" width=\"378.465625pt\" xmlns=\"http://www.w3.org/2000/svg\" xmlns:xlink=\"http://www.w3.org/1999/xlink\">\n <metadata>\n  <rdf:RDF xmlns:cc=\"http://creativecommons.org/ns#\" xmlns:dc=\"http://purl.org/dc/elements/1.1/\" xmlns:rdf=\"http://www.w3.org/1999/02/22-rdf-syntax-ns#\">\n   <cc:Work>\n    <dc:type rdf:resource=\"http://purl.org/dc/dcmitype/StillImage\"/>\n    <dc:date>2021-07-20T23:41:57.915344</dc:date>\n    <dc:format>image/svg+xml</dc:format>\n    <dc:creator>\n     <cc:Agent>\n      <dc:title>Matplotlib v3.3.4, https://matplotlib.org/</dc:title>\n     </cc:Agent>\n    </dc:creator>\n   </cc:Work>\n  </rdf:RDF>\n </metadata>\n <defs>\n  <style type=\"text/css\">*{stroke-linecap:butt;stroke-linejoin:round;}</style>\n </defs>\n <g id=\"figure_1\">\n  <g id=\"patch_1\">\n   <path d=\"M 0 259.116562 \nL 378.465625 259.116562 \nL 378.465625 0 \nL 0 0 \nz\n\" style=\"fill:none;\"/>\n  </g>\n  <g id=\"axes_1\">\n   <g id=\"patch_2\">\n    <path d=\"M 36.465625 235.238437 \nL 371.265625 235.238437 \nL 371.265625 17.798437 \nL 36.465625 17.798437 \nz\n\" style=\"fill:#ffffff;\"/>\n   </g>\n   <g id=\"patch_3\">\n    <path clip-path=\"url(#p478e6a7a1a)\" d=\"M 51.683807 235.238437 \nL 72.31863 235.238437 \nL 72.31863 28.152723 \nL 51.683807 28.152723 \nz\n\" style=\"fill:#1f77b4;\"/>\n   </g>\n   <g id=\"patch_4\">\n    <path clip-path=\"url(#p478e6a7a1a)\" d=\"M 77.477335 235.238437 \nL 98.112158 235.238437 \nL 98.112158 146.344047 \nL 77.477335 146.344047 \nz\n\" style=\"fill:#1f77b4;\"/>\n   </g>\n   <g id=\"patch_5\">\n    <path clip-path=\"url(#p478e6a7a1a)\" d=\"M 103.270864 235.238437 \nL 123.905687 235.238437 \nL 123.905687 168.88725 \nL 103.270864 168.88725 \nz\n\" style=\"fill:#1f77b4;\"/>\n   </g>\n   <g id=\"patch_6\">\n    <path clip-path=\"url(#p478e6a7a1a)\" d=\"M 129.064392 235.238437 \nL 149.699215 235.238437 \nL 149.699215 201.996202 \nL 129.064392 201.996202 \nz\n\" style=\"fill:#1f77b4;\"/>\n   </g>\n   <g id=\"patch_7\">\n    <path clip-path=\"url(#p478e6a7a1a)\" d=\"M 154.857921 235.238437 \nL 175.492744 235.238437 \nL 175.492744 205.267817 \nL 154.857921 205.267817 \nz\n\" style=\"fill:#1f77b4;\"/>\n   </g>\n   <g id=\"patch_8\">\n    <path clip-path=\"url(#p478e6a7a1a)\" d=\"M 180.651449 235.238437 \nL 201.286272 235.238437 \nL 201.286272 209.553929 \nL 180.651449 209.553929 \nz\n\" style=\"fill:#1f77b4;\"/>\n   </g>\n   <g id=\"patch_9\">\n    <path clip-path=\"url(#p478e6a7a1a)\" d=\"M 206.444978 235.238437 \nL 227.079801 235.238437 \nL 227.079801 217.371504 \nL 206.444978 217.371504 \nz\n\" style=\"fill:#1f77b4;\"/>\n   </g>\n   <g id=\"patch_10\">\n    <path clip-path=\"url(#p478e6a7a1a)\" d=\"M 232.238506 235.238437 \nL 252.873329 235.238437 \nL 252.873329 219.942555 \nL 232.238506 219.942555 \nz\n\" style=\"fill:#1f77b4;\"/>\n   </g>\n   <g id=\"patch_11\">\n    <path clip-path=\"url(#p478e6a7a1a)\" d=\"M 258.032035 235.238437 \nL 278.666858 235.238437 \nL 278.666858 222.802423 \nL 258.032035 222.802423 \nz\n\" style=\"fill:#1f77b4;\"/>\n   </g>\n   <g id=\"patch_12\">\n    <path clip-path=\"url(#p478e6a7a1a)\" d=\"M 283.825563 235.238437 \nL 304.460386 235.238437 \nL 304.460386 226.018632 \nL 283.825563 226.018632 \nz\n\" style=\"fill:#1f77b4;\"/>\n   </g>\n   <g id=\"patch_13\">\n    <path clip-path=\"url(#p478e6a7a1a)\" d=\"M 309.619092 235.238437 \nL 330.253915 235.238437 \nL 330.253915 233.334245 \nL 309.619092 233.334245 \nz\n\" style=\"fill:#1f77b4;\"/>\n   </g>\n   <g id=\"patch_14\">\n    <path clip-path=\"url(#p478e6a7a1a)\" d=\"M 335.41262 235.238437 \nL 356.047443 235.238437 \nL 356.047443 234.39027 \nL 335.41262 234.39027 \nz\n\" style=\"fill:#1f77b4;\"/>\n   </g>\n   <g id=\"matplotlib.axis_1\">\n    <g id=\"xtick_1\">\n     <g id=\"line2d_1\">\n      <defs>\n       <path d=\"M 0 0 \nL 0 3.5 \n\" id=\"mb1c8f40f87\" style=\"stroke:#000000;stroke-width:0.8;\"/>\n      </defs>\n      <g>\n       <use style=\"stroke:#000000;stroke-width:0.8;\" x=\"62.001218\" xlink:href=\"#mb1c8f40f87\" y=\"235.238437\"/>\n      </g>\n     </g>\n     <g id=\"text_1\">\n      <!-- NOUN -->\n      <g transform=\"translate(46.924656 249.836875)scale(0.1 -0.1)\">\n       <defs>\n        <path d=\"M 9.8125 72.90625 \nL 23.09375 72.90625 \nL 55.421875 11.921875 \nL 55.421875 72.90625 \nL 64.984375 72.90625 \nL 64.984375 0 \nL 51.703125 0 \nL 19.390625 60.984375 \nL 19.390625 0 \nL 9.8125 0 \nz\n\" id=\"DejaVuSans-78\"/>\n        <path d=\"M 39.40625 66.21875 \nQ 28.65625 66.21875 22.328125 58.203125 \nQ 16.015625 50.203125 16.015625 36.375 \nQ 16.015625 22.609375 22.328125 14.59375 \nQ 28.65625 6.59375 39.40625 6.59375 \nQ 50.140625 6.59375 56.421875 14.59375 \nQ 62.703125 22.609375 62.703125 36.375 \nQ 62.703125 50.203125 56.421875 58.203125 \nQ 50.140625 66.21875 39.40625 66.21875 \nz\nM 39.40625 74.21875 \nQ 54.734375 74.21875 63.90625 63.9375 \nQ 73.09375 53.65625 73.09375 36.375 \nQ 73.09375 19.140625 63.90625 8.859375 \nQ 54.734375 -1.421875 39.40625 -1.421875 \nQ 24.03125 -1.421875 14.8125 8.828125 \nQ 5.609375 19.09375 5.609375 36.375 \nQ 5.609375 53.65625 14.8125 63.9375 \nQ 24.03125 74.21875 39.40625 74.21875 \nz\n\" id=\"DejaVuSans-79\"/>\n        <path d=\"M 8.6875 72.90625 \nL 18.609375 72.90625 \nL 18.609375 28.609375 \nQ 18.609375 16.890625 22.84375 11.734375 \nQ 27.09375 6.59375 36.625 6.59375 \nQ 46.09375 6.59375 50.34375 11.734375 \nQ 54.59375 16.890625 54.59375 28.609375 \nL 54.59375 72.90625 \nL 64.5 72.90625 \nL 64.5 27.390625 \nQ 64.5 13.140625 57.4375 5.859375 \nQ 50.390625 -1.421875 36.625 -1.421875 \nQ 22.796875 -1.421875 15.734375 5.859375 \nQ 8.6875 13.140625 8.6875 27.390625 \nz\n\" id=\"DejaVuSans-85\"/>\n       </defs>\n       <use xlink:href=\"#DejaVuSans-78\"/>\n       <use x=\"74.804688\" xlink:href=\"#DejaVuSans-79\"/>\n       <use x=\"153.515625\" xlink:href=\"#DejaVuSans-85\"/>\n       <use x=\"226.708984\" xlink:href=\"#DejaVuSans-78\"/>\n      </g>\n     </g>\n    </g>\n    <g id=\"xtick_2\">\n     <g id=\"line2d_2\">\n      <g>\n       <use style=\"stroke:#000000;stroke-width:0.8;\" x=\"87.794747\" xlink:href=\"#mb1c8f40f87\" y=\"235.238437\"/>\n      </g>\n     </g>\n     <g id=\"text_2\">\n      <!-- . -->\n      <g transform=\"translate(86.205684 249.836875)scale(0.1 -0.1)\">\n       <defs>\n        <path d=\"M 10.6875 12.40625 \nL 21 12.40625 \nL 21 0 \nL 10.6875 0 \nz\n\" id=\"DejaVuSans-46\"/>\n       </defs>\n       <use xlink:href=\"#DejaVuSans-46\"/>\n      </g>\n     </g>\n    </g>\n    <g id=\"xtick_3\">\n     <g id=\"line2d_3\">\n      <g>\n       <use style=\"stroke:#000000;stroke-width:0.8;\" x=\"113.588275\" xlink:href=\"#mb1c8f40f87\" y=\"235.238437\"/>\n      </g>\n     </g>\n     <g id=\"text_3\">\n      <!-- VERB -->\n      <g transform=\"translate(100.1039 249.836875)scale(0.1 -0.1)\">\n       <defs>\n        <path d=\"M 28.609375 0 \nL 0.78125 72.90625 \nL 11.078125 72.90625 \nL 34.1875 11.53125 \nL 57.328125 72.90625 \nL 67.578125 72.90625 \nL 39.796875 0 \nz\n\" id=\"DejaVuSans-86\"/>\n        <path d=\"M 9.8125 72.90625 \nL 55.90625 72.90625 \nL 55.90625 64.59375 \nL 19.671875 64.59375 \nL 19.671875 43.015625 \nL 54.390625 43.015625 \nL 54.390625 34.71875 \nL 19.671875 34.71875 \nL 19.671875 8.296875 \nL 56.78125 8.296875 \nL 56.78125 0 \nL 9.8125 0 \nz\n\" id=\"DejaVuSans-69\"/>\n        <path d=\"M 44.390625 34.1875 \nQ 47.5625 33.109375 50.5625 29.59375 \nQ 53.5625 26.078125 56.59375 19.921875 \nL 66.609375 0 \nL 56 0 \nL 46.6875 18.703125 \nQ 43.0625 26.03125 39.671875 28.421875 \nQ 36.28125 30.8125 30.421875 30.8125 \nL 19.671875 30.8125 \nL 19.671875 0 \nL 9.8125 0 \nL 9.8125 72.90625 \nL 32.078125 72.90625 \nQ 44.578125 72.90625 50.734375 67.671875 \nQ 56.890625 62.453125 56.890625 51.90625 \nQ 56.890625 45.015625 53.6875 40.46875 \nQ 50.484375 35.9375 44.390625 34.1875 \nz\nM 19.671875 64.796875 \nL 19.671875 38.921875 \nL 32.078125 38.921875 \nQ 39.203125 38.921875 42.84375 42.21875 \nQ 46.484375 45.515625 46.484375 51.90625 \nQ 46.484375 58.296875 42.84375 61.546875 \nQ 39.203125 64.796875 32.078125 64.796875 \nz\n\" id=\"DejaVuSans-82\"/>\n        <path d=\"M 19.671875 34.8125 \nL 19.671875 8.109375 \nL 35.5 8.109375 \nQ 43.453125 8.109375 47.28125 11.40625 \nQ 51.125 14.703125 51.125 21.484375 \nQ 51.125 28.328125 47.28125 31.5625 \nQ 43.453125 34.8125 35.5 34.8125 \nz\nM 19.671875 64.796875 \nL 19.671875 42.828125 \nL 34.28125 42.828125 \nQ 41.5 42.828125 45.03125 45.53125 \nQ 48.578125 48.25 48.578125 53.8125 \nQ 48.578125 59.328125 45.03125 62.0625 \nQ 41.5 64.796875 34.28125 64.796875 \nz\nM 9.8125 72.90625 \nL 35.015625 72.90625 \nQ 46.296875 72.90625 52.390625 68.21875 \nQ 58.5 63.53125 58.5 54.890625 \nQ 58.5 48.1875 55.375 44.234375 \nQ 52.25 40.28125 46.1875 39.3125 \nQ 53.46875 37.75 57.5 32.78125 \nQ 61.53125 27.828125 61.53125 20.40625 \nQ 61.53125 10.640625 54.890625 5.3125 \nQ 48.25 0 35.984375 0 \nL 9.8125 0 \nz\n\" id=\"DejaVuSans-66\"/>\n       </defs>\n       <use xlink:href=\"#DejaVuSans-86\"/>\n       <use x=\"68.408203\" xlink:href=\"#DejaVuSans-69\"/>\n       <use x=\"131.591797\" xlink:href=\"#DejaVuSans-82\"/>\n       <use x=\"201.074219\" xlink:href=\"#DejaVuSans-66\"/>\n      </g>\n     </g>\n    </g>\n    <g id=\"xtick_4\">\n     <g id=\"line2d_4\">\n      <g>\n       <use style=\"stroke:#000000;stroke-width:0.8;\" x=\"139.381804\" xlink:href=\"#mb1c8f40f87\" y=\"235.238437\"/>\n      </g>\n     </g>\n     <g id=\"text_4\">\n      <!-- ADP -->\n      <g transform=\"translate(129.096647 249.836875)scale(0.1 -0.1)\">\n       <defs>\n        <path d=\"M 34.1875 63.1875 \nL 20.796875 26.90625 \nL 47.609375 26.90625 \nz\nM 28.609375 72.90625 \nL 39.796875 72.90625 \nL 67.578125 0 \nL 57.328125 0 \nL 50.6875 18.703125 \nL 17.828125 18.703125 \nL 11.1875 0 \nL 0.78125 0 \nz\n\" id=\"DejaVuSans-65\"/>\n        <path d=\"M 19.671875 64.796875 \nL 19.671875 8.109375 \nL 31.59375 8.109375 \nQ 46.6875 8.109375 53.6875 14.9375 \nQ 60.6875 21.78125 60.6875 36.53125 \nQ 60.6875 51.171875 53.6875 57.984375 \nQ 46.6875 64.796875 31.59375 64.796875 \nz\nM 9.8125 72.90625 \nL 30.078125 72.90625 \nQ 51.265625 72.90625 61.171875 64.09375 \nQ 71.09375 55.28125 71.09375 36.53125 \nQ 71.09375 17.671875 61.125 8.828125 \nQ 51.171875 0 30.078125 0 \nL 9.8125 0 \nz\n\" id=\"DejaVuSans-68\"/>\n        <path d=\"M 19.671875 64.796875 \nL 19.671875 37.40625 \nL 32.078125 37.40625 \nQ 38.96875 37.40625 42.71875 40.96875 \nQ 46.484375 44.53125 46.484375 51.125 \nQ 46.484375 57.671875 42.71875 61.234375 \nQ 38.96875 64.796875 32.078125 64.796875 \nz\nM 9.8125 72.90625 \nL 32.078125 72.90625 \nQ 44.34375 72.90625 50.609375 67.359375 \nQ 56.890625 61.8125 56.890625 51.125 \nQ 56.890625 40.328125 50.609375 34.8125 \nQ 44.34375 29.296875 32.078125 29.296875 \nL 19.671875 29.296875 \nL 19.671875 0 \nL 9.8125 0 \nz\n\" id=\"DejaVuSans-80\"/>\n       </defs>\n       <use xlink:href=\"#DejaVuSans-65\"/>\n       <use x=\"68.408203\" xlink:href=\"#DejaVuSans-68\"/>\n       <use x=\"145.410156\" xlink:href=\"#DejaVuSans-80\"/>\n      </g>\n     </g>\n    </g>\n    <g id=\"xtick_5\">\n     <g id=\"line2d_5\">\n      <g>\n       <use style=\"stroke:#000000;stroke-width:0.8;\" x=\"165.175332\" xlink:href=\"#mb1c8f40f87\" y=\"235.238437\"/>\n      </g>\n     </g>\n     <g id=\"text_5\">\n      <!-- ADJ -->\n      <g transform=\"translate(156.43002 249.836875)scale(0.1 -0.1)\">\n       <defs>\n        <path d=\"M 9.8125 72.90625 \nL 19.671875 72.90625 \nL 19.671875 5.078125 \nQ 19.671875 -8.109375 14.671875 -14.0625 \nQ 9.671875 -20.015625 -1.421875 -20.015625 \nL -5.171875 -20.015625 \nL -5.171875 -11.71875 \nL -2.09375 -11.71875 \nQ 4.4375 -11.71875 7.125 -8.046875 \nQ 9.8125 -4.390625 9.8125 5.078125 \nz\n\" id=\"DejaVuSans-74\"/>\n       </defs>\n       <use xlink:href=\"#DejaVuSans-65\"/>\n       <use x=\"68.408203\" xlink:href=\"#DejaVuSans-68\"/>\n       <use x=\"145.410156\" xlink:href=\"#DejaVuSans-74\"/>\n      </g>\n     </g>\n    </g>\n    <g id=\"xtick_6\">\n     <g id=\"line2d_6\">\n      <g>\n       <use style=\"stroke:#000000;stroke-width:0.8;\" x=\"190.968861\" xlink:href=\"#mb1c8f40f87\" y=\"235.238437\"/>\n      </g>\n     </g>\n     <g id=\"text_6\">\n      <!-- DET -->\n      <g transform=\"translate(180.905579 249.836875)scale(0.1 -0.1)\">\n       <defs>\n        <path d=\"M -0.296875 72.90625 \nL 61.375 72.90625 \nL 61.375 64.59375 \nL 35.5 64.59375 \nL 35.5 0 \nL 25.59375 0 \nL 25.59375 64.59375 \nL -0.296875 64.59375 \nz\n\" id=\"DejaVuSans-84\"/>\n       </defs>\n       <use xlink:href=\"#DejaVuSans-68\"/>\n       <use x=\"77.001953\" xlink:href=\"#DejaVuSans-69\"/>\n       <use x=\"140.185547\" xlink:href=\"#DejaVuSans-84\"/>\n      </g>\n     </g>\n    </g>\n    <g id=\"xtick_7\">\n     <g id=\"line2d_7\">\n      <g>\n       <use style=\"stroke:#000000;stroke-width:0.8;\" x=\"216.762389\" xlink:href=\"#mb1c8f40f87\" y=\"235.238437\"/>\n      </g>\n     </g>\n     <g id=\"text_7\">\n      <!-- PRON -->\n      <g transform=\"translate(202.596764 249.836875)scale(0.1 -0.1)\">\n       <use xlink:href=\"#DejaVuSans-80\"/>\n       <use x=\"60.302734\" xlink:href=\"#DejaVuSans-82\"/>\n       <use x=\"129.785156\" xlink:href=\"#DejaVuSans-79\"/>\n       <use x=\"208.496094\" xlink:href=\"#DejaVuSans-78\"/>\n      </g>\n     </g>\n    </g>\n    <g id=\"xtick_8\">\n     <g id=\"line2d_8\">\n      <g>\n       <use style=\"stroke:#000000;stroke-width:0.8;\" x=\"242.555918\" xlink:href=\"#mb1c8f40f87\" y=\"235.238437\"/>\n      </g>\n     </g>\n     <g id=\"text_8\">\n      <!-- ADV -->\n      <g transform=\"translate(231.952793 249.836875)scale(0.1 -0.1)\">\n       <use xlink:href=\"#DejaVuSans-65\"/>\n       <use x=\"68.408203\" xlink:href=\"#DejaVuSans-68\"/>\n       <use x=\"143.660156\" xlink:href=\"#DejaVuSans-86\"/>\n      </g>\n     </g>\n    </g>\n    <g id=\"xtick_9\">\n     <g id=\"line2d_9\">\n      <g>\n       <use style=\"stroke:#000000;stroke-width:0.8;\" x=\"268.349446\" xlink:href=\"#mb1c8f40f87\" y=\"235.238437\"/>\n      </g>\n     </g>\n     <g id=\"text_9\">\n      <!-- PRT -->\n      <g transform=\"translate(259.168978 249.836875)scale(0.1 -0.1)\">\n       <use xlink:href=\"#DejaVuSans-80\"/>\n       <use x=\"60.302734\" xlink:href=\"#DejaVuSans-82\"/>\n       <use x=\"122.535156\" xlink:href=\"#DejaVuSans-84\"/>\n      </g>\n     </g>\n    </g>\n    <g id=\"xtick_10\">\n     <g id=\"line2d_10\">\n      <g>\n       <use style=\"stroke:#000000;stroke-width:0.8;\" x=\"294.142975\" xlink:href=\"#mb1c8f40f87\" y=\"235.238437\"/>\n      </g>\n     </g>\n     <g id=\"text_10\">\n      <!-- CONJ -->\n      <g transform=\"translate(281.500006 249.836875)scale(0.1 -0.1)\">\n       <defs>\n        <path d=\"M 64.40625 67.28125 \nL 64.40625 56.890625 \nQ 59.421875 61.53125 53.78125 63.8125 \nQ 48.140625 66.109375 41.796875 66.109375 \nQ 29.296875 66.109375 22.65625 58.46875 \nQ 16.015625 50.828125 16.015625 36.375 \nQ 16.015625 21.96875 22.65625 14.328125 \nQ 29.296875 6.6875 41.796875 6.6875 \nQ 48.140625 6.6875 53.78125 8.984375 \nQ 59.421875 11.28125 64.40625 15.921875 \nL 64.40625 5.609375 \nQ 59.234375 2.09375 53.4375 0.328125 \nQ 47.65625 -1.421875 41.21875 -1.421875 \nQ 24.65625 -1.421875 15.125 8.703125 \nQ 5.609375 18.84375 5.609375 36.375 \nQ 5.609375 53.953125 15.125 64.078125 \nQ 24.65625 74.21875 41.21875 74.21875 \nQ 47.75 74.21875 53.53125 72.484375 \nQ 59.328125 70.75 64.40625 67.28125 \nz\n\" id=\"DejaVuSans-67\"/>\n       </defs>\n       <use xlink:href=\"#DejaVuSans-67\"/>\n       <use x=\"69.824219\" xlink:href=\"#DejaVuSans-79\"/>\n       <use x=\"148.535156\" xlink:href=\"#DejaVuSans-78\"/>\n       <use x=\"223.339844\" xlink:href=\"#DejaVuSans-74\"/>\n      </g>\n     </g>\n    </g>\n    <g id=\"xtick_11\">\n     <g id=\"line2d_11\">\n      <g>\n       <use style=\"stroke:#000000;stroke-width:0.8;\" x=\"319.936503\" xlink:href=\"#mb1c8f40f87\" y=\"235.238437\"/>\n      </g>\n     </g>\n     <g id=\"text_11\">\n      <!-- X -->\n      <g transform=\"translate(316.511503 249.836875)scale(0.1 -0.1)\">\n       <defs>\n        <path d=\"M 6.296875 72.90625 \nL 16.890625 72.90625 \nL 35.015625 45.796875 \nL 53.21875 72.90625 \nL 63.8125 72.90625 \nL 40.375 37.890625 \nL 65.375 0 \nL 54.78125 0 \nL 34.28125 31 \nL 13.625 0 \nL 2.984375 0 \nL 29 38.921875 \nz\n\" id=\"DejaVuSans-88\"/>\n       </defs>\n       <use xlink:href=\"#DejaVuSans-88\"/>\n      </g>\n     </g>\n    </g>\n    <g id=\"xtick_12\">\n     <g id=\"line2d_12\">\n      <g>\n       <use style=\"stroke:#000000;stroke-width:0.8;\" x=\"345.730032\" xlink:href=\"#mb1c8f40f87\" y=\"235.238437\"/>\n      </g>\n     </g>\n     <g id=\"text_12\">\n      <!-- NUM -->\n      <g transform=\"translate(334.015969 249.836875)scale(0.1 -0.1)\">\n       <defs>\n        <path d=\"M 9.8125 72.90625 \nL 24.515625 72.90625 \nL 43.109375 23.296875 \nL 61.8125 72.90625 \nL 76.515625 72.90625 \nL 76.515625 0 \nL 66.890625 0 \nL 66.890625 64.015625 \nL 48.09375 14.015625 \nL 38.1875 14.015625 \nL 19.390625 64.015625 \nL 19.390625 0 \nL 9.8125 0 \nz\n\" id=\"DejaVuSans-77\"/>\n       </defs>\n       <use xlink:href=\"#DejaVuSans-78\"/>\n       <use x=\"74.804688\" xlink:href=\"#DejaVuSans-85\"/>\n       <use x=\"147.998047\" xlink:href=\"#DejaVuSans-77\"/>\n      </g>\n     </g>\n    </g>\n   </g>\n   <g id=\"matplotlib.axis_2\">\n    <g id=\"ytick_1\">\n     <g id=\"line2d_13\">\n      <defs>\n       <path d=\"M 0 0 \nL -3.5 0 \n\" id=\"me2f517244a\" style=\"stroke:#000000;stroke-width:0.8;\"/>\n      </defs>\n      <g>\n       <use style=\"stroke:#000000;stroke-width:0.8;\" x=\"36.465625\" xlink:href=\"#me2f517244a\" y=\"235.238437\"/>\n      </g>\n     </g>\n     <g id=\"text_13\">\n      <!-- 0.00 -->\n      <g transform=\"translate(7.2 239.037656)scale(0.1 -0.1)\">\n       <defs>\n        <path d=\"M 31.78125 66.40625 \nQ 24.171875 66.40625 20.328125 58.90625 \nQ 16.5 51.421875 16.5 36.375 \nQ 16.5 21.390625 20.328125 13.890625 \nQ 24.171875 6.390625 31.78125 6.390625 \nQ 39.453125 6.390625 43.28125 13.890625 \nQ 47.125 21.390625 47.125 36.375 \nQ 47.125 51.421875 43.28125 58.90625 \nQ 39.453125 66.40625 31.78125 66.40625 \nz\nM 31.78125 74.21875 \nQ 44.046875 74.21875 50.515625 64.515625 \nQ 56.984375 54.828125 56.984375 36.375 \nQ 56.984375 17.96875 50.515625 8.265625 \nQ 44.046875 -1.421875 31.78125 -1.421875 \nQ 19.53125 -1.421875 13.0625 8.265625 \nQ 6.59375 17.96875 6.59375 36.375 \nQ 6.59375 54.828125 13.0625 64.515625 \nQ 19.53125 74.21875 31.78125 74.21875 \nz\n\" id=\"DejaVuSans-48\"/>\n       </defs>\n       <use xlink:href=\"#DejaVuSans-48\"/>\n       <use x=\"63.623047\" xlink:href=\"#DejaVuSans-46\"/>\n       <use x=\"95.410156\" xlink:href=\"#DejaVuSans-48\"/>\n       <use x=\"159.033203\" xlink:href=\"#DejaVuSans-48\"/>\n      </g>\n     </g>\n    </g>\n    <g id=\"ytick_2\">\n     <g id=\"line2d_14\">\n      <g>\n       <use style=\"stroke:#000000;stroke-width:0.8;\" x=\"36.465625\" xlink:href=\"#me2f517244a\" y=\"207.700517\"/>\n      </g>\n     </g>\n     <g id=\"text_14\">\n      <!-- 0.25 -->\n      <g transform=\"translate(7.2 211.499736)scale(0.1 -0.1)\">\n       <defs>\n        <path d=\"M 19.1875 8.296875 \nL 53.609375 8.296875 \nL 53.609375 0 \nL 7.328125 0 \nL 7.328125 8.296875 \nQ 12.9375 14.109375 22.625 23.890625 \nQ 32.328125 33.6875 34.8125 36.53125 \nQ 39.546875 41.84375 41.421875 45.53125 \nQ 43.3125 49.21875 43.3125 52.78125 \nQ 43.3125 58.59375 39.234375 62.25 \nQ 35.15625 65.921875 28.609375 65.921875 \nQ 23.96875 65.921875 18.8125 64.3125 \nQ 13.671875 62.703125 7.8125 59.421875 \nL 7.8125 69.390625 \nQ 13.765625 71.78125 18.9375 73 \nQ 24.125 74.21875 28.421875 74.21875 \nQ 39.75 74.21875 46.484375 68.546875 \nQ 53.21875 62.890625 53.21875 53.421875 \nQ 53.21875 48.921875 51.53125 44.890625 \nQ 49.859375 40.875 45.40625 35.40625 \nQ 44.1875 33.984375 37.640625 27.21875 \nQ 31.109375 20.453125 19.1875 8.296875 \nz\n\" id=\"DejaVuSans-50\"/>\n        <path d=\"M 10.796875 72.90625 \nL 49.515625 72.90625 \nL 49.515625 64.59375 \nL 19.828125 64.59375 \nL 19.828125 46.734375 \nQ 21.96875 47.46875 24.109375 47.828125 \nQ 26.265625 48.1875 28.421875 48.1875 \nQ 40.625 48.1875 47.75 41.5 \nQ 54.890625 34.8125 54.890625 23.390625 \nQ 54.890625 11.625 47.5625 5.09375 \nQ 40.234375 -1.421875 26.90625 -1.421875 \nQ 22.3125 -1.421875 17.546875 -0.640625 \nQ 12.796875 0.140625 7.71875 1.703125 \nL 7.71875 11.625 \nQ 12.109375 9.234375 16.796875 8.0625 \nQ 21.484375 6.890625 26.703125 6.890625 \nQ 35.15625 6.890625 40.078125 11.328125 \nQ 45.015625 15.765625 45.015625 23.390625 \nQ 45.015625 31 40.078125 35.4375 \nQ 35.15625 39.890625 26.703125 39.890625 \nQ 22.75 39.890625 18.8125 39.015625 \nQ 14.890625 38.140625 10.796875 36.28125 \nz\n\" id=\"DejaVuSans-53\"/>\n       </defs>\n       <use xlink:href=\"#DejaVuSans-48\"/>\n       <use x=\"63.623047\" xlink:href=\"#DejaVuSans-46\"/>\n       <use x=\"95.410156\" xlink:href=\"#DejaVuSans-50\"/>\n       <use x=\"159.033203\" xlink:href=\"#DejaVuSans-53\"/>\n      </g>\n     </g>\n    </g>\n    <g id=\"ytick_3\">\n     <g id=\"line2d_15\">\n      <g>\n       <use style=\"stroke:#000000;stroke-width:0.8;\" x=\"36.465625\" xlink:href=\"#me2f517244a\" y=\"180.162596\"/>\n      </g>\n     </g>\n     <g id=\"text_15\">\n      <!-- 0.50 -->\n      <g transform=\"translate(7.2 183.961815)scale(0.1 -0.1)\">\n       <use xlink:href=\"#DejaVuSans-48\"/>\n       <use x=\"63.623047\" xlink:href=\"#DejaVuSans-46\"/>\n       <use x=\"95.410156\" xlink:href=\"#DejaVuSans-53\"/>\n       <use x=\"159.033203\" xlink:href=\"#DejaVuSans-48\"/>\n      </g>\n     </g>\n    </g>\n    <g id=\"ytick_4\">\n     <g id=\"line2d_16\">\n      <g>\n       <use style=\"stroke:#000000;stroke-width:0.8;\" x=\"36.465625\" xlink:href=\"#me2f517244a\" y=\"152.624675\"/>\n      </g>\n     </g>\n     <g id=\"text_16\">\n      <!-- 0.75 -->\n      <g transform=\"translate(7.2 156.423894)scale(0.1 -0.1)\">\n       <defs>\n        <path d=\"M 8.203125 72.90625 \nL 55.078125 72.90625 \nL 55.078125 68.703125 \nL 28.609375 0 \nL 18.3125 0 \nL 43.21875 64.59375 \nL 8.203125 64.59375 \nz\n\" id=\"DejaVuSans-55\"/>\n       </defs>\n       <use xlink:href=\"#DejaVuSans-48\"/>\n       <use x=\"63.623047\" xlink:href=\"#DejaVuSans-46\"/>\n       <use x=\"95.410156\" xlink:href=\"#DejaVuSans-55\"/>\n       <use x=\"159.033203\" xlink:href=\"#DejaVuSans-53\"/>\n      </g>\n     </g>\n    </g>\n    <g id=\"ytick_5\">\n     <g id=\"line2d_17\">\n      <g>\n       <use style=\"stroke:#000000;stroke-width:0.8;\" x=\"36.465625\" xlink:href=\"#me2f517244a\" y=\"125.086755\"/>\n      </g>\n     </g>\n     <g id=\"text_17\">\n      <!-- 1.00 -->\n      <g transform=\"translate(7.2 128.885974)scale(0.1 -0.1)\">\n       <defs>\n        <path d=\"M 12.40625 8.296875 \nL 28.515625 8.296875 \nL 28.515625 63.921875 \nL 10.984375 60.40625 \nL 10.984375 69.390625 \nL 28.421875 72.90625 \nL 38.28125 72.90625 \nL 38.28125 8.296875 \nL 54.390625 8.296875 \nL 54.390625 0 \nL 12.40625 0 \nz\n\" id=\"DejaVuSans-49\"/>\n       </defs>\n       <use xlink:href=\"#DejaVuSans-49\"/>\n       <use x=\"63.623047\" xlink:href=\"#DejaVuSans-46\"/>\n       <use x=\"95.410156\" xlink:href=\"#DejaVuSans-48\"/>\n       <use x=\"159.033203\" xlink:href=\"#DejaVuSans-48\"/>\n      </g>\n     </g>\n    </g>\n    <g id=\"ytick_6\">\n     <g id=\"line2d_18\">\n      <g>\n       <use style=\"stroke:#000000;stroke-width:0.8;\" x=\"36.465625\" xlink:href=\"#me2f517244a\" y=\"97.548834\"/>\n      </g>\n     </g>\n     <g id=\"text_18\">\n      <!-- 1.25 -->\n      <g transform=\"translate(7.2 101.348053)scale(0.1 -0.1)\">\n       <use xlink:href=\"#DejaVuSans-49\"/>\n       <use x=\"63.623047\" xlink:href=\"#DejaVuSans-46\"/>\n       <use x=\"95.410156\" xlink:href=\"#DejaVuSans-50\"/>\n       <use x=\"159.033203\" xlink:href=\"#DejaVuSans-53\"/>\n      </g>\n     </g>\n    </g>\n    <g id=\"ytick_7\">\n     <g id=\"line2d_19\">\n      <g>\n       <use style=\"stroke:#000000;stroke-width:0.8;\" x=\"36.465625\" xlink:href=\"#me2f517244a\" y=\"70.010913\"/>\n      </g>\n     </g>\n     <g id=\"text_19\">\n      <!-- 1.50 -->\n      <g transform=\"translate(7.2 73.810132)scale(0.1 -0.1)\">\n       <use xlink:href=\"#DejaVuSans-49\"/>\n       <use x=\"63.623047\" xlink:href=\"#DejaVuSans-46\"/>\n       <use x=\"95.410156\" xlink:href=\"#DejaVuSans-53\"/>\n       <use x=\"159.033203\" xlink:href=\"#DejaVuSans-48\"/>\n      </g>\n     </g>\n    </g>\n    <g id=\"ytick_8\">\n     <g id=\"line2d_20\">\n      <g>\n       <use style=\"stroke:#000000;stroke-width:0.8;\" x=\"36.465625\" xlink:href=\"#me2f517244a\" y=\"42.472993\"/>\n      </g>\n     </g>\n     <g id=\"text_20\">\n      <!-- 1.75 -->\n      <g transform=\"translate(7.2 46.272211)scale(0.1 -0.1)\">\n       <use xlink:href=\"#DejaVuSans-49\"/>\n       <use x=\"63.623047\" xlink:href=\"#DejaVuSans-46\"/>\n       <use x=\"95.410156\" xlink:href=\"#DejaVuSans-55\"/>\n       <use x=\"159.033203\" xlink:href=\"#DejaVuSans-53\"/>\n      </g>\n     </g>\n    </g>\n    <g id=\"text_21\">\n     <!-- 1e6 -->\n     <g transform=\"translate(36.465625 14.798437)scale(0.1 -0.1)\">\n      <defs>\n       <path d=\"M 56.203125 29.59375 \nL 56.203125 25.203125 \nL 14.890625 25.203125 \nQ 15.484375 15.921875 20.484375 11.0625 \nQ 25.484375 6.203125 34.421875 6.203125 \nQ 39.59375 6.203125 44.453125 7.46875 \nQ 49.3125 8.734375 54.109375 11.28125 \nL 54.109375 2.78125 \nQ 49.265625 0.734375 44.1875 -0.34375 \nQ 39.109375 -1.421875 33.890625 -1.421875 \nQ 20.796875 -1.421875 13.15625 6.1875 \nQ 5.515625 13.8125 5.515625 26.8125 \nQ 5.515625 40.234375 12.765625 48.109375 \nQ 20.015625 56 32.328125 56 \nQ 43.359375 56 49.78125 48.890625 \nQ 56.203125 41.796875 56.203125 29.59375 \nz\nM 47.21875 32.234375 \nQ 47.125 39.59375 43.09375 43.984375 \nQ 39.0625 48.390625 32.421875 48.390625 \nQ 24.90625 48.390625 20.390625 44.140625 \nQ 15.875 39.890625 15.1875 32.171875 \nz\n\" id=\"DejaVuSans-101\"/>\n       <path d=\"M 33.015625 40.375 \nQ 26.375 40.375 22.484375 35.828125 \nQ 18.609375 31.296875 18.609375 23.390625 \nQ 18.609375 15.53125 22.484375 10.953125 \nQ 26.375 6.390625 33.015625 6.390625 \nQ 39.65625 6.390625 43.53125 10.953125 \nQ 47.40625 15.53125 47.40625 23.390625 \nQ 47.40625 31.296875 43.53125 35.828125 \nQ 39.65625 40.375 33.015625 40.375 \nz\nM 52.59375 71.296875 \nL 52.59375 62.3125 \nQ 48.875 64.0625 45.09375 64.984375 \nQ 41.3125 65.921875 37.59375 65.921875 \nQ 27.828125 65.921875 22.671875 59.328125 \nQ 17.53125 52.734375 16.796875 39.40625 \nQ 19.671875 43.65625 24.015625 45.921875 \nQ 28.375 48.1875 33.59375 48.1875 \nQ 44.578125 48.1875 50.953125 41.515625 \nQ 57.328125 34.859375 57.328125 23.390625 \nQ 57.328125 12.15625 50.6875 5.359375 \nQ 44.046875 -1.421875 33.015625 -1.421875 \nQ 20.359375 -1.421875 13.671875 8.265625 \nQ 6.984375 17.96875 6.984375 36.375 \nQ 6.984375 53.65625 15.1875 63.9375 \nQ 23.390625 74.21875 37.203125 74.21875 \nQ 40.921875 74.21875 44.703125 73.484375 \nQ 48.484375 72.75 52.59375 71.296875 \nz\n\" id=\"DejaVuSans-54\"/>\n      </defs>\n      <use xlink:href=\"#DejaVuSans-49\"/>\n      <use x=\"63.623047\" xlink:href=\"#DejaVuSans-101\"/>\n      <use x=\"125.146484\" xlink:href=\"#DejaVuSans-54\"/>\n     </g>\n    </g>\n   </g>\n   <g id=\"patch_15\">\n    <path d=\"M 36.465625 235.238437 \nL 36.465625 17.798438 \n\" style=\"fill:none;stroke:#000000;stroke-linecap:square;stroke-linejoin:miter;stroke-width:0.8;\"/>\n   </g>\n   <g id=\"patch_16\">\n    <path d=\"M 371.265625 235.238437 \nL 371.265625 17.798438 \n\" style=\"fill:none;stroke:#000000;stroke-linecap:square;stroke-linejoin:miter;stroke-width:0.8;\"/>\n   </g>\n   <g id=\"patch_17\">\n    <path d=\"M 36.465625 235.238437 \nL 371.265625 235.238437 \n\" style=\"fill:none;stroke:#000000;stroke-linecap:square;stroke-linejoin:miter;stroke-width:0.8;\"/>\n   </g>\n   <g id=\"patch_18\">\n    <path d=\"M 36.465625 17.798437 \nL 371.265625 17.798437 \n\" style=\"fill:none;stroke:#000000;stroke-linecap:square;stroke-linejoin:miter;stroke-width:0.8;\"/>\n   </g>\n  </g>\n </g>\n <defs>\n  <clipPath id=\"p478e6a7a1a\">\n   <rect height=\"217.44\" width=\"334.8\" x=\"36.465625\" y=\"17.798437\"/>\n  </clipPath>\n </defs>\n</svg>\n",
      "image/png": "[encoded data removed]"
     },
     "metadata": {
      "needs_background": "light"
     }
    }
   ],
   "source": [
    "import matplotlib.pyplot as plt\n",
    "all_tags = dict(sorted(all_tags.items(), key=lambda item: item[1], reverse=True))\n",
    "plt.bar(list(all_tags.keys()), list(all_tags.values()))"
   ]
  },
  {
   "cell_type": "code",
   "execution_count": 200,
   "metadata": {},
   "outputs": [
    {
     "output_type": "execute_result",
     "data": {
      "text/plain": [
       "['NOUN',\n",
       " '.',\n",
       " 'VERB',\n",
       " 'ADP',\n",
       " 'ADJ',\n",
       " 'DET',\n",
       " 'PRON',\n",
       " 'ADV',\n",
       " 'PRT',\n",
       " 'CONJ',\n",
       " 'X',\n",
       " 'NUM']"
      ]
     },
     "metadata": {},
     "execution_count": 200
    }
   ],
   "source": [
    "list(all_tags.keys())"
   ]
  },
  {
   "cell_type": "code",
   "execution_count": null,
   "metadata": {},
   "outputs": [],
   "source": []
  }
 ]
}
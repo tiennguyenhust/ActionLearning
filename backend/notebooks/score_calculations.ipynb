{
 "cells": [
  {
   "cell_type": "code",
   "execution_count": 22,
   "source": [
    "import pandas as pd\r\n",
    "import numpy as np\r\n",
    "import nltk\r\n",
    "from nltk import word_tokenize\r\n",
    "import textstat"
   ],
   "outputs": [
    {
     "output_type": "stream",
     "name": "stdout",
     "text": [
      "showing info https://raw.githubusercontent.com/nltk/nltk_data/gh-pages/index.xml\n"
     ]
    },
    {
     "output_type": "execute_result",
     "data": {
      "text/plain": [
       "True"
      ]
     },
     "metadata": {},
     "execution_count": 22
    }
   ],
   "metadata": {}
  },
  {
   "cell_type": "code",
   "execution_count": 32,
   "source": [
    "nltk.download('averaged_perceptron_tagger')\r\n",
    "nltk.download('universal_tagset')\r\n",
    "nltk.download('punkt')"
   ],
   "outputs": [
    {
     "output_type": "stream",
     "name": "stderr",
     "text": [
      "[nltk_data] Downloading package averaged_perceptron_tagger to\n",
      "[nltk_data]     C:\\Users\\Admin\\AppData\\Roaming\\nltk_data...\n",
      "[nltk_data]   Package averaged_perceptron_tagger is already up-to-\n",
      "[nltk_data]       date!\n",
      "[nltk_data] Downloading package universal_tagset to\n",
      "[nltk_data]     C:\\Users\\Admin\\AppData\\Roaming\\nltk_data...\n",
      "[nltk_data]   Package universal_tagset is already up-to-date!\n",
      "[nltk_data] Downloading package punkt to\n",
      "[nltk_data]     C:\\Users\\Admin\\AppData\\Roaming\\nltk_data...\n",
      "[nltk_data]   Package punkt is already up-to-date!\n"
     ]
    },
    {
     "output_type": "execute_result",
     "data": {
      "text/plain": [
       "True"
      ]
     },
     "metadata": {},
     "execution_count": 32
    }
   ],
   "metadata": {}
  },
  {
   "cell_type": "code",
   "execution_count": 29,
   "source": [
    "def get_tags(text: str) -> dict:\r\n",
    "    tokens = word_tokenize(text)\r\n",
    "    sentence_tagged = nltk.pos_tag(tokens, tagset='universal')\r\n",
    "    tag_fd = nltk.FreqDist(tag for (word, tag) in sentence_tagged)\r\n",
    "    tags = dict(tag_fd)\r\n",
    "    return tags\r\n",
    "\r\n",
    "def number_of_words(tags: dict) -> int:\r\n",
    "    sum = np.sum(list(tags.values()))\r\n",
    "    if '.' in tags:\r\n",
    "        sum -= tags['.']\r\n",
    "    return sum\r\n",
    "\r\n",
    "def readability(text: str) -> float:\r\n",
    "    return textstat.flesch_reading_ease(text)\r\n",
    "\r\n",
    "def noun_verb_ratio(tags: dict):\r\n",
    "    sum = np.sum(list(tags.values()))\r\n",
    "    if 'NOUN' in tags:\r\n",
    "        noun_ratio = tags['NOUN'] / sum\r\n",
    "    else:\r\n",
    "        noun_ratio = 0\r\n",
    "    if 'VERB' in tags:\r\n",
    "        verb_ratio = tags['VERB'] / sum\r\n",
    "    else:\r\n",
    "        verb_ratio = 0\r\n",
    "    \r\n",
    "    return noun_ratio, verb_ratio\r\n",
    "\r\n",
    "def score(noun_ratio, verb_ratio):\r\n",
    "    targets = {'noun': 0.3, 'verb': 0.2}\r\n",
    "    factors = {'noun': 1/(1 - targets['noun']), 'verb':1/(1 - targets['verb'])}\r\n",
    "\r\n",
    "    noun_score = 1-abs(noun_ratio-targets['noun']) * factors['noun']\r\n",
    "    verb_score = 1-abs(verb_ratio-targets['verb']) * factors['verb']\r\n",
    "\r\n",
    "    return noun_score, verb_score\r\n",
    "\r\n",
    "def mean_score(noun_score, verb_score, r_ratio):\r\n",
    "    return (noun_score + verb_score + r_ratio) / 3\r\n",
    "\r\n",
    "def total_score(mean_score, amount_of_words):\r\n",
    "    if amount_of_words < 20:\r\n",
    "        return mean_score * (100 - (20 - amount_of_words) * 5) / 100        \r\n",
    "    return mean_score"
   ],
   "outputs": [],
   "metadata": {}
  },
  {
   "cell_type": "code",
   "execution_count": 30,
   "source": [
    "def calculate_score(text: str) -> float:\r\n",
    "    punctuation= '''!()-[]{};:'\"\\,<>./?@#$%^&*_~'''\r\n",
    "    for char in punctuation:\r\n",
    "        text = text.replace(char, '')\r\n",
    "    tags = get_tags(text)\r\n",
    "    n_words = number_of_words(tags)\r\n",
    "\r\n",
    "    r = readability(text)\r\n",
    "    r_ratio = r / 100\r\n",
    "    \r\n",
    "    noun_ratio, verb_ratio = noun_verb_ratio(tags)\r\n",
    "    noun_score, verb_score = score(noun_ratio, verb_ratio)\r\n",
    "    \r\n",
    "    m_score = mean_score(noun_score, verb_score, r_ratio)\r\n",
    "    final_score = total_score(m_score, n_words)\r\n",
    "    return {'final_score': final_score, 'noun_score': noun_score, 'verb_score': verb_score, 'readability': r_ratio}\r\n"
   ],
   "outputs": [],
   "metadata": {}
  },
  {
   "cell_type": "code",
   "execution_count": 31,
   "source": [
    "input_text = '''Dear Team Would you please check with below SO#?SO#I'm trying to create OD(vla) but it can not aligned Batch. Please check with this SO and let me know this issue. Thanks.[Portal search term: SAP issue]'''\r\n",
    "calculate_score(input_text)"
   ],
   "outputs": [
    {
     "output_type": "execute_result",
     "data": {
      "text/plain": [
       "{'final_score': 0.8560714285714285,\n",
       " 'noun_score': 0.8571428571428571,\n",
       " 'verb_score': 0.9285714285714286,\n",
       " 'readability': 0.7825}"
      ]
     },
     "metadata": {},
     "execution_count": 31
    }
   ],
   "metadata": {}
  },
  {
   "cell_type": "code",
   "execution_count": null,
   "source": [],
   "outputs": [],
   "metadata": {}
  }
 ],
 "metadata": {
  "interpreter": {
   "hash": "a4f6b51073b57949df80cfc4938bf02c871228ac6fd034bfdeb087c892e0bd13"
  },
  "kernelspec": {
   "display_name": "Python 3",
   "language": "python",
   "name": "python3"
  },
  "language_info": {
   "codemirror_mode": {
    "name": "ipython",
    "version": 3
   },
   "file_extension": ".py",
   "mimetype": "text/x-python",
   "name": "python",
   "nbconvert_exporter": "python",
   "pygments_lexer": "ipython3",
   "version": "3.8.8"
  },
  "toc": {
   "base_numbering": 1,
   "nav_menu": {},
   "number_sections": true,
   "sideBar": true,
   "skip_h1_title": false,
   "title_cell": "Table of Contents",
   "title_sidebar": "Contents",
   "toc_cell": false,
   "toc_position": {},
   "toc_section_display": true,
   "toc_window_display": false
  }
 },
 "nbformat": 4,
 "nbformat_minor": 2
}
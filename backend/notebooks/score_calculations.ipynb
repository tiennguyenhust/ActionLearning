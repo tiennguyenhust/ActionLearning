{
 "cells": [
  {
   "cell_type": "code",
   "execution_count": 22,
   "metadata": {},
   "outputs": [
    {
     "name": "stdout",
     "output_type": "stream",
     "text": [
      "showing info https://raw.githubusercontent.com/nltk/nltk_data/gh-pages/index.xml\n"
     ]
    },
    {
     "data": {
      "text/plain": [
       "True"
      ]
     },
     "execution_count": 22,
     "metadata": {},
     "output_type": "execute_result"
    }
   ],
   "source": [
    "import pandas as pd\n",
    "import numpy as np\n",
    "import nltk\n",
    "from nltk import word_tokenize\n",
    "import textstat"
   ]
  },
  {
   "cell_type": "code",
   "execution_count": 32,
   "metadata": {},
   "outputs": [
    {
     "name": "stderr",
     "output_type": "stream",
     "text": [
      "[nltk_data] Downloading package averaged_perceptron_tagger to\n",
      "[nltk_data]     C:\\Users\\Admin\\AppData\\Roaming\\nltk_data...\n",
      "[nltk_data]   Package averaged_perceptron_tagger is already up-to-\n",
      "[nltk_data]       date!\n",
      "[nltk_data] Downloading package universal_tagset to\n",
      "[nltk_data]     C:\\Users\\Admin\\AppData\\Roaming\\nltk_data...\n",
      "[nltk_data]   Package universal_tagset is already up-to-date!\n",
      "[nltk_data] Downloading package punkt to\n",
      "[nltk_data]     C:\\Users\\Admin\\AppData\\Roaming\\nltk_data...\n",
      "[nltk_data]   Package punkt is already up-to-date!\n"
     ]
    },
    {
     "data": {
      "text/plain": [
       "True"
      ]
     },
     "execution_count": 32,
     "metadata": {},
     "output_type": "execute_result"
    }
   ],
   "source": [
    "nltk.download('averaged_perceptron_tagger')\n",
    "nltk.download('universal_tagset')\n",
    "nltk.download('punkt')"
   ]
  },
  {
   "cell_type": "code",
   "execution_count": 29,
   "metadata": {},
   "outputs": [],
   "source": [
    "def get_tags(text: str) -> dict:\n",
    "    tokens = word_tokenize(text)\n",
    "    sentence_tagged = nltk.pos_tag(tokens, tagset='universal')\n",
    "    tag_fd = nltk.FreqDist(tag for (word, tag) in sentence_tagged)\n",
    "    tags = dict(tag_fd)\n",
    "    return tags\n",
    "\n",
    "def number_of_words(tags: dict) -> int:\n",
    "    sum = np.sum(list(tags.values()))\n",
    "    if '.' in tags:\n",
    "        sum -= tags['.']\n",
    "    return sum\n",
    "\n",
    "def readability(text: str) -> float:\n",
    "    return textstat.flesch_reading_ease(text)\n",
    "\n",
    "def noun_verb_ratio(tags: dict):\n",
    "    sum = np.sum(list(tags.values()))\n",
    "    if 'NOUN' in tags:\n",
    "        noun_ratio = tags['NOUN'] / sum\n",
    "    else:\n",
    "        noun_ratio = 0\n",
    "    if 'VERB' in tags:\n",
    "        verb_ratio = tags['VERB'] / sum\n",
    "    else:\n",
    "        verb_ratio = 0\n",
    "    \n",
    "    return noun_ratio, verb_ratio\n",
    "\n",
    "def score(noun_ratio, verb_ratio):\n",
    "    targets = {'noun': 0.3, 'verb': 0.2}\n",
    "    factors = {'noun': 1/(1 - targets['noun']), 'verb':1/(1 - targets['verb'])}\n",
    "\n",
    "    noun_score = 1-abs(noun_ratio-targets['noun']) * factors['noun']\n",
    "    verb_score = 1-abs(verb_ratio-targets['verb']) * factors['verb']\n",
    "\n",
    "    return noun_score, verb_score\n",
    "\n",
    "def mean_score(noun_score, verb_score, r_ratio):\n",
    "    return (noun_score + verb_score + r_ratio) / 3\n",
    "\n",
    "def total_score(mean_score, amount_of_words):\n",
    "    if amount_of_words < 20:\n",
    "        return mean_score * (100 - (20 - amount_of_words) * 5) / 100        \n",
    "    return mean_score"
   ]
  },
  {
   "cell_type": "code",
   "execution_count": 30,
   "metadata": {},
   "outputs": [],
   "source": [
    "def calculate_score(text: str) -> float:\n",
    "    punctuation= '''!()-[]{};:'\"\\,<>./?@#$%^&*_~'''\n",
    "    for char in punctuation:\n",
    "        text = text.replace(char, '')\n",
    "    tags = get_tags(text)\n",
    "    n_words = number_of_words(tags)\n",
    "\n",
    "    r = readability(text)\n",
    "    r_ratio = r / 100\n",
    "    \n",
    "    noun_ratio, verb_ratio = noun_verb_ratio(tags)\n",
    "    noun_score, verb_score = score(noun_ratio, verb_ratio)\n",
    "    \n",
    "    m_score = mean_score(noun_score, verb_score, r_ratio)\n",
    "    final_score = total_score(m_score, n_words)\n",
    "    return {'final_score': final_score, 'noun_score': noun_score, 'verb_score': verb_score, 'readability': r_ratio}\n"
   ]
  },
  {
   "cell_type": "code",
   "execution_count": 31,
   "metadata": {},
   "outputs": [
    {
     "data": {
      "text/plain": [
       "{'final_score': 0.8560714285714285,\n",
       " 'noun_score': 0.8571428571428571,\n",
       " 'verb_score': 0.9285714285714286,\n",
       " 'readability': 0.7825}"
      ]
     },
     "execution_count": 31,
     "metadata": {},
     "output_type": "execute_result"
    }
   ],
   "source": [
    "input_text = '''Dear Team Would you please check with below SO#?SO#I'm trying to create OD(vla) but it can not aligned Batch. Please check with this SO and let me know this issue. Thanks.[Portal search term: SAP issue]'''\n",
    "calculate_score(input_text)"
   ]
  },
  {
   "cell_type": "code",
   "execution_count": 37,
   "metadata": {},
   "outputs": [],
   "source": [
    "x = {'final_score': 0.8560714285714285,\n",
    " 'noun_score': 0.8571428571428571,\n",
    " 'verb_score': 0.9285714285714286,\n",
    " 'readability': 0.7825}"
   ]
  },
  {
   "cell_type": "code",
   "execution_count": 38,
   "metadata": {},
   "outputs": [
    {
     "data": {
      "text/plain": [
       "[0.8560714285714285, 0.8571428571428571, 0.9285714285714286, 0.7825]"
      ]
     },
     "execution_count": 38,
     "metadata": {},
     "output_type": "execute_result"
    }
   ],
   "source": [
    "y = list(x.values())\n",
    "y"
   ]
  },
  {
   "cell_type": "code",
   "execution_count": 30,
   "metadata": {},
   "outputs": [
    {
     "data": {
      "text/plain": [
       "['0.8560714285714285', '0.8571428571428571', '0.9285714285714286', '0.7825']"
      ]
     },
     "execution_count": 30,
     "metadata": {},
     "output_type": "execute_result"
    }
   ],
   "source": [
    "str(y).strip('[]').split(', ')"
   ]
  },
  {
   "cell_type": "markdown",
   "metadata": {},
   "source": [
    "#####################################333333333"
   ]
  },
  {
   "cell_type": "code",
   "execution_count": 21,
   "metadata": {},
   "outputs": [
    {
     "name": "stdout",
     "output_type": "stream",
     "text": [
      "✔ Download and installation successful\n",
      "You can now load the model via spacy.load('en_core_web_md')\n"
     ]
    }
   ],
   "source": [
    "import spacy\n",
    "import spacy.cli\n",
    "from scipy import spatial\n",
    "spacy.cli.download(\"en_core_web_md\")\n",
    "nlp = spacy.load('en_core_web_md')"
   ]
  },
  {
   "cell_type": "code",
   "execution_count": 34,
   "metadata": {},
   "outputs": [],
   "source": [
    "m = \"0.8560714285714285, 0.8571428571428571, 0.9285714285714286, 0.7825\"\n",
    "a,b,c,d = m.split(', ')"
   ]
  },
  {
   "cell_type": "code",
   "execution_count": 35,
   "metadata": {},
   "outputs": [
    {
     "data": {
      "text/plain": [
       "'0.8560714285714285'"
      ]
     },
     "execution_count": 35,
     "metadata": {},
     "output_type": "execute_result"
    }
   ],
   "source": [
    "a"
   ]
  },
  {
   "cell_type": "code",
   "execution_count": 40,
   "metadata": {},
   "outputs": [],
   "source": [
    "df = pd.DataFrame([y], columns=['final_score', \"noun_score\", \"verb_score\", \"readability\"])"
   ]
  },
  {
   "cell_type": "code",
   "execution_count": 43,
   "metadata": {},
   "outputs": [
    {
     "data": {
      "text/plain": [
       "<AxesSubplot:>"
      ]
     },
     "execution_count": 43,
     "metadata": {},
     "output_type": "execute_result"
    },
    {
     "data": {
      "image/png": "[encoded data removed]",
      "text/plain": [
       "<Figure size 432x288 with 1 Axes>"
      ]
     },
     "metadata": {
      "needs_background": "light"
     },
     "output_type": "display_data"
    }
   ],
   "source": [
    "df.plot.bar()"
   ]
  },
  {
   "cell_type": "code",
   "execution_count": null,
   "metadata": {},
   "outputs": [],
   "source": []
  }
 ],
 "metadata": {
  "interpreter": {
   "hash": "a4f6b51073b57949df80cfc4938bf02c871228ac6fd034bfdeb087c892e0bd13"
  },
  "kernelspec": {
   "display_name": "Python 3",
   "language": "python",
   "name": "python3"
  },
  "language_info": {
   "codemirror_mode": {
    "name": "ipython",
    "version": 3
   },
   "file_extension": ".py",
   "mimetype": "text/x-python",
   "name": "python",
   "nbconvert_exporter": "python",
   "pygments_lexer": "ipython3",
   "version": "3.8.8"
  },
  "toc": {
   "base_numbering": 1,
   "nav_menu": {},
   "number_sections": true,
   "sideBar": true,
   "skip_h1_title": false,
   "title_cell": "Table of Contents",
   "title_sidebar": "Contents",
   "toc_cell": false,
   "toc_position": {},
   "toc_section_display": true,
   "toc_window_display": false
  }
 },
 "nbformat": 4,
 "nbformat_minor": 2
}

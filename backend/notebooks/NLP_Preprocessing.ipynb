{
  "nbformat": 4,
  "nbformat_minor": 0,
  "metadata": {
    "colab": {
      "name": "NLP_Preprocessing.ipynb",
      "provenance": [],
      "collapsed_sections": []
    },
    "kernelspec": {
      "name": "python3",
      "display_name": "Python 3"
    },
    "language_info": {
      "name": "python"
    },
    "accelerator": "GPU"
  },
  "cells": [
    {
      "cell_type": "markdown",
      "metadata": {
        "id": "-Tecb3w_UYDC"
      },
      "source": [
        "Preprocessing data for Kmeans, GMM model\n",
        "--> return: vectorized data with 300 features"
      ]
    },
    {
      "cell_type": "code",
      "metadata": {
        "id": "n3E2I0AJ95Xl"
      },
      "source": [
        "!pip show sklearn"
      ],
      "execution_count": null,
      "outputs": []
    },
    {
      "cell_type": "code",
      "metadata": {
        "colab": {
          "base_uri": "https://localhost:8080/"
        },
        "id": "hkMN8LwPq_Xb",
        "outputId": "0f0db0ff-f97f-457f-e262-2cdf1a3ac475"
      },
      "source": [
        "import pandas as pd\n",
        "\n",
        "import spacy\n",
        "import spacy.cli\n",
        "from scipy import spatial\n",
        "spacy.cli.download(\"en_core_web_md\")\n",
        "nlp = spacy.load('en_core_web_md')"
      ],
      "execution_count": null,
      "outputs": [
        {
          "output_type": "stream",
          "text": [
            "\u001b[38;5;2m✔ Download and installation successful\u001b[0m\n",
            "You can now load the model via spacy.load('en_core_web_md')\n"
          ],
          "name": "stdout"
        }
      ]
    },
    {
      "cell_type": "code",
      "metadata": {
        "colab": {
          "base_uri": "https://localhost:8080/"
        },
        "id": "i4MLxAFRrKSP",
        "outputId": "152c714d-5e45-4aed-bbf5-d1aec3277ecd"
      },
      "source": [
        "from google.colab import drive\n",
        "drive.mount('/content/drive')"
      ],
      "execution_count": null,
      "outputs": [
        {
          "output_type": "stream",
          "text": [
            "Mounted at /content/drive\n"
          ],
          "name": "stdout"
        }
      ]
    },
    {
      "cell_type": "code",
      "metadata": {
        "id": "O7vFBuxorh1F"
      },
      "source": [
        "!cp drive/MyDrive/ActionLearning/Preprocessed_Data.csv .\n",
        "!cp drive/MyDrive/ActionLearning/Stop_words.csv ."
      ],
      "execution_count": null,
      "outputs": []
    },
    {
      "cell_type": "markdown",
      "metadata": {
        "id": "ozqo75yDr5v4"
      },
      "source": [
        "**Loading Data**"
      ]
    },
    {
      "cell_type": "code",
      "metadata": {
        "id": "Pu6ZBsRQr2Vz"
      },
      "source": [
        "df_master = pd.read_csv('Preprocessed_Data.csv')"
      ],
      "execution_count": null,
      "outputs": []
    },
    {
      "cell_type": "code",
      "metadata": {
        "colab": {
          "base_uri": "https://localhost:8080/",
          "height": 399
        },
        "id": "S7UFzWgVsAtj",
        "outputId": "a2bee589-07bd-4f9b-fd85-4288d412c2ba"
      },
      "source": [
        "df_master.head()"
      ],
      "execution_count": null,
      "outputs": [
        {
          "output_type": "execute_result",
          "data": {
            "text/html": [
              "<div>\n",
              "<style scoped>\n",
              "    .dataframe tbody tr th:only-of-type {\n",
              "        vertical-align: middle;\n",
              "    }\n",
              "\n",
              "    .dataframe tbody tr th {\n",
              "        vertical-align: top;\n",
              "    }\n",
              "\n",
              "    .dataframe thead th {\n",
              "        text-align: right;\n",
              "    }\n",
              "</style>\n",
              "<table border=\"1\" class=\"dataframe\">\n",
              "  <thead>\n",
              "    <tr style=\"text-align: right;\">\n",
              "      <th></th>\n",
              "      <th>Number</th>\n",
              "      <th>Priority</th>\n",
              "      <th>Incident_area</th>\n",
              "      <th>Opened</th>\n",
              "      <th>Closed</th>\n",
              "      <th>Status</th>\n",
              "      <th>Problem</th>\n",
              "      <th>Configuration_item</th>\n",
              "      <th>Short_description</th>\n",
              "      <th>Description</th>\n",
              "      <th>Assignment_group</th>\n",
              "      <th>Resolution_notes</th>\n",
              "      <th>Reassignment_count</th>\n",
              "      <th>Resolve_time</th>\n",
              "    </tr>\n",
              "  </thead>\n",
              "  <tbody>\n",
              "    <tr>\n",
              "      <th>0</th>\n",
              "      <td>INC0284448</td>\n",
              "      <td>P2 - High</td>\n",
              "      <td>SAP :: Sonda Procwork (PRW)</td>\n",
              "      <td>44013.002951</td>\n",
              "      <td>44024.875023</td>\n",
              "      <td>Closed</td>\n",
              "      <td>NaN</td>\n",
              "      <td>NaN</td>\n",
              "      <td>VF - Not working</td>\n",
              "      <td>Please, the transaction VF is not working, we ...</td>\n",
              "      <td>IMT APS SAP Order to Cash L2</td>\n",
              "      <td>Hello Daniel,Many thanks for your reply, at ti...</td>\n",
              "      <td>1.0</td>\n",
              "      <td>158300.0</td>\n",
              "    </tr>\n",
              "    <tr>\n",
              "      <th>1</th>\n",
              "      <td>INC0284449</td>\n",
              "      <td>P4 - Low</td>\n",
              "      <td>SAP :: Technical</td>\n",
              "      <td>44013.003183</td>\n",
              "      <td>44023.083368</td>\n",
              "      <td>Closed</td>\n",
              "      <td>NaN</td>\n",
              "      <td>SAP-ECC-PRD</td>\n",
              "      <td>Enqueue Processing</td>\n",
              "      <td>Alert Details: Name....................Enqueue...</td>\n",
              "      <td>IMT TCS SAP Basis</td>\n",
              "      <td>Monitoring the lock entries in P via incident ...</td>\n",
              "      <td>0.0</td>\n",
              "      <td>5694.0</td>\n",
              "    </tr>\n",
              "    <tr>\n",
              "      <th>2</th>\n",
              "      <td>INC0180368</td>\n",
              "      <td>P2 - High</td>\n",
              "      <td>Infrastructure &amp; Servers :: Server (physical/v...</td>\n",
              "      <td>43831.011447</td>\n",
              "      <td>43842.500012</td>\n",
              "      <td>Closed</td>\n",
              "      <td>NaN</td>\n",
              "      <td>GOYCSM0001DC</td>\n",
              "      <td>GOYCSMDC.ds.givaudan.com (Server does not comm...</td>\n",
              "      <td>Dear Team,We received a ticket from our monito...</td>\n",
              "      <td>IMT NLI Ops EAME</td>\n",
              "      <td>There was a planned maintenance onsite that wa...</td>\n",
              "      <td>1.0</td>\n",
              "      <td>126566.0</td>\n",
              "    </tr>\n",
              "    <tr>\n",
              "      <th>3</th>\n",
              "      <td>INC0180373</td>\n",
              "      <td>P3 - Moderate</td>\n",
              "      <td>SAP :: Order to Cash (OTC)</td>\n",
              "      <td>43831.132951</td>\n",
              "      <td>43871.625023</td>\n",
              "      <td>Closed</td>\n",
              "      <td>NaN</td>\n",
              "      <td>NaN</td>\n",
              "      <td>I cant connect to ESKER PRD &amp; UAT</td>\n",
              "      <td>I already got access for ESKER QA, UAT &amp; PRD. ...</td>\n",
              "      <td>IMT Desktop Infra Support Indonesia</td>\n",
              "      <td>User confirmed issue was solved</td>\n",
              "      <td>3.0</td>\n",
              "      <td>1919058.0</td>\n",
              "    </tr>\n",
              "    <tr>\n",
              "      <th>4</th>\n",
              "      <td>INC0180380</td>\n",
              "      <td>P3 - Moderate</td>\n",
              "      <td>Business Application :: Google</td>\n",
              "      <td>43831.405255</td>\n",
              "      <td>43841.416678</td>\n",
              "      <td>Closed</td>\n",
              "      <td>NaN</td>\n",
              "      <td>NaN</td>\n",
              "      <td>I cannot access my google drive shortcut from ...</td>\n",
              "      <td>I cannot access my google drive shortcut from ...</td>\n",
              "      <td>IMT Service Desk AME</td>\n",
              "      <td>User G drive was inactive, i reconfigured it, ...</td>\n",
              "      <td>0.0</td>\n",
              "      <td>128.0</td>\n",
              "    </tr>\n",
              "  </tbody>\n",
              "</table>\n",
              "</div>"
            ],
            "text/plain": [
              "       Number       Priority  ... Reassignment_count  Resolve_time\n",
              "0  INC0284448      P2 - High  ...                1.0      158300.0\n",
              "1  INC0284449       P4 - Low  ...                0.0        5694.0\n",
              "2  INC0180368      P2 - High  ...                1.0      126566.0\n",
              "3  INC0180373  P3 - Moderate  ...                3.0     1919058.0\n",
              "4  INC0180380  P3 - Moderate  ...                0.0         128.0\n",
              "\n",
              "[5 rows x 14 columns]"
            ]
          },
          "metadata": {
            "tags": []
          },
          "execution_count": 5
        }
      ]
    },
    {
      "cell_type": "markdown",
      "metadata": {
        "id": "SGX2kmRr-QKZ"
      },
      "source": [
        "*Remove null data on Description*"
      ]
    },
    {
      "cell_type": "code",
      "metadata": {
        "colab": {
          "base_uri": "https://localhost:8080/"
        },
        "id": "26VQ4vXD-OyE",
        "outputId": "ded0e51d-2376-4fdb-88b0-d390f0112359"
      },
      "source": [
        "columns = ['Number', 'Priority', 'Incident_area', \n",
        "           'Short_description', 'Description', 'Assignment_group', 'Resolution_notes']\n",
        "df_notnull = df_master[columns]\n",
        "tags = df_notnull['Description'].notnull()\n",
        "df_notnull = df_notnull[tags]\n",
        "df_notnull.shape"
      ],
      "execution_count": null,
      "outputs": [
        {
          "output_type": "execute_result",
          "data": {
            "text/plain": [
              "(103346, 7)"
            ]
          },
          "metadata": {
            "tags": []
          },
          "execution_count": 27
        }
      ]
    },
    {
      "cell_type": "code",
      "metadata": {
        "id": "QL5Ae4A3AKIH"
      },
      "source": [
        "df_notnull.to_csv(\"preprocessed_data.csv\", index = False)"
      ],
      "execution_count": null,
      "outputs": []
    },
    {
      "cell_type": "markdown",
      "metadata": {
        "id": "rQdUnfK8sLFu"
      },
      "source": [
        "**NLP Processing**"
      ]
    },
    {
      "cell_type": "code",
      "metadata": {
        "id": "i3wLkqy7sCtQ"
      },
      "source": [
        "df = df_master.copy()"
      ],
      "execution_count": null,
      "outputs": []
    },
    {
      "cell_type": "code",
      "metadata": {
        "id": "VGYOwz6SsNcC"
      },
      "source": [
        "columns = 'Description'\n",
        "df = df_master[columns]"
      ],
      "execution_count": null,
      "outputs": []
    },
    {
      "cell_type": "markdown",
      "metadata": {
        "id": "p9JLvA956bG6"
      },
      "source": [
        "*Tokenization*"
      ]
    },
    {
      "cell_type": "code",
      "metadata": {
        "id": "yHuonyPC6l2T"
      },
      "source": [
        "def tokenizer(row):\n",
        "    doc = nlp(str(row))\n",
        "    return [token for token in doc]"
      ],
      "execution_count": null,
      "outputs": []
    },
    {
      "cell_type": "markdown",
      "metadata": {
        "id": "3bVD69Au9vmH"
      },
      "source": [
        "*Lemmatization*"
      ]
    },
    {
      "cell_type": "code",
      "metadata": {
        "id": "DkJkeVgN9yAS"
      },
      "source": [
        "def lemmatization(row):\n",
        "    doc = nlp(str(row))\n",
        "    return [token.lemma_ for token in doc]"
      ],
      "execution_count": null,
      "outputs": []
    },
    {
      "cell_type": "markdown",
      "metadata": {
        "id": "Z0oEyfcf-RYz"
      },
      "source": [
        "*Stop word Removal*"
      ]
    },
    {
      "cell_type": "code",
      "metadata": {
        "colab": {
          "base_uri": "https://localhost:8080/",
          "height": 223
        },
        "id": "OtZ6eWR2-Zq_",
        "outputId": "7284b574-02d5-4ec0-e2cd-b9b58056a497"
      },
      "source": [
        "stop_words = pd.read_csv(\"Stop_words.csv\")\n",
        "print(stop_words.shape)\n",
        "stop_words.head()"
      ],
      "execution_count": null,
      "outputs": [
        {
          "output_type": "stream",
          "text": [
            "(1414, 2)\n"
          ],
          "name": "stdout"
        },
        {
          "output_type": "execute_result",
          "data": {
            "text/html": [
              "<div>\n",
              "<style scoped>\n",
              "    .dataframe tbody tr th:only-of-type {\n",
              "        vertical-align: middle;\n",
              "    }\n",
              "\n",
              "    .dataframe tbody tr th {\n",
              "        vertical-align: top;\n",
              "    }\n",
              "\n",
              "    .dataframe thead th {\n",
              "        text-align: right;\n",
              "    }\n",
              "</style>\n",
              "<table border=\"1\" class=\"dataframe\">\n",
              "  <thead>\n",
              "    <tr style=\"text-align: right;\">\n",
              "      <th></th>\n",
              "      <th>Word</th>\n",
              "      <th>Length</th>\n",
              "    </tr>\n",
              "  </thead>\n",
              "  <tbody>\n",
              "    <tr>\n",
              "      <th>0</th>\n",
              "      <td>–</td>\n",
              "      <td>1.0</td>\n",
              "    </tr>\n",
              "    <tr>\n",
              "      <th>1</th>\n",
              "      <td>——</td>\n",
              "      <td>2.0</td>\n",
              "    </tr>\n",
              "    <tr>\n",
              "      <th>2</th>\n",
              "      <td>#</td>\n",
              "      <td>1.0</td>\n",
              "    </tr>\n",
              "    <tr>\n",
              "      <th>3</th>\n",
              "      <td>NaN</td>\n",
              "      <td>3.0</td>\n",
              "    </tr>\n",
              "    <tr>\n",
              "      <th>4</th>\n",
              "      <td>$</td>\n",
              "      <td>1.0</td>\n",
              "    </tr>\n",
              "  </tbody>\n",
              "</table>\n",
              "</div>"
            ],
            "text/plain": [
              "  Word  Length\n",
              "0    –     1.0\n",
              "1   ——     2.0\n",
              "2    #     1.0\n",
              "3  NaN     3.0\n",
              "4    $     1.0"
            ]
          },
          "metadata": {
            "tags": []
          },
          "execution_count": 112
        }
      ]
    },
    {
      "cell_type": "code",
      "metadata": {
        "colab": {
          "base_uri": "https://localhost:8080/"
        },
        "id": "JbLEQsro-xnb",
        "outputId": "19fb17ef-7363-45e7-ff10-a42094f848a3"
      },
      "source": [
        "for word in stop_words['Word']:\n",
        "    nlp.Defaults.stop_words.add(word)\n",
        "\n",
        "print(len(nlp.Defaults.stop_words))"
      ],
      "execution_count": null,
      "outputs": [
        {
          "output_type": "stream",
          "text": [
            "1542\n"
          ],
          "name": "stdout"
        }
      ]
    },
    {
      "cell_type": "code",
      "metadata": {
        "id": "qWpV7x53-URx"
      },
      "source": [
        "def clean(row):\n",
        "    tokens = tokenizer(str(row))\n",
        "    return [\n",
        "            token.lemma_.lower() for token in tokens if \n",
        "            (not token.is_punct) \n",
        "            and (token.text not in nlp.Defaults.stop_words) \n",
        "            and (token.text.strip() != '')\n",
        "    ]"
      ],
      "execution_count": null,
      "outputs": []
    },
    {
      "cell_type": "code",
      "metadata": {
        "id": "e1c-oeHhWKAa"
      },
      "source": [
        "def vector(row):\n",
        "    text = clean(str(row))\n",
        "    return list(nlp(' '.join(text)).vector)"
      ],
      "execution_count": null,
      "outputs": []
    },
    {
      "cell_type": "code",
      "metadata": {
        "colab": {
          "base_uri": "https://localhost:8080/"
        },
        "id": "1yV6F3eXWjex",
        "outputId": "1637ca4c-324b-402d-d07b-8eeae79ed29d"
      },
      "source": [
        "print(vector(data[0])) (shape = (300, ))"
      ],
      "execution_count": null,
      "outputs": [
        {
          "output_type": "stream",
          "text": [
            "[-0.054270532, 0.13069189, -0.1375125, 0.03478963, 0.09665124, -0.0009659955, -0.1431185, -0.22028999, 0.024922501, 1.1460999, -0.16021125, 0.22867088, -0.010778, -0.13176799, 0.075039, 0.024886629, -0.03982125, 1.0875375, 0.1410275, 0.037318006, 0.05519975, 0.03424879, -0.12205363, -0.11233962, -0.0911505, -0.07442762, 0.040034864, -0.079109006, 0.012973875, 0.1082005, 0.014538659, -0.20315562, 0.042588625, 0.108771, -0.07984034, 0.114575624, 0.19470862, -0.08985924, 0.06027937, -0.17035814, -0.12467025, 0.12252262, 0.14420363, -0.1322075, -0.08058661, 0.03703526, 0.09712362, -0.03885313, -0.0376765, 0.11634625, 0.14116625, -0.0396355, 0.14236775, 0.17513324, 0.20370251, -0.12630437, -0.076155625, -0.04418875, -0.119681254, -0.07446125, -0.12471, -0.06121537, -0.0823725, 0.129415, 0.17095426, -0.08587312, 0.019422999, 0.19854012, 0.00053950027, 0.05547288, 0.2178525, 0.08024613, 0.15558138, 0.039725628, 0.21906537, 0.019284623, -0.030990746, -0.24792776, 0.037652124, 0.103869714, -0.04375975, 0.1459255, -0.1186675, 0.027106373, 0.10087538, 0.0070081204, 0.47427624, -0.004347503, 0.35171002, -0.021317996, -0.20804374, -0.001615636, 0.17401376, -0.08858438, 0.025845751, -0.088023365, 0.09654575, -0.059277378, 0.03184262, 0.05540556, -0.1229875, 0.0029381257, -0.0956575, 0.047023, 0.0035012458, -0.431265, 0.22920251, 0.07784938, -0.07618338, 0.003827501, 0.16967988, -0.24917997, 0.21167436, -0.0273485, 0.30687252, -0.020204999, 0.049109627, -0.0954325, 0.054767497, 0.018481253, 0.0023851264, 0.053584248, -0.040325377, 0.15415849, 0.020235876, 0.008635625, -0.030619625, 0.0050130617, 0.20951839, 0.012926128, 0.2043155, -0.17253688, -0.27789876, -0.15616113, -0.010665001, 0.17246512, -0.2381645, -0.03852462, 0.124092, -0.025288312, -0.4160575, -0.17014551, 0.06818362, -0.12426762, 0.018299874, -0.0950235, -0.026651124, 0.049382497, -0.06257888, 0.07048843, 0.076712124, 0.23074867, -0.124735, -0.040027127, 0.043371744, 0.013814998, 0.0039938167, -0.099987, -0.006501627, 0.09115834, -0.058419004, 0.053137377, 0.04238264, -0.082200624, -0.002792167, -0.08442338, 0.03145375, -0.053502627, 0.18546626, -0.059748124, -0.122063994, 0.06675672, -0.035181373, 0.036499746, 0.052177694, 0.16269724, -0.05751675, 0.114990875, -0.07892574, 0.12836313, 0.20279625, 0.0008950047, -0.025178377, -0.25695872, -0.21265075, -0.037249498, -0.08460835, -0.17193851, 0.078904375, 0.17113437, -0.013311245, -0.044296913, -0.067257494, -0.114690006, 0.008859187, 0.025304995, -0.038001254, -0.15396275, 0.257228, 0.21905449, 0.19232374, -0.11441453, -0.07852313, -0.036727127, 0.02343463, 0.0077627487, -0.1155025, 0.09051663, -0.013188001, 0.35617125, 0.22874449, 0.00075312424, 0.05197624, -0.046672374, 0.022081506, 0.049347628, -0.0030409996, -0.079306245, -0.36768213, 0.25282925, -0.10420762, -0.05556613, -0.031534754, -0.014872871, -0.066434875, 0.0833025, -0.057065625, 0.119311504, 0.12586838, -0.081440486, 0.07862463, 0.089543745, 0.037737623, 0.19304876, -0.03455824, -0.010393877, -0.2008199, -0.20903663, 0.011880257, -0.010463499, 0.14243238, -0.06568357, -0.007035248, 0.087860376, 0.22370374, -0.268225, 0.075112745, -0.083560675, -0.036041997, -0.08091225, 0.12589124, -0.033974648, -0.2146, -0.03500463, 0.06654187, 0.11215625, 0.07270125, -0.0138293505, -0.0608625, -0.009739275, 0.07094837, 0.04157125, 0.016427428, 0.1379079, -0.10669461, -0.14289837, 0.043619245, 0.18745251, 0.40394127, -0.22493687, 0.06377526, 0.024219874, -0.027866999, 0.124800496, 0.03198013, 0.110534996, -0.15425175, -0.0066660643, 0.0558275, -0.09044, 0.008006124, 0.030002754, 0.15489186, -0.010627251, -0.014211763, 0.14934462, 0.05174125, -0.03523913, 0.08879113, -0.043869246, -0.31335688, -0.06539075, -0.017782127, 0.11030999, 0.10804275, -0.30855623, -0.014451243, -0.06202685, -0.021857623, 0.16894388]\n"
          ],
          "name": "stdout"
        }
      ]
    },
    {
      "cell_type": "code",
      "metadata": {
        "id": "TaLWInlSDoJi"
      },
      "source": [
        "embedded_data = data.apply(vector)"
      ],
      "execution_count": null,
      "outputs": []
    },
    {
      "cell_type": "code",
      "metadata": {
        "id": "oxANl0qUI83M"
      },
      "source": [
        "final_data = [data for data in embedded_data]"
      ],
      "execution_count": null,
      "outputs": []
    },
    {
      "cell_type": "code",
      "metadata": {
        "colab": {
          "base_uri": "https://localhost:8080/"
        },
        "id": "8nsvwDcekZ6m",
        "outputId": "0491616a-407e-4331-c013-c23840cf609a"
      },
      "source": [
        "import numpy as np\n",
        "final_data = np.array(final_data)\n",
        "final_data.shape"
      ],
      "execution_count": null,
      "outputs": [
        {
          "output_type": "execute_result",
          "data": {
            "text/plain": [
              "(103346, 300)"
            ]
          },
          "metadata": {
            "tags": []
          },
          "execution_count": 118
        }
      ]
    },
    {
      "cell_type": "markdown",
      "metadata": {
        "id": "u4y_3u-aepEW"
      },
      "source": [
        "Export Data"
      ]
    },
    {
      "cell_type": "code",
      "metadata": {
        "id": "ffZrZtzNk7w2"
      },
      "source": [
        "np.savetxt(\"Final_Data.csv\", final_data, delimiter=\",\")"
      ],
      "execution_count": null,
      "outputs": []
    }
  ]
}
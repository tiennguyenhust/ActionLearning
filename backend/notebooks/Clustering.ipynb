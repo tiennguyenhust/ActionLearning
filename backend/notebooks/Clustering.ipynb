{
  "nbformat": 4,
  "nbformat_minor": 0,
  "metadata": {
    "colab": {
      "name": "Clustering.ipynb",
      "provenance": [],
      "collapsed_sections": []
    },
    "kernelspec": {
      "name": "python3",
      "display_name": "Python 3"
    },
    "language_info": {
      "name": "python"
    },
    "accelerator": "GPU"
  },
  "cells": [
    {
      "cell_type": "markdown",
      "metadata": {
        "id": "J15B3frrTuxX"
      },
      "source": [
        "**Introduction**\n",
        "\n",
        "In this notebook, I use preprocessed_data csv file for clustering using LDA. \n",
        "Using final_data file for Kmeans, but the kmeans took long time to run. Be careful!\n",
        "\n",
        "\n",
        "\n",
        "*   Result: LDA model, CountVecorizer model, topic data\n",
        "\n"
      ]
    },
    {
      "cell_type": "code",
      "metadata": {
        "id": "iFY5OMEsnFic",
        "colab": {
          "base_uri": "https://localhost:8080/"
        },
        "outputId": "abe1de31-67b0-445e-95bd-eebda0a87dd1"
      },
      "source": [
        "import pickle\n",
        "import pandas as pd\n",
        "\n",
        "import spacy\n",
        "import spacy.cli\n",
        "from scipy import spatial\n",
        "spacy.cli.download(\"en_core_web_md\")\n",
        "nlp = spacy.load('en_core_web_md')"
      ],
      "execution_count": 1,
      "outputs": [
        {
          "output_type": "stream",
          "text": [
            "\u001b[38;5;2m✔ Download and installation successful\u001b[0m\n",
            "You can now load the model via spacy.load('en_core_web_md')\n"
          ],
          "name": "stdout"
        }
      ]
    },
    {
      "cell_type": "code",
      "metadata": {
        "id": "n41-ild_nNCl",
        "colab": {
          "base_uri": "https://localhost:8080/"
        },
        "outputId": "4d3f89c7-3a09-4a69-add2-27fc2e0bcb21"
      },
      "source": [
        "from google.colab import drive\n",
        "drive.mount('/content/drive')"
      ],
      "execution_count": 2,
      "outputs": [
        {
          "output_type": "stream",
          "text": [
            "Mounted at /content/drive\n"
          ],
          "name": "stdout"
        }
      ]
    },
    {
      "cell_type": "markdown",
      "metadata": {
        "id": "OLg4CfSBfDAk"
      },
      "source": [
        "**Loading Data**"
      ]
    },
    {
      "cell_type": "code",
      "metadata": {
        "id": "rtOLzn1Te_1p"
      },
      "source": [
        "!cp drive/MyDrive/ActionLearning/preprocessed_data.csv .\n",
        "!cp drive/MyDrive/ActionLearning/topic_data.csv .\n",
        "!cp drive/MyDrive/ActionLearning/Final_Data.csv .\n",
        "!cp drive/MyDrive/ActionLearning/Stop_words.csv ."
      ],
      "execution_count": 3,
      "outputs": []
    },
    {
      "cell_type": "code",
      "metadata": {
        "colab": {
          "base_uri": "https://localhost:8080/",
          "height": 310
        },
        "id": "kTUgAgdnfPrl",
        "outputId": "39398e4e-e576-4e9c-d9fe-7fb51a570e1a"
      },
      "source": [
        "df_master = pd.read_csv('preprocessed_data.csv')\n",
        "df_master.head()"
      ],
      "execution_count": 4,
      "outputs": [
        {
          "output_type": "execute_result",
          "data": {
            "text/html": [
              "<div>\n",
              "<style scoped>\n",
              "    .dataframe tbody tr th:only-of-type {\n",
              "        vertical-align: middle;\n",
              "    }\n",
              "\n",
              "    .dataframe tbody tr th {\n",
              "        vertical-align: top;\n",
              "    }\n",
              "\n",
              "    .dataframe thead th {\n",
              "        text-align: right;\n",
              "    }\n",
              "</style>\n",
              "<table border=\"1\" class=\"dataframe\">\n",
              "  <thead>\n",
              "    <tr style=\"text-align: right;\">\n",
              "      <th></th>\n",
              "      <th>Number</th>\n",
              "      <th>Priority</th>\n",
              "      <th>Incident_area</th>\n",
              "      <th>Short_description</th>\n",
              "      <th>Description</th>\n",
              "      <th>Assignment_group</th>\n",
              "      <th>Resolution_notes</th>\n",
              "    </tr>\n",
              "  </thead>\n",
              "  <tbody>\n",
              "    <tr>\n",
              "      <th>0</th>\n",
              "      <td>INC0284448</td>\n",
              "      <td>P2 - High</td>\n",
              "      <td>SAP :: Sonda Procwork (PRW)</td>\n",
              "      <td>VF - Not working</td>\n",
              "      <td>Please, the transaction VF is not working, we ...</td>\n",
              "      <td>IMT APS SAP Order to Cash L2</td>\n",
              "      <td>Hello Daniel,Many thanks for your reply, at ti...</td>\n",
              "    </tr>\n",
              "    <tr>\n",
              "      <th>1</th>\n",
              "      <td>INC0284449</td>\n",
              "      <td>P4 - Low</td>\n",
              "      <td>SAP :: Technical</td>\n",
              "      <td>Enqueue Processing</td>\n",
              "      <td>Alert Details: Name....................Enqueue...</td>\n",
              "      <td>IMT TCS SAP Basis</td>\n",
              "      <td>Monitoring the lock entries in P via incident ...</td>\n",
              "    </tr>\n",
              "    <tr>\n",
              "      <th>2</th>\n",
              "      <td>INC0180368</td>\n",
              "      <td>P2 - High</td>\n",
              "      <td>Infrastructure &amp; Servers :: Server (physical/v...</td>\n",
              "      <td>GOYCSMDC.ds.givaudan.com (Server does not comm...</td>\n",
              "      <td>Dear Team,We received a ticket from our monito...</td>\n",
              "      <td>IMT NLI Ops EAME</td>\n",
              "      <td>There was a planned maintenance onsite that wa...</td>\n",
              "    </tr>\n",
              "    <tr>\n",
              "      <th>3</th>\n",
              "      <td>INC0180373</td>\n",
              "      <td>P3 - Moderate</td>\n",
              "      <td>SAP :: Order to Cash (OTC)</td>\n",
              "      <td>I cant connect to ESKER PRD &amp; UAT</td>\n",
              "      <td>I already got access for ESKER QA, UAT &amp; PRD. ...</td>\n",
              "      <td>IMT Desktop Infra Support Indonesia</td>\n",
              "      <td>User confirmed issue was solved</td>\n",
              "    </tr>\n",
              "    <tr>\n",
              "      <th>4</th>\n",
              "      <td>INC0180380</td>\n",
              "      <td>P3 - Moderate</td>\n",
              "      <td>Business Application :: Google</td>\n",
              "      <td>I cannot access my google drive shortcut from ...</td>\n",
              "      <td>I cannot access my google drive shortcut from ...</td>\n",
              "      <td>IMT Service Desk AME</td>\n",
              "      <td>User G drive was inactive, i reconfigured it, ...</td>\n",
              "    </tr>\n",
              "  </tbody>\n",
              "</table>\n",
              "</div>"
            ],
            "text/plain": [
              "       Number  ...                                   Resolution_notes\n",
              "0  INC0284448  ...  Hello Daniel,Many thanks for your reply, at ti...\n",
              "1  INC0284449  ...  Monitoring the lock entries in P via incident ...\n",
              "2  INC0180368  ...  There was a planned maintenance onsite that wa...\n",
              "3  INC0180373  ...                    User confirmed issue was solved\n",
              "4  INC0180380  ...  User G drive was inactive, i reconfigured it, ...\n",
              "\n",
              "[5 rows x 7 columns]"
            ]
          },
          "metadata": {
            "tags": []
          },
          "execution_count": 4
        }
      ]
    },
    {
      "cell_type": "code",
      "metadata": {
        "id": "xwVPk__MfYCs",
        "colab": {
          "base_uri": "https://localhost:8080/"
        },
        "outputId": "0212ea28-9c67-4c68-9cfd-2dbcc02dea98"
      },
      "source": [
        "# Embedded data for K-means cluster\n",
        "embedded_data = pd.read_csv('Final_Data.csv', header=None)\n",
        "embedded_data.shape"
      ],
      "execution_count": 5,
      "outputs": [
        {
          "output_type": "execute_result",
          "data": {
            "text/plain": [
              "(103346, 300)"
            ]
          },
          "metadata": {
            "tags": []
          },
          "execution_count": 5
        }
      ]
    },
    {
      "cell_type": "code",
      "metadata": {
        "colab": {
          "base_uri": "https://localhost:8080/",
          "height": 161
        },
        "id": "dFzDSRQIqI97",
        "outputId": "639778df-dec3-41bd-f01f-195f028bc1d4"
      },
      "source": [
        "embedded_data[:2]"
      ],
      "execution_count": 6,
      "outputs": [
        {
          "output_type": "execute_result",
          "data": {
            "text/html": [
              "<div>\n",
              "<style scoped>\n",
              "    .dataframe tbody tr th:only-of-type {\n",
              "        vertical-align: middle;\n",
              "    }\n",
              "\n",
              "    .dataframe tbody tr th {\n",
              "        vertical-align: top;\n",
              "    }\n",
              "\n",
              "    .dataframe thead th {\n",
              "        text-align: right;\n",
              "    }\n",
              "</style>\n",
              "<table border=\"1\" class=\"dataframe\">\n",
              "  <thead>\n",
              "    <tr style=\"text-align: right;\">\n",
              "      <th></th>\n",
              "      <th>0</th>\n",
              "      <th>1</th>\n",
              "      <th>2</th>\n",
              "      <th>3</th>\n",
              "      <th>4</th>\n",
              "      <th>5</th>\n",
              "      <th>6</th>\n",
              "      <th>7</th>\n",
              "      <th>8</th>\n",
              "      <th>9</th>\n",
              "      <th>10</th>\n",
              "      <th>11</th>\n",
              "      <th>12</th>\n",
              "      <th>13</th>\n",
              "      <th>14</th>\n",
              "      <th>15</th>\n",
              "      <th>16</th>\n",
              "      <th>17</th>\n",
              "      <th>18</th>\n",
              "      <th>19</th>\n",
              "      <th>20</th>\n",
              "      <th>21</th>\n",
              "      <th>22</th>\n",
              "      <th>23</th>\n",
              "      <th>24</th>\n",
              "      <th>25</th>\n",
              "      <th>26</th>\n",
              "      <th>27</th>\n",
              "      <th>28</th>\n",
              "      <th>29</th>\n",
              "      <th>30</th>\n",
              "      <th>31</th>\n",
              "      <th>32</th>\n",
              "      <th>33</th>\n",
              "      <th>34</th>\n",
              "      <th>35</th>\n",
              "      <th>36</th>\n",
              "      <th>37</th>\n",
              "      <th>38</th>\n",
              "      <th>39</th>\n",
              "      <th>...</th>\n",
              "      <th>260</th>\n",
              "      <th>261</th>\n",
              "      <th>262</th>\n",
              "      <th>263</th>\n",
              "      <th>264</th>\n",
              "      <th>265</th>\n",
              "      <th>266</th>\n",
              "      <th>267</th>\n",
              "      <th>268</th>\n",
              "      <th>269</th>\n",
              "      <th>270</th>\n",
              "      <th>271</th>\n",
              "      <th>272</th>\n",
              "      <th>273</th>\n",
              "      <th>274</th>\n",
              "      <th>275</th>\n",
              "      <th>276</th>\n",
              "      <th>277</th>\n",
              "      <th>278</th>\n",
              "      <th>279</th>\n",
              "      <th>280</th>\n",
              "      <th>281</th>\n",
              "      <th>282</th>\n",
              "      <th>283</th>\n",
              "      <th>284</th>\n",
              "      <th>285</th>\n",
              "      <th>286</th>\n",
              "      <th>287</th>\n",
              "      <th>288</th>\n",
              "      <th>289</th>\n",
              "      <th>290</th>\n",
              "      <th>291</th>\n",
              "      <th>292</th>\n",
              "      <th>293</th>\n",
              "      <th>294</th>\n",
              "      <th>295</th>\n",
              "      <th>296</th>\n",
              "      <th>297</th>\n",
              "      <th>298</th>\n",
              "      <th>299</th>\n",
              "    </tr>\n",
              "  </thead>\n",
              "  <tbody>\n",
              "    <tr>\n",
              "      <th>0</th>\n",
              "      <td>-0.054271</td>\n",
              "      <td>0.130692</td>\n",
              "      <td>-0.137513</td>\n",
              "      <td>0.034790</td>\n",
              "      <td>0.096651</td>\n",
              "      <td>-0.000966</td>\n",
              "      <td>-0.143119</td>\n",
              "      <td>-0.22029</td>\n",
              "      <td>0.024923</td>\n",
              "      <td>1.146100</td>\n",
              "      <td>-0.160211</td>\n",
              "      <td>0.228671</td>\n",
              "      <td>-0.010778</td>\n",
              "      <td>-0.131768</td>\n",
              "      <td>0.075039</td>\n",
              "      <td>0.024887</td>\n",
              "      <td>-0.039821</td>\n",
              "      <td>1.087538</td>\n",
              "      <td>0.141027</td>\n",
              "      <td>0.037318</td>\n",
              "      <td>0.055200</td>\n",
              "      <td>0.034249</td>\n",
              "      <td>-0.122054</td>\n",
              "      <td>-0.112340</td>\n",
              "      <td>-0.091150</td>\n",
              "      <td>-0.074428</td>\n",
              "      <td>0.040035</td>\n",
              "      <td>-0.079109</td>\n",
              "      <td>0.012974</td>\n",
              "      <td>0.108200</td>\n",
              "      <td>0.014539</td>\n",
              "      <td>-0.203156</td>\n",
              "      <td>0.042589</td>\n",
              "      <td>0.108771</td>\n",
              "      <td>-0.079840</td>\n",
              "      <td>0.114576</td>\n",
              "      <td>0.194709</td>\n",
              "      <td>-0.089859</td>\n",
              "      <td>0.060279</td>\n",
              "      <td>-0.170358</td>\n",
              "      <td>...</td>\n",
              "      <td>0.070948</td>\n",
              "      <td>0.041571</td>\n",
              "      <td>0.016427</td>\n",
              "      <td>0.137908</td>\n",
              "      <td>-0.106695</td>\n",
              "      <td>-0.142898</td>\n",
              "      <td>0.043619</td>\n",
              "      <td>0.187453</td>\n",
              "      <td>0.403941</td>\n",
              "      <td>-0.224937</td>\n",
              "      <td>0.063775</td>\n",
              "      <td>0.024220</td>\n",
              "      <td>-0.027867</td>\n",
              "      <td>0.124800</td>\n",
              "      <td>0.031980</td>\n",
              "      <td>0.110535</td>\n",
              "      <td>-0.154252</td>\n",
              "      <td>-0.006666</td>\n",
              "      <td>0.055827</td>\n",
              "      <td>-0.090440</td>\n",
              "      <td>0.008006</td>\n",
              "      <td>0.030003</td>\n",
              "      <td>0.154892</td>\n",
              "      <td>-0.010627</td>\n",
              "      <td>-0.014212</td>\n",
              "      <td>0.149345</td>\n",
              "      <td>0.051741</td>\n",
              "      <td>-0.035239</td>\n",
              "      <td>0.088791</td>\n",
              "      <td>-0.043869</td>\n",
              "      <td>-0.313357</td>\n",
              "      <td>-0.065391</td>\n",
              "      <td>-0.017782</td>\n",
              "      <td>0.110310</td>\n",
              "      <td>0.108043</td>\n",
              "      <td>-0.308556</td>\n",
              "      <td>-0.014451</td>\n",
              "      <td>-0.062027</td>\n",
              "      <td>-0.021858</td>\n",
              "      <td>0.168944</td>\n",
              "    </tr>\n",
              "    <tr>\n",
              "      <th>1</th>\n",
              "      <td>-0.086554</td>\n",
              "      <td>-0.007773</td>\n",
              "      <td>-0.121346</td>\n",
              "      <td>0.065881</td>\n",
              "      <td>-0.046053</td>\n",
              "      <td>0.112583</td>\n",
              "      <td>-0.054858</td>\n",
              "      <td>-0.19566</td>\n",
              "      <td>-0.003710</td>\n",
              "      <td>1.567562</td>\n",
              "      <td>-0.218406</td>\n",
              "      <td>-0.000245</td>\n",
              "      <td>0.038233</td>\n",
              "      <td>-0.123520</td>\n",
              "      <td>-0.060072</td>\n",
              "      <td>0.005209</td>\n",
              "      <td>-0.096698</td>\n",
              "      <td>1.598871</td>\n",
              "      <td>-0.012681</td>\n",
              "      <td>-0.130734</td>\n",
              "      <td>0.061867</td>\n",
              "      <td>-0.014848</td>\n",
              "      <td>-0.160658</td>\n",
              "      <td>-0.083903</td>\n",
              "      <td>-0.009564</td>\n",
              "      <td>0.139925</td>\n",
              "      <td>-0.003305</td>\n",
              "      <td>-0.131822</td>\n",
              "      <td>0.109193</td>\n",
              "      <td>-0.146462</td>\n",
              "      <td>-0.022046</td>\n",
              "      <td>-0.039282</td>\n",
              "      <td>0.204670</td>\n",
              "      <td>0.049280</td>\n",
              "      <td>-0.143936</td>\n",
              "      <td>0.027563</td>\n",
              "      <td>-0.116466</td>\n",
              "      <td>0.130115</td>\n",
              "      <td>-0.010970</td>\n",
              "      <td>-0.127870</td>\n",
              "      <td>...</td>\n",
              "      <td>0.141384</td>\n",
              "      <td>0.080649</td>\n",
              "      <td>0.067504</td>\n",
              "      <td>-0.080307</td>\n",
              "      <td>-0.059306</td>\n",
              "      <td>-0.147814</td>\n",
              "      <td>0.088873</td>\n",
              "      <td>0.104042</td>\n",
              "      <td>0.776709</td>\n",
              "      <td>-0.130269</td>\n",
              "      <td>-0.007333</td>\n",
              "      <td>0.081728</td>\n",
              "      <td>0.061907</td>\n",
              "      <td>-0.082988</td>\n",
              "      <td>0.123276</td>\n",
              "      <td>0.042795</td>\n",
              "      <td>0.001605</td>\n",
              "      <td>0.153446</td>\n",
              "      <td>0.064448</td>\n",
              "      <td>0.107337</td>\n",
              "      <td>0.045912</td>\n",
              "      <td>0.042989</td>\n",
              "      <td>0.249911</td>\n",
              "      <td>-0.097046</td>\n",
              "      <td>-0.040757</td>\n",
              "      <td>-0.049607</td>\n",
              "      <td>0.142084</td>\n",
              "      <td>-0.008197</td>\n",
              "      <td>0.166199</td>\n",
              "      <td>-0.141038</td>\n",
              "      <td>-0.144507</td>\n",
              "      <td>0.341765</td>\n",
              "      <td>0.013559</td>\n",
              "      <td>0.145051</td>\n",
              "      <td>0.163032</td>\n",
              "      <td>-0.212058</td>\n",
              "      <td>-0.229798</td>\n",
              "      <td>-0.015879</td>\n",
              "      <td>0.003460</td>\n",
              "      <td>0.090798</td>\n",
              "    </tr>\n",
              "  </tbody>\n",
              "</table>\n",
              "<p>2 rows × 300 columns</p>\n",
              "</div>"
            ],
            "text/plain": [
              "        0         1         2    ...       297       298       299\n",
              "0 -0.054271  0.130692 -0.137513  ... -0.062027 -0.021858  0.168944\n",
              "1 -0.086554 -0.007773 -0.121346  ... -0.015879  0.003460  0.090798\n",
              "\n",
              "[2 rows x 300 columns]"
            ]
          },
          "metadata": {
            "tags": []
          },
          "execution_count": 6
        }
      ]
    },
    {
      "cell_type": "markdown",
      "metadata": {
        "id": "IgIylTOREnVu"
      },
      "source": [
        "**LDA**"
      ]
    },
    {
      "cell_type": "code",
      "metadata": {
        "id": "d048blQqEmog"
      },
      "source": [
        "from sklearn.feature_extraction.text import CountVectorizer, TfidfVectorizer\n",
        "from sklearn.decomposition import LatentDirichletAllocation, NMF\n",
        "from sklearn.feature_extraction import text "
      ],
      "execution_count": 7,
      "outputs": []
    },
    {
      "cell_type": "code",
      "metadata": {
        "id": "ncFVkNsYFyUi"
      },
      "source": [
        "# Stop Words\n",
        "df_stopWords = pd.read_csv(\"Stop_words.csv\")['Word']\n",
        "stopWords = text.ENGLISH_STOP_WORDS.union(df_stopWords)"
      ],
      "execution_count": 8,
      "outputs": []
    },
    {
      "cell_type": "code",
      "metadata": {
        "colab": {
          "base_uri": "https://localhost:8080/"
        },
        "id": "T8uTiOMSG45B",
        "outputId": "9112e1d4-4db4-480e-bd60-ee40b3fda84b"
      },
      "source": [
        "df_master['Description'].shape"
      ],
      "execution_count": 9,
      "outputs": [
        {
          "output_type": "execute_result",
          "data": {
            "text/plain": [
              "(103346,)"
            ]
          },
          "metadata": {
            "tags": []
          },
          "execution_count": 9
        }
      ]
    },
    {
      "cell_type": "code",
      "metadata": {
        "id": "gq20OsH4E4pn"
      },
      "source": [
        "# Count Vectorizer on Description column\n",
        "cv = CountVectorizer(max_df=0.95, min_df=2, stop_words=stopWords, max_features=500)\n",
        "cv_model = cv.fit(df_master['Description'])"
      ],
      "execution_count": 10,
      "outputs": []
    },
    {
      "cell_type": "code",
      "metadata": {
        "id": "8pVtiwz5KYXF"
      },
      "source": [
        "dtm = cv_model.transform(df_master['Description'])"
      ],
      "execution_count": 11,
      "outputs": []
    },
    {
      "cell_type": "code",
      "metadata": {
        "colab": {
          "base_uri": "https://localhost:8080/"
        },
        "id": "kc8HACM9FWS2",
        "outputId": "a9340667-89fc-4b30-d173-80ad3ce51668"
      },
      "source": [
        "LDA = LatentDirichletAllocation(n_components=50,random_state=42)\n",
        "LDA.fit(dtm)"
      ],
      "execution_count": 12,
      "outputs": [
        {
          "output_type": "execute_result",
          "data": {
            "text/plain": [
              "LatentDirichletAllocation(batch_size=128, doc_topic_prior=None,\n",
              "                          evaluate_every=-1, learning_decay=0.7,\n",
              "                          learning_method='batch', learning_offset=10.0,\n",
              "                          max_doc_update_iter=100, max_iter=10,\n",
              "                          mean_change_tol=0.001, n_components=50, n_jobs=None,\n",
              "                          perp_tol=0.1, random_state=42, topic_word_prior=None,\n",
              "                          total_samples=1000000.0, verbose=0)"
            ]
          },
          "metadata": {
            "tags": []
          },
          "execution_count": 12
        }
      ]
    },
    {
      "cell_type": "code",
      "metadata": {
        "id": "b9hCgA7UKlng"
      },
      "source": [
        "# Save LDA Model\n",
        "pickle.dump(LDA, open('LDA_models_50.pkl', 'wb'))"
      ],
      "execution_count": 13,
      "outputs": []
    },
    {
      "cell_type": "code",
      "metadata": {
        "id": "8J_hVzRGOe7o"
      },
      "source": [
        "# Save countvectorizer model\n",
        "pickle.dump(cv_model, open('CV_model.pkl', 'wb'))"
      ],
      "execution_count": 15,
      "outputs": []
    },
    {
      "cell_type": "code",
      "metadata": {
        "colab": {
          "base_uri": "https://localhost:8080/"
        },
        "id": "8leRZ04GNrTj",
        "outputId": "4d4dfe46-0e6a-4cae-fbc2-16c143d46ceb"
      },
      "source": [
        "LDA.transform(dtm).argmax(axis=1)"
      ],
      "execution_count": 14,
      "outputs": [
        {
          "output_type": "execute_result",
          "data": {
            "text/plain": [
              "array([ 3, 13, 45, ...,  0,  6, 22])"
            ]
          },
          "metadata": {
            "tags": []
          },
          "execution_count": 14
        }
      ]
    },
    {
      "cell_type": "markdown",
      "metadata": {
        "id": "G6jOxTJFQ9rR"
      },
      "source": [
        "**Prediction and Show top 10 cluster**"
      ]
    },
    {
      "cell_type": "markdown",
      "metadata": {
        "id": "71nIvtIWTCKQ"
      },
      "source": [
        "*Assign topic label and save*"
      ]
    },
    {
      "cell_type": "code",
      "metadata": {
        "colab": {
          "base_uri": "https://localhost:8080/",
          "height": 362
        },
        "id": "zrzDGezzjL7z",
        "outputId": "5b5d6d2f-30b4-4b11-a7e9-f979354249ef"
      },
      "source": [
        "columns = ['Number', 'Priority', 'Incident_area', \n",
        "           'Short_description', 'Description', 'Assignment_group', 'Resolution_notes']\n",
        "\n",
        "df_LDA = df_master[columns].copy()\n",
        "df_LDA['topic'] = LDA.transform(dtm).argmax(axis=1)\n",
        "df_LDA.head()"
      ],
      "execution_count": 17,
      "outputs": [
        {
          "output_type": "execute_result",
          "data": {
            "text/html": [
              "<div>\n",
              "<style scoped>\n",
              "    .dataframe tbody tr th:only-of-type {\n",
              "        vertical-align: middle;\n",
              "    }\n",
              "\n",
              "    .dataframe tbody tr th {\n",
              "        vertical-align: top;\n",
              "    }\n",
              "\n",
              "    .dataframe thead th {\n",
              "        text-align: right;\n",
              "    }\n",
              "</style>\n",
              "<table border=\"1\" class=\"dataframe\">\n",
              "  <thead>\n",
              "    <tr style=\"text-align: right;\">\n",
              "      <th></th>\n",
              "      <th>Number</th>\n",
              "      <th>Priority</th>\n",
              "      <th>Incident_area</th>\n",
              "      <th>Short_description</th>\n",
              "      <th>Description</th>\n",
              "      <th>Assignment_group</th>\n",
              "      <th>Resolution_notes</th>\n",
              "      <th>topic</th>\n",
              "    </tr>\n",
              "  </thead>\n",
              "  <tbody>\n",
              "    <tr>\n",
              "      <th>0</th>\n",
              "      <td>INC0284448</td>\n",
              "      <td>P2 - High</td>\n",
              "      <td>SAP :: Sonda Procwork (PRW)</td>\n",
              "      <td>VF - Not working</td>\n",
              "      <td>Please, the transaction VF is not working, we ...</td>\n",
              "      <td>IMT APS SAP Order to Cash L2</td>\n",
              "      <td>Hello Daniel,Many thanks for your reply, at ti...</td>\n",
              "      <td>3</td>\n",
              "    </tr>\n",
              "    <tr>\n",
              "      <th>1</th>\n",
              "      <td>INC0284449</td>\n",
              "      <td>P4 - Low</td>\n",
              "      <td>SAP :: Technical</td>\n",
              "      <td>Enqueue Processing</td>\n",
              "      <td>Alert Details: Name....................Enqueue...</td>\n",
              "      <td>IMT TCS SAP Basis</td>\n",
              "      <td>Monitoring the lock entries in P via incident ...</td>\n",
              "      <td>13</td>\n",
              "    </tr>\n",
              "    <tr>\n",
              "      <th>2</th>\n",
              "      <td>INC0180368</td>\n",
              "      <td>P2 - High</td>\n",
              "      <td>Infrastructure &amp; Servers :: Server (physical/v...</td>\n",
              "      <td>GOYCSMDC.ds.givaudan.com (Server does not comm...</td>\n",
              "      <td>Dear Team,We received a ticket from our monito...</td>\n",
              "      <td>IMT NLI Ops EAME</td>\n",
              "      <td>There was a planned maintenance onsite that wa...</td>\n",
              "      <td>45</td>\n",
              "    </tr>\n",
              "    <tr>\n",
              "      <th>3</th>\n",
              "      <td>INC0180373</td>\n",
              "      <td>P3 - Moderate</td>\n",
              "      <td>SAP :: Order to Cash (OTC)</td>\n",
              "      <td>I cant connect to ESKER PRD &amp; UAT</td>\n",
              "      <td>I already got access for ESKER QA, UAT &amp; PRD. ...</td>\n",
              "      <td>IMT Desktop Infra Support Indonesia</td>\n",
              "      <td>User confirmed issue was solved</td>\n",
              "      <td>6</td>\n",
              "    </tr>\n",
              "    <tr>\n",
              "      <th>4</th>\n",
              "      <td>INC0180380</td>\n",
              "      <td>P3 - Moderate</td>\n",
              "      <td>Business Application :: Google</td>\n",
              "      <td>I cannot access my google drive shortcut from ...</td>\n",
              "      <td>I cannot access my google drive shortcut from ...</td>\n",
              "      <td>IMT Service Desk AME</td>\n",
              "      <td>User G drive was inactive, i reconfigured it, ...</td>\n",
              "      <td>40</td>\n",
              "    </tr>\n",
              "  </tbody>\n",
              "</table>\n",
              "</div>"
            ],
            "text/plain": [
              "       Number  ... topic\n",
              "0  INC0284448  ...     3\n",
              "1  INC0284449  ...    13\n",
              "2  INC0180368  ...    45\n",
              "3  INC0180373  ...     6\n",
              "4  INC0180380  ...    40\n",
              "\n",
              "[5 rows x 8 columns]"
            ]
          },
          "metadata": {
            "tags": []
          },
          "execution_count": 17
        }
      ]
    },
    {
      "cell_type": "code",
      "metadata": {
        "id": "7DaO1Hhvj58K"
      },
      "source": [
        "df_LDA.to_csv(\"topic_data.csv\", index = False)"
      ],
      "execution_count": 18,
      "outputs": []
    },
    {
      "cell_type": "markdown",
      "metadata": {
        "id": "3WvI-2diTj76"
      },
      "source": [
        "*Top 10 cluster*"
      ]
    },
    {
      "cell_type": "code",
      "metadata": {
        "id": "Lbh-drOMfjhi",
        "colab": {
          "base_uri": "https://localhost:8080/"
        },
        "outputId": "0847da40-83f1-41dc-947c-b185c10797fa"
      },
      "source": [
        "hist_top_10 = df_LDA['topic'].value_counts().sort_values()[-10:]\n",
        "hist_top_10"
      ],
      "execution_count": 20,
      "outputs": [
        {
          "output_type": "execute_result",
          "data": {
            "text/plain": [
              "41    3293\n",
              "12    3297\n",
              "22    3376\n",
              "18    3557\n",
              "33    3569\n",
              "34    4319\n",
              "5     5371\n",
              "2     7502\n",
              "3     7953\n",
              "0     9902\n",
              "Name: topic, dtype: int64"
            ]
          },
          "metadata": {
            "tags": []
          },
          "execution_count": 20
        }
      ]
    },
    {
      "cell_type": "code",
      "metadata": {
        "colab": {
          "base_uri": "https://localhost:8080/",
          "height": 404
        },
        "id": "X2hVG98CP0B8",
        "outputId": "e1dd9f9e-8f33-4c25-885a-ef370ef9118a"
      },
      "source": [
        "ax = hist_top_10.plot.barh(title='Top 10 clusters', figsize=(6, 6))\n",
        "ax.set_ylabel('cluster')\n",
        "ax.set_xlabel('number of tickets')\n",
        "pass"
      ],
      "execution_count": 21,
      "outputs": [
        {
          "output_type": "display_data",
          "data": {
            "image/png": "[encoded data removed]",
            "text/plain": [
              "<Figure size 432x432 with 1 Axes>"
            ]
          },
          "metadata": {
            "tags": [],
            "needs_background": "light"
          }
        }
      ]
    },
    {
      "cell_type": "code",
      "metadata": {
        "id": "5-dLmDbbP0XY"
      },
      "source": [
        "# Save\n",
        "ax.figure.savefig('top_10.png', dpi=ax.figure.dpi)"
      ],
      "execution_count": 22,
      "outputs": []
    },
    {
      "cell_type": "code",
      "metadata": {
        "id": "XL_KCsmTS0T0",
        "colab": {
          "base_uri": "https://localhost:8080/"
        },
        "outputId": "1979e628-acda-4373-acc5-f07952a4be31"
      },
      "source": [
        "hist_top_10.index"
      ],
      "execution_count": 23,
      "outputs": [
        {
          "output_type": "execute_result",
          "data": {
            "text/plain": [
              "Int64Index([41, 12, 22, 18, 33, 34, 5, 2, 3, 0], dtype='int64')"
            ]
          },
          "metadata": {
            "tags": []
          },
          "execution_count": 23
        }
      ]
    },
    {
      "cell_type": "markdown",
      "metadata": {
        "id": "SBAtg2M2S0QD"
      },
      "source": [
        "*Test*"
      ]
    },
    {
      "cell_type": "code",
      "metadata": {
        "id": "-KxwZ5QIOe01"
      },
      "source": [
        "text = \"Hi Team, Bank statement file for ID13 HR has not been automatically uploaded since Jan 1. ID13 DB statement 31.12.2019 (IDR & EUR) not upload into SAP. Today is our closing day and the statement need to be posted and settle by today. Kindly assist. I will upload the txt file manually if needed.\"\n",
        "data_test = cv_model.transform([text])"
      ],
      "execution_count": 24,
      "outputs": []
    },
    {
      "cell_type": "code",
      "metadata": {
        "id": "c6IJ1NvHOe3y"
      },
      "source": [
        "pred = LDA.transform(data_test).argmax(axis=1)"
      ],
      "execution_count": 25,
      "outputs": []
    },
    {
      "cell_type": "code",
      "metadata": {
        "id": "07vHPfhmQ7QP"
      },
      "source": [
        "import joblib\n",
        "test_cv_model = joblib.load(\"CV_model.pkl\")\n",
        "test = test_cv_model.transform([text])"
      ],
      "execution_count": 26,
      "outputs": []
    },
    {
      "cell_type": "code",
      "metadata": {
        "colab": {
          "base_uri": "https://localhost:8080/"
        },
        "id": "ZpvczmvLVcM_",
        "outputId": "0cb3045c-4b3f-4e3a-ad4a-3c2b633a43db"
      },
      "source": [
        "topic = LDA.components_[pred[0]]\n",
        "[cv_model.get_feature_names()[i] for i in topic.argsort()[-10:]]\n",
        "# topic.argsort()[-15:]\n",
        "# topic.shape"
      ],
      "execution_count": 27,
      "outputs": [
        {
          "output_type": "execute_result",
          "data": {
            "text/plain": [
              "['action',\n",
              " 'share',\n",
              " 'scan',\n",
              " 'path',\n",
              " 'detected',\n",
              " 'installed',\n",
              " 'files',\n",
              " 'ip',\n",
              " 'machine',\n",
              " 'file']"
            ]
          },
          "metadata": {
            "tags": []
          },
          "execution_count": 27
        }
      ]
    },
    {
      "cell_type": "markdown",
      "metadata": {
        "id": "bqqgTEeCgeB7"
      },
      "source": [
        "**Kmeans-Cluster**"
      ]
    },
    {
      "cell_type": "code",
      "metadata": {
        "id": "DwXvvDFsgoOP"
      },
      "source": [
        "from sklearn.cluster import KMeans\n",
        "import matplotlib.pyplot as plt"
      ],
      "execution_count": null,
      "outputs": []
    },
    {
      "cell_type": "code",
      "metadata": {
        "id": "w7IUjs9lfh79"
      },
      "source": [
        "K = [5, 30, 50, 100, 300, 900]"
      ],
      "execution_count": null,
      "outputs": []
    },
    {
      "cell_type": "code",
      "metadata": {
        "id": "-fUTw6M0gr8V"
      },
      "source": [
        "distortions = []\n",
        "\n",
        "for k in K:\n",
        "    kmeans = KMeans(n_clusters=k)\n",
        "    kmeans.fit(embedded_data)\n",
        "    distortions.append(kmeans.inertia_)"
      ],
      "execution_count": null,
      "outputs": []
    },
    {
      "cell_type": "code",
      "metadata": {
        "colab": {
          "base_uri": "https://localhost:8080/",
          "height": 533
        },
        "id": "gnXpZVvphMaq",
        "outputId": "962f833d-043d-43f7-fb46-a44b792b4737"
      },
      "source": [
        "plt.figure(figsize=(16,8))\n",
        "plt.plot(K, distortions, 'bx-')\n",
        "plt.xlabel('k')\n",
        "plt.ylabel('Distortion')\n",
        "plt.title('The Elbow Method showing the optimal k')\n",
        "plt.show()"
      ],
      "execution_count": null,
      "outputs": [
        {
          "output_type": "display_data",
          "data": {
            "image/png": "[encoded data removed]",
            "text/plain": [
              "<Figure size 1152x576 with 1 Axes>"
            ]
          },
          "metadata": {
            "tags": [],
            "needs_background": "light"
          }
        }
      ]
    },
    {
      "cell_type": "code",
      "metadata": {
        "colab": {
          "base_uri": "https://localhost:8080/"
        },
        "id": "f0jYVHcWhT2B",
        "outputId": "e9732036-4461-48ab-dfd8-ed1266974dd5"
      },
      "source": [
        "kmeansModel = KMeans(n_clusters=50)\n",
        "kmeansModel.fit(embedded_data)"
      ],
      "execution_count": null,
      "outputs": [
        {
          "output_type": "execute_result",
          "data": {
            "text/plain": [
              "KMeans(algorithm='auto', copy_x=True, init='k-means++', max_iter=300,\n",
              "       n_clusters=50, n_init=10, n_jobs=None, precompute_distances='auto',\n",
              "       random_state=None, tol=0.0001, verbose=0)"
            ]
          },
          "metadata": {
            "tags": []
          },
          "execution_count": 126
        }
      ]
    },
    {
      "cell_type": "markdown",
      "metadata": {
        "id": "ujpK2DkM3CV5"
      },
      "source": [
        "*Saving the model*"
      ]
    },
    {
      "cell_type": "code",
      "metadata": {
        "id": "YY-PnL8b25g5"
      },
      "source": [
        "pickle.dump(kmeansModel, open('kmeans_model_50.pkl', 'wb'))"
      ],
      "execution_count": null,
      "outputs": []
    },
    {
      "cell_type": "markdown",
      "metadata": {
        "id": "RQr_tkD73Tde"
      },
      "source": [
        "**GMM Clustering**"
      ]
    },
    {
      "cell_type": "code",
      "metadata": {
        "id": "BF88g0Oo3SU7"
      },
      "source": [
        "from sklearn.mixture import GaussianMixture\n",
        "import numpy as np"
      ],
      "execution_count": null,
      "outputs": []
    },
    {
      "cell_type": "code",
      "metadata": {
        "colab": {
          "base_uri": "https://localhost:8080/",
          "height": 488
        },
        "id": "tpFwOjX5DkNU",
        "outputId": "9666de7b-0255-4274-91fd-c68d530b33ea"
      },
      "source": [
        "lowest_bic = np.infty\n",
        "bic = []\n",
        "n_components_range = [5, 30, 50, 100, 300, 900]\n",
        "\n",
        "for n_components in n_components_range:\n",
        "    # Fit a Gaussian mixture with EM\n",
        "    gmm = GaussianMixture(n_components=n_components, covariance_type='full')\n",
        "    gmm.fit(embedded_data)\n",
        "    bic.append(gmm.bic(embedded_data))\n",
        "    if bic[-1] < lowest_bic:\n",
        "        lowest_bic = bic[-1]\n",
        "        best_gmm = gmm"
      ],
      "execution_count": null,
      "outputs": [
        {
          "output_type": "stream",
          "text": [
            "/usr/local/lib/python3.7/dist-packages/sklearn/mixture/_base.py:267: ConvergenceWarning: Initialization 1 did not converge. Try different init parameters, or increase max_iter, tol or check for degenerate data.\n",
            "  % (init + 1), ConvergenceWarning)\n"
          ],
          "name": "stderr"
        },
        {
          "output_type": "error",
          "ename": "KeyboardInterrupt",
          "evalue": "ignored",
          "traceback": [
            "\u001b[0;31m---------------------------------------------------------------------------\u001b[0m",
            "\u001b[0;31mKeyboardInterrupt\u001b[0m                         Traceback (most recent call last)",
            "\u001b[0;32m<ipython-input-14-880505f12a29>\u001b[0m in \u001b[0;36m<module>\u001b[0;34m()\u001b[0m\n\u001b[1;32m      6\u001b[0m     \u001b[0;31m# Fit a Gaussian mixture with EM\u001b[0m\u001b[0;34m\u001b[0m\u001b[0;34m\u001b[0m\u001b[0;34m\u001b[0m\u001b[0m\n\u001b[1;32m      7\u001b[0m     \u001b[0mgmm\u001b[0m \u001b[0;34m=\u001b[0m \u001b[0mGaussianMixture\u001b[0m\u001b[0;34m(\u001b[0m\u001b[0mn_components\u001b[0m\u001b[0;34m=\u001b[0m\u001b[0mn_components\u001b[0m\u001b[0;34m,\u001b[0m \u001b[0mcovariance_type\u001b[0m\u001b[0;34m=\u001b[0m\u001b[0;34m'full'\u001b[0m\u001b[0;34m)\u001b[0m\u001b[0;34m\u001b[0m\u001b[0;34m\u001b[0m\u001b[0m\n\u001b[0;32m----> 8\u001b[0;31m     \u001b[0mgmm\u001b[0m\u001b[0;34m.\u001b[0m\u001b[0mfit\u001b[0m\u001b[0;34m(\u001b[0m\u001b[0membedded_data\u001b[0m\u001b[0;34m)\u001b[0m\u001b[0;34m\u001b[0m\u001b[0;34m\u001b[0m\u001b[0m\n\u001b[0m\u001b[1;32m      9\u001b[0m     \u001b[0mbic\u001b[0m\u001b[0;34m.\u001b[0m\u001b[0mappend\u001b[0m\u001b[0;34m(\u001b[0m\u001b[0mgmm\u001b[0m\u001b[0;34m.\u001b[0m\u001b[0mbic\u001b[0m\u001b[0;34m(\u001b[0m\u001b[0membedded_data\u001b[0m\u001b[0;34m)\u001b[0m\u001b[0;34m)\u001b[0m\u001b[0;34m\u001b[0m\u001b[0;34m\u001b[0m\u001b[0m\n\u001b[1;32m     10\u001b[0m     \u001b[0;32mif\u001b[0m \u001b[0mbic\u001b[0m\u001b[0;34m[\u001b[0m\u001b[0;34m-\u001b[0m\u001b[0;36m1\u001b[0m\u001b[0;34m]\u001b[0m \u001b[0;34m<\u001b[0m \u001b[0mlowest_bic\u001b[0m\u001b[0;34m:\u001b[0m\u001b[0;34m\u001b[0m\u001b[0;34m\u001b[0m\u001b[0m\n",
            "\u001b[0;32m/usr/local/lib/python3.7/dist-packages/sklearn/mixture/_base.py\u001b[0m in \u001b[0;36mfit\u001b[0;34m(self, X, y)\u001b[0m\n\u001b[1;32m    190\u001b[0m         \u001b[0mself\u001b[0m\u001b[0;34m\u001b[0m\u001b[0;34m\u001b[0m\u001b[0m\n\u001b[1;32m    191\u001b[0m         \"\"\"\n\u001b[0;32m--> 192\u001b[0;31m         \u001b[0mself\u001b[0m\u001b[0;34m.\u001b[0m\u001b[0mfit_predict\u001b[0m\u001b[0;34m(\u001b[0m\u001b[0mX\u001b[0m\u001b[0;34m,\u001b[0m \u001b[0my\u001b[0m\u001b[0;34m)\u001b[0m\u001b[0;34m\u001b[0m\u001b[0;34m\u001b[0m\u001b[0m\n\u001b[0m\u001b[1;32m    193\u001b[0m         \u001b[0;32mreturn\u001b[0m \u001b[0mself\u001b[0m\u001b[0;34m\u001b[0m\u001b[0;34m\u001b[0m\u001b[0m\n\u001b[1;32m    194\u001b[0m \u001b[0;34m\u001b[0m\u001b[0m\n",
            "\u001b[0;32m/usr/local/lib/python3.7/dist-packages/sklearn/mixture/_base.py\u001b[0m in \u001b[0;36mfit_predict\u001b[0;34m(self, X, y)\u001b[0m\n\u001b[1;32m    241\u001b[0m                 \u001b[0mprev_lower_bound\u001b[0m \u001b[0;34m=\u001b[0m \u001b[0mlower_bound\u001b[0m\u001b[0;34m\u001b[0m\u001b[0;34m\u001b[0m\u001b[0m\n\u001b[1;32m    242\u001b[0m \u001b[0;34m\u001b[0m\u001b[0m\n\u001b[0;32m--> 243\u001b[0;31m                 \u001b[0mlog_prob_norm\u001b[0m\u001b[0;34m,\u001b[0m \u001b[0mlog_resp\u001b[0m \u001b[0;34m=\u001b[0m \u001b[0mself\u001b[0m\u001b[0;34m.\u001b[0m\u001b[0m_e_step\u001b[0m\u001b[0;34m(\u001b[0m\u001b[0mX\u001b[0m\u001b[0;34m)\u001b[0m\u001b[0;34m\u001b[0m\u001b[0;34m\u001b[0m\u001b[0m\n\u001b[0m\u001b[1;32m    244\u001b[0m                 \u001b[0mself\u001b[0m\u001b[0;34m.\u001b[0m\u001b[0m_m_step\u001b[0m\u001b[0;34m(\u001b[0m\u001b[0mX\u001b[0m\u001b[0;34m,\u001b[0m \u001b[0mlog_resp\u001b[0m\u001b[0;34m)\u001b[0m\u001b[0;34m\u001b[0m\u001b[0;34m\u001b[0m\u001b[0m\n\u001b[1;32m    245\u001b[0m                 lower_bound = self._compute_lower_bound(\n",
            "\u001b[0;32m/usr/local/lib/python3.7/dist-packages/sklearn/mixture/_base.py\u001b[0m in \u001b[0;36m_e_step\u001b[0;34m(self, X)\u001b[0m\n\u001b[1;32m    294\u001b[0m             \u001b[0mthe\u001b[0m \u001b[0mpoint\u001b[0m \u001b[0mof\u001b[0m \u001b[0meach\u001b[0m \u001b[0msample\u001b[0m \u001b[0;32min\u001b[0m \u001b[0mX\u001b[0m\u001b[0;34m.\u001b[0m\u001b[0;34m\u001b[0m\u001b[0;34m\u001b[0m\u001b[0m\n\u001b[1;32m    295\u001b[0m         \"\"\"\n\u001b[0;32m--> 296\u001b[0;31m         \u001b[0mlog_prob_norm\u001b[0m\u001b[0;34m,\u001b[0m \u001b[0mlog_resp\u001b[0m \u001b[0;34m=\u001b[0m \u001b[0mself\u001b[0m\u001b[0;34m.\u001b[0m\u001b[0m_estimate_log_prob_resp\u001b[0m\u001b[0;34m(\u001b[0m\u001b[0mX\u001b[0m\u001b[0;34m)\u001b[0m\u001b[0;34m\u001b[0m\u001b[0;34m\u001b[0m\u001b[0m\n\u001b[0m\u001b[1;32m    297\u001b[0m         \u001b[0;32mreturn\u001b[0m \u001b[0mnp\u001b[0m\u001b[0;34m.\u001b[0m\u001b[0mmean\u001b[0m\u001b[0;34m(\u001b[0m\u001b[0mlog_prob_norm\u001b[0m\u001b[0;34m)\u001b[0m\u001b[0;34m,\u001b[0m \u001b[0mlog_resp\u001b[0m\u001b[0;34m\u001b[0m\u001b[0;34m\u001b[0m\u001b[0m\n\u001b[1;32m    298\u001b[0m \u001b[0;34m\u001b[0m\u001b[0m\n",
            "\u001b[0;32m/usr/local/lib/python3.7/dist-packages/sklearn/mixture/_base.py\u001b[0m in \u001b[0;36m_estimate_log_prob_resp\u001b[0;34m(self, X)\u001b[0m\n\u001b[1;32m    499\u001b[0m             \u001b[0mlogarithm\u001b[0m \u001b[0mof\u001b[0m \u001b[0mthe\u001b[0m \u001b[0mresponsibilities\u001b[0m\u001b[0;34m\u001b[0m\u001b[0;34m\u001b[0m\u001b[0m\n\u001b[1;32m    500\u001b[0m         \"\"\"\n\u001b[0;32m--> 501\u001b[0;31m         \u001b[0mweighted_log_prob\u001b[0m \u001b[0;34m=\u001b[0m \u001b[0mself\u001b[0m\u001b[0;34m.\u001b[0m\u001b[0m_estimate_weighted_log_prob\u001b[0m\u001b[0;34m(\u001b[0m\u001b[0mX\u001b[0m\u001b[0;34m)\u001b[0m\u001b[0;34m\u001b[0m\u001b[0;34m\u001b[0m\u001b[0m\n\u001b[0m\u001b[1;32m    502\u001b[0m         \u001b[0mlog_prob_norm\u001b[0m \u001b[0;34m=\u001b[0m \u001b[0mlogsumexp\u001b[0m\u001b[0;34m(\u001b[0m\u001b[0mweighted_log_prob\u001b[0m\u001b[0;34m,\u001b[0m \u001b[0maxis\u001b[0m\u001b[0;34m=\u001b[0m\u001b[0;36m1\u001b[0m\u001b[0;34m)\u001b[0m\u001b[0;34m\u001b[0m\u001b[0;34m\u001b[0m\u001b[0m\n\u001b[1;32m    503\u001b[0m         \u001b[0;32mwith\u001b[0m \u001b[0mnp\u001b[0m\u001b[0;34m.\u001b[0m\u001b[0merrstate\u001b[0m\u001b[0;34m(\u001b[0m\u001b[0munder\u001b[0m\u001b[0;34m=\u001b[0m\u001b[0;34m'ignore'\u001b[0m\u001b[0;34m)\u001b[0m\u001b[0;34m:\u001b[0m\u001b[0;34m\u001b[0m\u001b[0;34m\u001b[0m\u001b[0m\n",
            "\u001b[0;32m/usr/local/lib/python3.7/dist-packages/sklearn/mixture/_base.py\u001b[0m in \u001b[0;36m_estimate_weighted_log_prob\u001b[0;34m(self, X)\u001b[0m\n\u001b[1;32m    452\u001b[0m         \u001b[0mweighted_log_prob\u001b[0m \u001b[0;34m:\u001b[0m \u001b[0marray\u001b[0m\u001b[0;34m,\u001b[0m \u001b[0mshape\u001b[0m \u001b[0;34m(\u001b[0m\u001b[0mn_samples\u001b[0m\u001b[0;34m,\u001b[0m \u001b[0mn_component\u001b[0m\u001b[0;34m)\u001b[0m\u001b[0;34m\u001b[0m\u001b[0;34m\u001b[0m\u001b[0m\n\u001b[1;32m    453\u001b[0m         \"\"\"\n\u001b[0;32m--> 454\u001b[0;31m         \u001b[0;32mreturn\u001b[0m \u001b[0mself\u001b[0m\u001b[0;34m.\u001b[0m\u001b[0m_estimate_log_prob\u001b[0m\u001b[0;34m(\u001b[0m\u001b[0mX\u001b[0m\u001b[0;34m)\u001b[0m \u001b[0;34m+\u001b[0m \u001b[0mself\u001b[0m\u001b[0;34m.\u001b[0m\u001b[0m_estimate_log_weights\u001b[0m\u001b[0;34m(\u001b[0m\u001b[0;34m)\u001b[0m\u001b[0;34m\u001b[0m\u001b[0;34m\u001b[0m\u001b[0m\n\u001b[0m\u001b[1;32m    455\u001b[0m \u001b[0;34m\u001b[0m\u001b[0m\n\u001b[1;32m    456\u001b[0m     \u001b[0;34m@\u001b[0m\u001b[0mabstractmethod\u001b[0m\u001b[0;34m\u001b[0m\u001b[0;34m\u001b[0m\u001b[0m\n",
            "\u001b[0;32m/usr/local/lib/python3.7/dist-packages/sklearn/mixture/_gaussian_mixture.py\u001b[0m in \u001b[0;36m_estimate_log_prob\u001b[0;34m(self, X)\u001b[0m\n\u001b[1;32m    679\u001b[0m     \u001b[0;32mdef\u001b[0m \u001b[0m_estimate_log_prob\u001b[0m\u001b[0;34m(\u001b[0m\u001b[0mself\u001b[0m\u001b[0;34m,\u001b[0m \u001b[0mX\u001b[0m\u001b[0;34m)\u001b[0m\u001b[0;34m:\u001b[0m\u001b[0;34m\u001b[0m\u001b[0;34m\u001b[0m\u001b[0m\n\u001b[1;32m    680\u001b[0m         return _estimate_log_gaussian_prob(\n\u001b[0;32m--> 681\u001b[0;31m             X, self.means_, self.precisions_cholesky_, self.covariance_type)\n\u001b[0m\u001b[1;32m    682\u001b[0m \u001b[0;34m\u001b[0m\u001b[0m\n\u001b[1;32m    683\u001b[0m     \u001b[0;32mdef\u001b[0m \u001b[0m_estimate_log_weights\u001b[0m\u001b[0;34m(\u001b[0m\u001b[0mself\u001b[0m\u001b[0;34m)\u001b[0m\u001b[0;34m:\u001b[0m\u001b[0;34m\u001b[0m\u001b[0;34m\u001b[0m\u001b[0m\n",
            "\u001b[0;32m/usr/local/lib/python3.7/dist-packages/sklearn/mixture/_gaussian_mixture.py\u001b[0m in \u001b[0;36m_estimate_log_gaussian_prob\u001b[0;34m(X, means, precisions_chol, covariance_type)\u001b[0m\n\u001b[1;32m    409\u001b[0m         \u001b[0mlog_prob\u001b[0m \u001b[0;34m=\u001b[0m \u001b[0mnp\u001b[0m\u001b[0;34m.\u001b[0m\u001b[0mempty\u001b[0m\u001b[0;34m(\u001b[0m\u001b[0;34m(\u001b[0m\u001b[0mn_samples\u001b[0m\u001b[0;34m,\u001b[0m \u001b[0mn_components\u001b[0m\u001b[0;34m)\u001b[0m\u001b[0;34m)\u001b[0m\u001b[0;34m\u001b[0m\u001b[0;34m\u001b[0m\u001b[0m\n\u001b[1;32m    410\u001b[0m         \u001b[0;32mfor\u001b[0m \u001b[0mk\u001b[0m\u001b[0;34m,\u001b[0m \u001b[0;34m(\u001b[0m\u001b[0mmu\u001b[0m\u001b[0;34m,\u001b[0m \u001b[0mprec_chol\u001b[0m\u001b[0;34m)\u001b[0m \u001b[0;32min\u001b[0m \u001b[0menumerate\u001b[0m\u001b[0;34m(\u001b[0m\u001b[0mzip\u001b[0m\u001b[0;34m(\u001b[0m\u001b[0mmeans\u001b[0m\u001b[0;34m,\u001b[0m \u001b[0mprecisions_chol\u001b[0m\u001b[0;34m)\u001b[0m\u001b[0;34m)\u001b[0m\u001b[0;34m:\u001b[0m\u001b[0;34m\u001b[0m\u001b[0;34m\u001b[0m\u001b[0m\n\u001b[0;32m--> 411\u001b[0;31m             \u001b[0my\u001b[0m \u001b[0;34m=\u001b[0m \u001b[0mnp\u001b[0m\u001b[0;34m.\u001b[0m\u001b[0mdot\u001b[0m\u001b[0;34m(\u001b[0m\u001b[0mX\u001b[0m\u001b[0;34m,\u001b[0m \u001b[0mprec_chol\u001b[0m\u001b[0;34m)\u001b[0m \u001b[0;34m-\u001b[0m \u001b[0mnp\u001b[0m\u001b[0;34m.\u001b[0m\u001b[0mdot\u001b[0m\u001b[0;34m(\u001b[0m\u001b[0mmu\u001b[0m\u001b[0;34m,\u001b[0m \u001b[0mprec_chol\u001b[0m\u001b[0;34m)\u001b[0m\u001b[0;34m\u001b[0m\u001b[0;34m\u001b[0m\u001b[0m\n\u001b[0m\u001b[1;32m    412\u001b[0m             \u001b[0mlog_prob\u001b[0m\u001b[0;34m[\u001b[0m\u001b[0;34m:\u001b[0m\u001b[0;34m,\u001b[0m \u001b[0mk\u001b[0m\u001b[0;34m]\u001b[0m \u001b[0;34m=\u001b[0m \u001b[0mnp\u001b[0m\u001b[0;34m.\u001b[0m\u001b[0msum\u001b[0m\u001b[0;34m(\u001b[0m\u001b[0mnp\u001b[0m\u001b[0;34m.\u001b[0m\u001b[0msquare\u001b[0m\u001b[0;34m(\u001b[0m\u001b[0my\u001b[0m\u001b[0;34m)\u001b[0m\u001b[0;34m,\u001b[0m \u001b[0maxis\u001b[0m\u001b[0;34m=\u001b[0m\u001b[0;36m1\u001b[0m\u001b[0;34m)\u001b[0m\u001b[0;34m\u001b[0m\u001b[0;34m\u001b[0m\u001b[0m\n\u001b[1;32m    413\u001b[0m \u001b[0;34m\u001b[0m\u001b[0m\n",
            "\u001b[0;32m<__array_function__ internals>\u001b[0m in \u001b[0;36mdot\u001b[0;34m(*args, **kwargs)\u001b[0m\n",
            "\u001b[0;31mKeyboardInterrupt\u001b[0m: "
          ]
        }
      ]
    },
    {
      "cell_type": "code",
      "metadata": {
        "id": "-npq4EZ8EGob"
      },
      "source": [
        "best_gmm"
      ],
      "execution_count": null,
      "outputs": []
    }
  ]
}

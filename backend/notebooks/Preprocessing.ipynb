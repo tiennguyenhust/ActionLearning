{
 "cells": [
  {
   "cell_type": "markdown",
   "source": [
    "## In this notebook, we preprocess data by removing html tag, special character, meaningless word, ...\r\n",
    "\r\n",
    "- Result: Preprocessed Data csv file (but stil contains null data, we continue do this next notebook)"
   ],
   "metadata": {}
  },
  {
   "cell_type": "code",
   "execution_count": 1,
   "source": [
    "import pandas as pd\r\n",
    "import numpy as np\r\n",
    "\r\n",
    "import lxml.html\r\n",
    "import re\r\n",
    "from bs4 import BeautifulSoup"
   ],
   "outputs": [],
   "metadata": {}
  },
  {
   "cell_type": "markdown",
   "source": [
    "## Reading files"
   ],
   "metadata": {}
  },
  {
   "cell_type": "code",
   "execution_count": 2,
   "source": [
    "df_master = pd.read_csv('Extract_incidents.csv')"
   ],
   "outputs": [],
   "metadata": {}
  },
  {
   "cell_type": "code",
   "execution_count": 3,
   "source": [
    "df_master.head()"
   ],
   "outputs": [
    {
     "output_type": "execute_result",
     "data": {
      "text/plain": [
       "       Number       Priority  \\\n",
       "0  INC0284448      P2 - High   \n",
       "1  INC0284449       P4 - Low   \n",
       "2  INC0180368      P2 - High   \n",
       "3  INC0180373  P3 - Moderate   \n",
       "4  INC0180380  P3 - Moderate   \n",
       "\n",
       "                                       Incident area        Opened  \\\n",
       "0                        SAP :: Sonda Procwork (PRW)  44013.002951   \n",
       "1                                   SAP :: Technical  44013.003183   \n",
       "2  Infrastructure & Servers :: Server (physical/v...  43831.011447   \n",
       "3                         SAP :: Order to Cash (OTC)  43831.132951   \n",
       "4                     Business Application :: Google  43831.405255   \n",
       "\n",
       "         Closed  Status Problem Configuration item  \\\n",
       "0  44024.875023  Closed     NaN                NaN   \n",
       "1  44023.083368  Closed     NaN        SAP-ECC-PRD   \n",
       "2  43842.500012  Closed     NaN       GOYCSM0001DC   \n",
       "3  43871.625023  Closed     NaN                NaN   \n",
       "4  43841.416678  Closed     NaN                NaN   \n",
       "\n",
       "                                   Short description  \\\n",
       "0                                 VF01 - Not working   \n",
       "1                                Enqueue Processing    \n",
       "2  GOYCSM0001DC.ds.givaudan.com (Server does not ...   \n",
       "3                  I cant connect to ESKER PRD & UAT   \n",
       "4  I cannot access my google drive shortcut from ...   \n",
       "\n",
       "                                         Description  \\\n",
       "0  Please, the transaction VF01 is not working, w...   \n",
       "1  Alert Details:\\n Name....................Enque...   \n",
       "2  Dear Team,\\nWe received a ticket from our moni...   \n",
       "3  I already got access for ESKER QA, UAT & PRD. ...   \n",
       "4  I cannot access my google drive shortcut from ...   \n",
       "\n",
       "                      Assignment group  \\\n",
       "0         IMT APS SAP Order to Cash L2   \n",
       "1                    IMT TCS SAP Basis   \n",
       "2                     IMT NLI Ops EAME   \n",
       "3  IMT Desktop Infra Support Indonesia   \n",
       "4                 IMT Service Desk AME   \n",
       "\n",
       "                                    Resolution notes  Reassignment count  \\\n",
       "0  Hello Daniel,\\n\\nMany thanks for your reply, a...                 1.0   \n",
       "1  Monitoring the lock entries in P01 via inciden...                 0.0   \n",
       "2  There was a planned maintenance onsite that wa...                 1.0   \n",
       "3                    User confirmed issue was solved                 3.0   \n",
       "4  User G drive was inactive, i reconfigured it, ...                 0.0   \n",
       "\n",
       "   Resolve time  \n",
       "0      158300.0  \n",
       "1        5694.0  \n",
       "2      126566.0  \n",
       "3     1919058.0  \n",
       "4         128.0  "
      ],
      "text/html": [
       "<div>\n",
       "<style scoped>\n",
       "    .dataframe tbody tr th:only-of-type {\n",
       "        vertical-align: middle;\n",
       "    }\n",
       "\n",
       "    .dataframe tbody tr th {\n",
       "        vertical-align: top;\n",
       "    }\n",
       "\n",
       "    .dataframe thead th {\n",
       "        text-align: right;\n",
       "    }\n",
       "</style>\n",
       "<table border=\"1\" class=\"dataframe\">\n",
       "  <thead>\n",
       "    <tr style=\"text-align: right;\">\n",
       "      <th></th>\n",
       "      <th>Number</th>\n",
       "      <th>Priority</th>\n",
       "      <th>Incident area</th>\n",
       "      <th>Opened</th>\n",
       "      <th>Closed</th>\n",
       "      <th>Status</th>\n",
       "      <th>Problem</th>\n",
       "      <th>Configuration item</th>\n",
       "      <th>Short description</th>\n",
       "      <th>Description</th>\n",
       "      <th>Assignment group</th>\n",
       "      <th>Resolution notes</th>\n",
       "      <th>Reassignment count</th>\n",
       "      <th>Resolve time</th>\n",
       "    </tr>\n",
       "  </thead>\n",
       "  <tbody>\n",
       "    <tr>\n",
       "      <th>0</th>\n",
       "      <td>INC0284448</td>\n",
       "      <td>P2 - High</td>\n",
       "      <td>SAP :: Sonda Procwork (PRW)</td>\n",
       "      <td>44013.002951</td>\n",
       "      <td>44024.875023</td>\n",
       "      <td>Closed</td>\n",
       "      <td>NaN</td>\n",
       "      <td>NaN</td>\n",
       "      <td>VF01 - Not working</td>\n",
       "      <td>Please, the transaction VF01 is not working, w...</td>\n",
       "      <td>IMT APS SAP Order to Cash L2</td>\n",
       "      <td>Hello Daniel,\\n\\nMany thanks for your reply, a...</td>\n",
       "      <td>1.0</td>\n",
       "      <td>158300.0</td>\n",
       "    </tr>\n",
       "    <tr>\n",
       "      <th>1</th>\n",
       "      <td>INC0284449</td>\n",
       "      <td>P4 - Low</td>\n",
       "      <td>SAP :: Technical</td>\n",
       "      <td>44013.003183</td>\n",
       "      <td>44023.083368</td>\n",
       "      <td>Closed</td>\n",
       "      <td>NaN</td>\n",
       "      <td>SAP-ECC-PRD</td>\n",
       "      <td>Enqueue Processing</td>\n",
       "      <td>Alert Details:\\n Name....................Enque...</td>\n",
       "      <td>IMT TCS SAP Basis</td>\n",
       "      <td>Monitoring the lock entries in P01 via inciden...</td>\n",
       "      <td>0.0</td>\n",
       "      <td>5694.0</td>\n",
       "    </tr>\n",
       "    <tr>\n",
       "      <th>2</th>\n",
       "      <td>INC0180368</td>\n",
       "      <td>P2 - High</td>\n",
       "      <td>Infrastructure &amp; Servers :: Server (physical/v...</td>\n",
       "      <td>43831.011447</td>\n",
       "      <td>43842.500012</td>\n",
       "      <td>Closed</td>\n",
       "      <td>NaN</td>\n",
       "      <td>GOYCSM0001DC</td>\n",
       "      <td>GOYCSM0001DC.ds.givaudan.com (Server does not ...</td>\n",
       "      <td>Dear Team,\\nWe received a ticket from our moni...</td>\n",
       "      <td>IMT NLI Ops EAME</td>\n",
       "      <td>There was a planned maintenance onsite that wa...</td>\n",
       "      <td>1.0</td>\n",
       "      <td>126566.0</td>\n",
       "    </tr>\n",
       "    <tr>\n",
       "      <th>3</th>\n",
       "      <td>INC0180373</td>\n",
       "      <td>P3 - Moderate</td>\n",
       "      <td>SAP :: Order to Cash (OTC)</td>\n",
       "      <td>43831.132951</td>\n",
       "      <td>43871.625023</td>\n",
       "      <td>Closed</td>\n",
       "      <td>NaN</td>\n",
       "      <td>NaN</td>\n",
       "      <td>I cant connect to ESKER PRD &amp; UAT</td>\n",
       "      <td>I already got access for ESKER QA, UAT &amp; PRD. ...</td>\n",
       "      <td>IMT Desktop Infra Support Indonesia</td>\n",
       "      <td>User confirmed issue was solved</td>\n",
       "      <td>3.0</td>\n",
       "      <td>1919058.0</td>\n",
       "    </tr>\n",
       "    <tr>\n",
       "      <th>4</th>\n",
       "      <td>INC0180380</td>\n",
       "      <td>P3 - Moderate</td>\n",
       "      <td>Business Application :: Google</td>\n",
       "      <td>43831.405255</td>\n",
       "      <td>43841.416678</td>\n",
       "      <td>Closed</td>\n",
       "      <td>NaN</td>\n",
       "      <td>NaN</td>\n",
       "      <td>I cannot access my google drive shortcut from ...</td>\n",
       "      <td>I cannot access my google drive shortcut from ...</td>\n",
       "      <td>IMT Service Desk AME</td>\n",
       "      <td>User G drive was inactive, i reconfigured it, ...</td>\n",
       "      <td>0.0</td>\n",
       "      <td>128.0</td>\n",
       "    </tr>\n",
       "  </tbody>\n",
       "</table>\n",
       "</div>"
      ]
     },
     "metadata": {},
     "execution_count": 3
    }
   ],
   "metadata": {}
  },
  {
   "cell_type": "markdown",
   "source": [
    "## Preprocess"
   ],
   "metadata": {}
  },
  {
   "cell_type": "code",
   "execution_count": 4,
   "source": [
    "df = df_master.copy()"
   ],
   "outputs": [],
   "metadata": {}
  },
  {
   "cell_type": "code",
   "execution_count": 5,
   "source": [
    "df.columns = df.columns.str.replace(' ','_')"
   ],
   "outputs": [],
   "metadata": {}
  },
  {
   "cell_type": "code",
   "execution_count": 6,
   "source": [
    "description = df['Description']"
   ],
   "outputs": [],
   "metadata": {}
  },
  {
   "cell_type": "markdown",
   "source": [
    "### Detect and remove html tags"
   ],
   "metadata": {}
  },
  {
   "cell_type": "code",
   "execution_count": 7,
   "source": [
    "def detect_html_tags(row):\r\n",
    "    if row is None:\r\n",
    "        return False\r\n",
    "    if re.search(\"<[^<]+?>|&([a-z0-9]+|#[0-9]{1,6}|#x[0-9a-f]{1,6});\", str(row)):\r\n",
    "        return True\r\n",
    "#     return lxml.html.fromstring(str(row)).find('.//*') is not None\r\n",
    "    return False"
   ],
   "outputs": [],
   "metadata": {}
  },
  {
   "cell_type": "code",
   "execution_count": 8,
   "source": [
    "def remove_html_tags(row):\r\n",
    "    return re.sub(re.compile('<[^<]+?>|&([a-z0-9]+|#[0-9]{1,6}|#x[0-9a-f]{1,6});'), '', str(row))"
   ],
   "outputs": [],
   "metadata": {}
  },
  {
   "cell_type": "code",
   "execution_count": 9,
   "source": [
    "def remove_html_tags_v2(row):\r\n",
    "    return BeautifulSoup(str(row), \"lxml\").text"
   ],
   "outputs": [],
   "metadata": {}
  },
  {
   "cell_type": "code",
   "execution_count": 10,
   "source": [
    "def html_removal(df: pd.DataFrame) -> pd.DataFrame:\r\n",
    "    first_removal = df.apply(remove_html_tags)\r\n",
    "    remained_html_tags = first_removal.apply(detect_html_tags)\r\n",
    "    remain_df = df[remained_html_tags]\r\n",
    "    second_removal = remain_df.apply(remove_html_tags_v2)\r\n",
    "    first_removal[remained_html_tags] = second_removal\r\n",
    "    \r\n",
    "    return first_removal"
   ],
   "outputs": [],
   "metadata": {}
  },
  {
   "cell_type": "markdown",
   "source": [
    "### Remove Chinese words"
   ],
   "metadata": {}
  },
  {
   "cell_type": "code",
   "execution_count": 11,
   "source": [
    "def detect_chinese(row):\r\n",
    "    if str(row) == '':\r\n",
    "        return False\r\n",
    "    if re.search(\"[\\u4e00-\\u9FFF]\", str(row)):\r\n",
    "        return True\r\n",
    "    return False"
   ],
   "outputs": [],
   "metadata": {}
  },
  {
   "cell_type": "code",
   "execution_count": 12,
   "source": [
    "def remove_chinese(row):\r\n",
    "    regex = re.compile('[^\\u0020-\\u024F]')\r\n",
    "    return regex.sub('', str(row))\r\n",
    "\r\n",
    "def chinese_removal(df: pd.DataFrame) -> pd.DataFrame:\r\n",
    "    df_final = df.apply(remove_chinese) \r\n",
    "    return df_final"
   ],
   "outputs": [],
   "metadata": {}
  },
  {
   "cell_type": "markdown",
   "source": [
    "### Numerical Removal"
   ],
   "metadata": {}
  },
  {
   "cell_type": "code",
   "execution_count": 39,
   "source": [
    "def numerical_removal(df: pd.DataFrame) -> pd.DataFrame:\r\n",
    "    return df.str.replace('\\d+', '')"
   ],
   "outputs": [],
   "metadata": {}
  },
  {
   "cell_type": "markdown",
   "source": [
    "### Detect special characters"
   ],
   "metadata": {}
  },
  {
   "cell_type": "code",
   "execution_count": 90,
   "source": [
    "def special_detection(row):\r\n",
    "    try:\r\n",
    "        str(row).encode(encoding='utf-8').decode('ascii')\r\n",
    "    except UnicodeDecodeError:\r\n",
    "        return False\r\n",
    "    else:\r\n",
    "        return True"
   ],
   "outputs": [],
   "metadata": {}
  },
  {
   "cell_type": "code",
   "execution_count": 92,
   "source": [
    "df['Description'].apply(special_detection).value_counts()"
   ],
   "outputs": [
    {
     "output_type": "execute_result",
     "data": {
      "text/plain": [
       "True     111239\n",
       "False      6005\n",
       "Name: Description, dtype: int64"
      ]
     },
     "metadata": {},
     "execution_count": 92
    }
   ],
   "metadata": {}
  },
  {
   "cell_type": "markdown",
   "source": [
    "### Check"
   ],
   "metadata": {}
  },
  {
   "cell_type": "code",
   "execution_count": 13,
   "source": [
    "columns = ['Description', 'Short_description', 'Resolution_notes']"
   ],
   "outputs": [],
   "metadata": {}
  },
  {
   "cell_type": "code",
   "execution_count": 24,
   "source": [
    "# Remove html tags\r\n",
    "for column in columns:\r\n",
    "    df[column] = html_removal(df[column])"
   ],
   "outputs": [],
   "metadata": {}
  },
  {
   "cell_type": "code",
   "execution_count": 25,
   "source": [
    "# Check\r\n",
    "for column in columns:\r\n",
    "    print(\"Html tags check: \\n\", df[column].apply(detect_html_tags).value_counts())\r\n",
    "    print(\"=====\")"
   ],
   "outputs": [
    {
     "output_type": "stream",
     "name": "stdout",
     "text": [
      "Html tags check: \n",
      " False    117244\n",
      "True          1\n",
      "Name: Description, dtype: int64\n",
      "=====\n",
      "Html tags check: \n",
      " False    117245\n",
      "Name: Short_description, dtype: int64\n",
      "=====\n",
      "Html tags check: \n",
      " False    117245\n",
      "Name: Resolution_notes, dtype: int64\n",
      "=====\n"
     ]
    }
   ],
   "metadata": {}
  },
  {
   "cell_type": "code",
   "execution_count": 30,
   "source": [
    "html_tags = df['Description'].apply(detect_html_tags)\r\n",
    "df[html_tags]"
   ],
   "outputs": [
    {
     "output_type": "execute_result",
     "data": {
      "text/plain": [
       "           Number  Priority                      Incident_area        Opened  \\\n",
       "10604  INC0207504  P4 - Low  Business Application :: OpenText   43879.547245   \n",
       "\n",
       "             Closed  Status Problem Configuration_item  \\\n",
       "10604  43897.625023  Closed     NaN       GVECSM4802AD   \n",
       "\n",
       "                            Short_description  \\\n",
       "10604  Error moving content on Archive Server   \n",
       "\n",
       "                                             Description  \\\n",
       "10604  See the error message below and the attached d...   \n",
       "\n",
       "                  Assignment_group  \\\n",
       "10604  IMT TCS Document Management   \n",
       "\n",
       "                                        Resolution_notes  Reassignment_count  \\\n",
       "10604  We did disabled particular setting in AC admin...                 1.0   \n",
       "\n",
       "       Resolve_time  \n",
       "10604      694768.0  "
      ],
      "text/html": [
       "<div>\n",
       "<style scoped>\n",
       "    .dataframe tbody tr th:only-of-type {\n",
       "        vertical-align: middle;\n",
       "    }\n",
       "\n",
       "    .dataframe tbody tr th {\n",
       "        vertical-align: top;\n",
       "    }\n",
       "\n",
       "    .dataframe thead th {\n",
       "        text-align: right;\n",
       "    }\n",
       "</style>\n",
       "<table border=\"1\" class=\"dataframe\">\n",
       "  <thead>\n",
       "    <tr style=\"text-align: right;\">\n",
       "      <th></th>\n",
       "      <th>Number</th>\n",
       "      <th>Priority</th>\n",
       "      <th>Incident_area</th>\n",
       "      <th>Opened</th>\n",
       "      <th>Closed</th>\n",
       "      <th>Status</th>\n",
       "      <th>Problem</th>\n",
       "      <th>Configuration_item</th>\n",
       "      <th>Short_description</th>\n",
       "      <th>Description</th>\n",
       "      <th>Assignment_group</th>\n",
       "      <th>Resolution_notes</th>\n",
       "      <th>Reassignment_count</th>\n",
       "      <th>Resolve_time</th>\n",
       "    </tr>\n",
       "  </thead>\n",
       "  <tbody>\n",
       "    <tr>\n",
       "      <th>10604</th>\n",
       "      <td>INC0207504</td>\n",
       "      <td>P4 - Low</td>\n",
       "      <td>Business Application :: OpenText</td>\n",
       "      <td>43879.547245</td>\n",
       "      <td>43897.625023</td>\n",
       "      <td>Closed</td>\n",
       "      <td>NaN</td>\n",
       "      <td>GVECSM4802AD</td>\n",
       "      <td>Error moving content on Archive Server</td>\n",
       "      <td>See the error message below and the attached d...</td>\n",
       "      <td>IMT TCS Document Management</td>\n",
       "      <td>We did disabled particular setting in AC admin...</td>\n",
       "      <td>1.0</td>\n",
       "      <td>694768.0</td>\n",
       "    </tr>\n",
       "  </tbody>\n",
       "</table>\n",
       "</div>"
      ]
     },
     "metadata": {},
     "execution_count": 30
    }
   ],
   "metadata": {}
  },
  {
   "cell_type": "code",
   "execution_count": 16,
   "source": [
    "for column in columns:\r\n",
    "    df[column] = chinese_removal(df[column])"
   ],
   "outputs": [],
   "metadata": {}
  },
  {
   "cell_type": "code",
   "execution_count": 17,
   "source": [
    "for column in columns:\r\n",
    "    print(\"Html tags check: \\n\", df[column].apply(detect_chinese).value_counts())\r\n",
    "    print(\"=====\")"
   ],
   "outputs": [
    {
     "output_type": "stream",
     "name": "stdout",
     "text": [
      "Html tags check: \n",
      " False    117245\n",
      "Name: Description, dtype: int64\n",
      "=====\n",
      "Html tags check: \n",
      " False    117245\n",
      "Name: Short_description, dtype: int64\n",
      "=====\n",
      "Html tags check: \n",
      " False    117245\n",
      "Name: Resolution_notes, dtype: int64\n",
      "=====\n"
     ]
    }
   ],
   "metadata": {}
  },
  {
   "cell_type": "code",
   "execution_count": 35,
   "source": [
    "df.drop(df[df.Number == \"INC0207504\"].index, inplace=True)b"
   ],
   "outputs": [],
   "metadata": {}
  },
  {
   "cell_type": "code",
   "execution_count": 42,
   "source": [
    "for column in columns:\r\n",
    "    print(\"Html tags check: \\n\", df[column].apply(detect_html_tags).value_counts())\r\n",
    "    print(\"=====\")"
   ],
   "outputs": [
    {
     "output_type": "stream",
     "name": "stdout",
     "text": [
      "Html tags check: \n",
      " False    117244\n",
      "Name: Description, dtype: int64\n",
      "=====\n",
      "Html tags check: \n",
      " False    117244\n",
      "Name: Short_description, dtype: int64\n",
      "=====\n",
      "Html tags check: \n",
      " False    117244\n",
      "Name: Resolution_notes, dtype: int64\n",
      "=====\n"
     ]
    }
   ],
   "metadata": {}
  },
  {
   "cell_type": "code",
   "execution_count": 93,
   "source": [
    "# Remove numerical words \r\n",
    "for column in columns:\r\n",
    "    df[column] = numerical_removal(df[column])"
   ],
   "outputs": [
    {
     "output_type": "stream",
     "name": "stderr",
     "text": [
      "<ipython-input-39-581d5757fa09>:2: FutureWarning: The default value of regex will change from True to False in a future version.\n",
      "  return df.str.replace('\\d+', '')\n"
     ]
    }
   ],
   "metadata": {}
  },
  {
   "cell_type": "code",
   "execution_count": 95,
   "source": [
    "# Remove rows contains special characters"
   ],
   "outputs": [],
   "metadata": {}
  },
  {
   "cell_type": "code",
   "execution_count": 103,
   "source": [
    "for column in columns:\r\n",
    "    special_rows = df[column].apply(special_detection)\r\n",
    "    df[column] = df[column][special_rows]"
   ],
   "outputs": [],
   "metadata": {}
  },
  {
   "cell_type": "code",
   "execution_count": 104,
   "source": [
    "df.shape"
   ],
   "outputs": [
    {
     "output_type": "execute_result",
     "data": {
      "text/plain": [
       "(117244, 14)"
      ]
     },
     "metadata": {},
     "execution_count": 104
    }
   ],
   "metadata": {}
  },
  {
   "cell_type": "markdown",
   "source": [
    "## Export file"
   ],
   "metadata": {}
  },
  {
   "cell_type": "code",
   "execution_count": 106,
   "source": [
    "df.to_csv('Preprocessed_Data.csv', index=False)"
   ],
   "outputs": [],
   "metadata": {}
  },
  {
   "cell_type": "code",
   "execution_count": null,
   "source": [],
   "outputs": [],
   "metadata": {}
  }
 ],
 "metadata": {
  "kernelspec": {
   "display_name": "Python 3",
   "language": "python",
   "name": "python3"
  },
  "language_info": {
   "codemirror_mode": {
    "name": "ipython",
    "version": 3
   },
   "file_extension": ".py",
   "mimetype": "text/x-python",
   "name": "python",
   "nbconvert_exporter": "python",
   "pygments_lexer": "ipython3",
   "version": "3.8.8"
  },
  "toc": {
   "base_numbering": 1,
   "nav_menu": {},
   "number_sections": true,
   "sideBar": true,
   "skip_h1_title": false,
   "title_cell": "Table of Contents",
   "title_sidebar": "Contents",
   "toc_cell": false,
   "toc_position": {},
   "toc_section_display": true,
   "toc_window_display": false
  }
 },
 "nbformat": 4,
 "nbformat_minor": 5
}